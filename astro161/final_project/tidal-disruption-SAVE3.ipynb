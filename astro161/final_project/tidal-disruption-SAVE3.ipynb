{
 "cells": [
  {
   "cell_type": "markdown",
   "id": "3e217ca8",
   "metadata": {},
   "source": [
    "# ASTRON C161 Final Project\n",
    "---"
   ]
  },
  {
   "cell_type": "code",
   "execution_count": 2309,
   "id": "b99c9e9a",
   "metadata": {},
   "outputs": [],
   "source": [
    "import numpy as np\n",
    "from datetime import datetime\n",
    "from scipy import constants as consts\n",
    "import matplotlib.pyplot as plt\n",
    "import scipy.optimize as opt\n",
    "from matplotlib.animation import FFMpegWriter\n",
    "metadata = dict(title='Simulation', artist='Matplotlib',comment='Oh my')\n",
    "writer = FFMpegWriter(fps=15, metadata=metadata)"
   ]
  },
  {
   "cell_type": "markdown",
   "id": "21564388",
   "metadata": {},
   "source": [
    "## 1) Setting Up\n",
    "---"
   ]
  },
  {
   "cell_type": "markdown",
   "id": "2f810705",
   "metadata": {},
   "source": [
    "### 1.1: Defining constants"
   ]
  },
  {
   "cell_type": "code",
   "execution_count": 2310,
   "id": "e6cdbc57",
   "metadata": {},
   "outputs": [],
   "source": [
    "# Constants\n",
    "G = consts.G\n",
    "c = consts.c\n",
    "solar_radius = 6.957e8\n",
    "solar_mass = 1.989e30\n",
    "stellar_radius = solar_radius\n",
    "stellar_mass = solar_mass\n",
    "bh_mass = 4.1e6*stellar_mass # Mass of SMBH Sagittarius A\n",
    "bh_mass = 5*solar_mass\n",
    "N_swarm = 10000 # number of swarm particles\n",
    "ms = stellar_mass/N_swarm"
   ]
  },
  {
   "cell_type": "markdown",
   "id": "447a0c53",
   "metadata": {},
   "source": [
    "### 1.2: Useful functions + classes"
   ]
  },
  {
   "cell_type": "code",
   "execution_count": 2311,
   "id": "40436bb9",
   "metadata": {},
   "outputs": [],
   "source": [
    "def to_cart(r, theta, convert=True):\n",
    "    '''Convert set of polar coordinates to cartesian\n",
    "    The conversion parameter automatically assumes \n",
    "    that you need to convert the pixel units\n",
    "    and will divide the r values by 3e8'''\n",
    "    global conversion\n",
    "    if convert:\n",
    "        r = np.copy(r)\n",
    "        r/=conversion\n",
    "    return r*np.cos(theta), r*np.sin(theta)\n",
    "\n",
    "def to_polar(x, y):\n",
    "    '''Convert polar coordinates to cartesian'''\n",
    "    return np.sqrt(x**2 + y**2), np.arctan(y/x)\n",
    "\n",
    "def sch_radius(M):\n",
    "    '''Calculate the schwarzchild radius for a given M mass black hole'''\n",
    "    global G, c\n",
    "    return 2*G*M / c**2\n",
    "\n",
    "def tidal_radius(m, M, r_star):\n",
    "    '''Calculate the tidal radius, given a star and a black hole'''\n",
    "    return (M/m)**(1/3) * r_star\n",
    "\n",
    "def calc_dr_dtau(E, L, r, m=stellar_mass, M=bh_mass):\n",
    "    '''Calculate dr/dtau'''\n",
    "    global N_swarm\n",
    "#     m /= N_swarm\n",
    "    rs = sch_radius(M)\n",
    "    p1 = E**2 / (m**2 * c**2)\n",
    "    p2 = (L**2 / (m**2 * r**2)) * (1-(rs/r))\n",
    "    p3 = c**2 * (1-(rs/r))\n",
    "    return (p1-p2-p3)**(0.5)\n",
    "\n",
    "def EN(E, ms=ms):\n",
    "    global c\n",
    "    return ((E/(ms*c**2))**2 - 1) * ms*c**2 / 2\n",
    "\n",
    "def calc_dr_dtau_2(en, ms, M, rs):\n",
    "    global G\n",
    "    return np.sqrt(2*(en+(G*M*ms/rs))/ms)\n",
    "\n",
    "def energy(v, r, m, M):\n",
    "    '''Calculate the Lagrangian'''\n",
    "    global G\n",
    "    return 0.5*m*v**2 - (-G*M*m/r)\n",
    "    \n",
    "def ang_momentum(m, v, b):\n",
    "    return m*v*b\n",
    "\n",
    "def scale_up(rs):\n",
    "    global conversion\n",
    "    return np.copy(rs) * conversion"
   ]
  },
  {
   "cell_type": "markdown",
   "id": "093c8907",
   "metadata": {},
   "source": [
    "## 2) Initialization of Variables\n",
    "---"
   ]
  },
  {
   "cell_type": "markdown",
   "id": "c58186f8",
   "metadata": {},
   "source": [
    "Get the tidal radius via $r_T = (\\frac{M_{\\text{bh}}}{M_{\\text{star}}})^{1/3} R_{\\text{star}}$"
   ]
  },
  {
   "cell_type": "code",
   "execution_count": 2312,
   "id": "f32eaf96",
   "metadata": {},
   "outputs": [],
   "source": [
    "dtau = 0.001\n",
    "rt = tidal_radius(stellar_mass, bh_mass, stellar_radius)\n",
    "conversion = rt/3 + (0.1*rt/3) # One graphpixel corresponds to this many meters, which was calculated based on the tidal radius"
   ]
  },
  {
   "cell_type": "code",
   "execution_count": 2313,
   "id": "3b3eb824",
   "metadata": {},
   "outputs": [
    {
     "name": "stdout",
     "output_type": "stream",
     "text": [
      "4.362e+08\n"
     ]
    }
   ],
   "source": [
    "print('{:.3e}'.format(conversion))"
   ]
  },
  {
   "cell_type": "markdown",
   "id": "7d0c78ee",
   "metadata": {},
   "source": [
    "Swarm initiation"
   ]
  },
  {
   "cell_type": "code",
   "execution_count": 2314,
   "id": "fab123a1",
   "metadata": {},
   "outputs": [
    {
     "data": {
      "image/png": "[encoded data removed]",
      "text/plain": [
       "<Figure size 432x288 with 1 Axes>"
      ]
     },
     "metadata": {
      "needs_background": "light"
     },
     "output_type": "display_data"
    }
   ],
   "source": [
    "b = rt # + (0.1*rt) # impact parameter, a little bigger than tidal radius\n",
    "swarm = np.random.uniform(rt-stellar_radius, rt+stellar_radius, N_swarm-1)\n",
    "\n",
    "# Initial coordinates of the star in cartesian (b/c it's easier to work with)\n",
    "np.random.seed(2023)\n",
    "rs = np.append(b, swarm) # an array of starting radius (r) positions\n",
    "y_dis = 0 # y displacement\n",
    "init_xs = rs/conversion\n",
    "init_ys = np.random.uniform(-stellar_radius/conversion-y_dis, stellar_radius/conversion-y_dis, N_swarm)\n",
    "# init_ys = rs/conversion\n",
    "# init_xs = np.random.uniform(-stellar_radius/conversion, stellar_radius/conversion, N_swarm)\n",
    "\n",
    "# Edit the star so that it's a circle, like in Burkhard's class\n",
    "circle = lambda x, y, r: np.sqrt((x-(rt/conversion))**2 + (y+y_dis)**2) <= r\n",
    "idxs = np.where(circle(init_xs,init_ys,stellar_radius/conversion))[0]\n",
    "init_xs = init_xs[idxs]\n",
    "init_ys = init_ys[idxs]\n",
    "\n",
    "rt_phis = np.linspace(0, 2*np.pi, 100000)\n",
    "rt_rs = np.ones(100000)*rt\n",
    "xx, yy = to_cart(rt_rs, rt_phis)\n",
    "plt.plot(xx, yy, '.', color='red', markersize=1)\n",
    "\n",
    "rs, phis = to_polar(init_xs, init_ys)\n",
    "rs = scale_up(rs)\n",
    "plt.plot(init_xs, init_ys, '.')\n",
    "plt.ylim(-7,5)\n",
    "plt.xlim(-5,5)\n",
    "plt.grid(True)"
   ]
  },
  {
   "cell_type": "code",
   "execution_count": null,
   "id": "43cc1fc2",
   "metadata": {},
   "outputs": [],
   "source": []
  },
  {
   "cell_type": "markdown",
   "id": "79670f1b",
   "metadata": {},
   "source": [
    "### 2.1: Angular momentum and $\\frac{d\\phi}{d\\tau}$\n",
    "* Solving the Schwarzchild metric in terms of $\\frac{dr}{d\\tau}$, we get:\n",
    "    * $\\frac{dr}{d\\tau} = [\\frac{E^2}{m^2c^2} - \\frac{L^2}{m^2r^2}(1-\\frac{r_s}{r}) - c^2(1-\\frac{r_s}{r})]^{1/2}$\n",
    "* At the impact parameter b, the energy E of the middle of the star is defined as zero and $\\frac{dr}{d\\tau} = 0$, so the equation becomes\n",
    "    * $0 = \\frac{L^2}{m^2r^2}(1-\\frac{r_s}{r}) - c^2(1-\\frac{r_s}{r})$\n",
    "    * Which turns into: $L = mcr$\n",
    "    \n",
    "    \n",
    "    \n",
    "* Initiate all particles with the velocity of the center point, which is in a circular orbit\n",
    "    * $v = \\sqrt{\\frac{2GM}{r}}$"
   ]
  },
  {
   "cell_type": "code",
   "execution_count": 2315,
   "id": "50db44b6",
   "metadata": {},
   "outputs": [],
   "source": [
    "m = stellar_mass\n",
    "M = bh_mass\n",
    "b = rt # + (0.1*rt) # impact parameter, a little bigger than tidal radius"
   ]
  },
  {
   "cell_type": "code",
   "execution_count": 2316,
   "id": "b3e3c9d8",
   "metadata": {},
   "outputs": [],
   "source": [
    "dphi_dtau = np.sqrt(2*G*M/rt)"
   ]
  },
  {
   "cell_type": "code",
   "execution_count": 2317,
   "id": "e9ec32d5",
   "metadata": {},
   "outputs": [
    {
     "data": {
      "text/plain": [
       "1056365.6019455974"
      ]
     },
     "execution_count": 2317,
     "metadata": {},
     "output_type": "execute_result"
    }
   ],
   "source": [
    "dphi_dtau"
   ]
  },
  {
   "cell_type": "code",
   "execution_count": 2318,
   "id": "24d432af",
   "metadata": {},
   "outputs": [
    {
     "data": {
      "text/plain": [
       "array([ 2.32988121e+36, -7.17675760e+36,  1.45068472e+37, ...,\n",
       "        2.32183646e+37,  2.49156832e+37, -1.20664217e+37])"
      ]
     },
     "execution_count": 2318,
     "metadata": {},
     "output_type": "execute_result"
    }
   ],
   "source": [
    "Es = 0.5*ms*dphi_dtau**2 - (G*M*ms/rs)\n",
    "Es"
   ]
  },
  {
   "cell_type": "code",
   "execution_count": 2319,
   "id": "bacc51c0",
   "metadata": {},
   "outputs": [
    {
     "name": "stderr",
     "output_type": "stream",
     "text": [
      "/var/folders/44/p2_ff2f90sl05kvyytv51rq00000gn/T/ipykernel_3949/208099760.py:1: RuntimeWarning: invalid value encountered in sqrt\n",
      "  Ls = ((Es**2 * rs**2 / ((1-(r_sch/rs)))) - (ms**2 * c**2 * rs**2))**0.5\n"
     ]
    }
   ],
   "source": [
    "Ls = ((Es**2 * rs**2 / ((1-(r_sch/rs)))) - (ms**2 * c**2 * rs**2))**0.5"
   ]
  },
  {
   "cell_type": "code",
   "execution_count": 2320,
   "id": "fa9fccd2",
   "metadata": {},
   "outputs": [],
   "source": [
    "dphi_dtau = Ls / (ms*rs**2)"
   ]
  },
  {
   "cell_type": "code",
   "execution_count": 2321,
   "id": "5b83637e",
   "metadata": {},
   "outputs": [
    {
     "data": {
      "text/plain": [
       "1584.8134536761106"
      ]
     },
     "execution_count": 2321,
     "metadata": {},
     "output_type": "execute_result"
    }
   ],
   "source": [
    "max(dphi_dtau)"
   ]
  },
  {
   "cell_type": "code",
   "execution_count": 2322,
   "id": "61016fc0",
   "metadata": {},
   "outputs": [],
   "source": [
    "a = (1-(r_sch/rs))\n",
    "dr2 = (dphi_dtau**2*rs*a) + (c**2*r_sch*a/(2*rs**2)) - (G*M*ms*a/(2*rs**2)) "
   ]
  },
  {
   "cell_type": "code",
   "execution_count": 2323,
   "id": "66f5205a",
   "metadata": {},
   "outputs": [
    {
     "data": {
      "text/plain": [
       "7877"
      ]
     },
     "execution_count": 2323,
     "metadata": {},
     "output_type": "execute_result"
    }
   ],
   "source": [
    "len(rs)"
   ]
  },
  {
   "cell_type": "code",
   "execution_count": null,
   "id": "c72d6ae9",
   "metadata": {},
   "outputs": [],
   "source": []
  },
  {
   "cell_type": "code",
   "execution_count": null,
   "id": "a4d44434",
   "metadata": {},
   "outputs": [],
   "source": []
  },
  {
   "cell_type": "code",
   "execution_count": null,
   "id": "514257f7",
   "metadata": {},
   "outputs": [],
   "source": []
  },
  {
   "cell_type": "code",
   "execution_count": null,
   "id": "36a2a55b",
   "metadata": {},
   "outputs": [],
   "source": []
  },
  {
   "cell_type": "code",
   "execution_count": null,
   "id": "5be4ef73",
   "metadata": {},
   "outputs": [],
   "source": []
  },
  {
   "cell_type": "markdown",
   "id": "40f566ef",
   "metadata": {},
   "source": [
    "This is the constant of motion L for the point of the star AT THE TIDAL RADIUS. It assumes that E = 0. This is only true, of course, at the tidal radius, where we define that E = 0."
   ]
  },
  {
   "cell_type": "code",
   "execution_count": 2324,
   "id": "076d222c",
   "metadata": {},
   "outputs": [
    {
     "data": {
      "text/plain": [
       "7.093612991749633e+43"
      ]
     },
     "execution_count": 2324,
     "metadata": {},
     "output_type": "execute_result"
    }
   ],
   "source": [
    "mm = ms\n",
    "L = -((G*M*mm/rt) - (mm*c**2/2)) / ((1/(2*mm*rt**2)) - (G*M/(rt**3*mm*c**2)))\n",
    "L**0.5"
   ]
  },
  {
   "cell_type": "code",
   "execution_count": 2325,
   "id": "61346a05",
   "metadata": {},
   "outputs": [
    {
     "data": {
      "text/plain": [
       "7.093612991749633e+43"
      ]
     },
     "execution_count": 2325,
     "metadata": {},
     "output_type": "execute_result"
    }
   ],
   "source": [
    "L = mm * b * c\n",
    "L"
   ]
  },
  {
   "cell_type": "markdown",
   "id": "0b46d008",
   "metadata": {},
   "source": [
    "For an r that is closer inward than the impact parameter"
   ]
  },
  {
   "cell_type": "code",
   "execution_count": 2326,
   "id": "2f0c8be9",
   "metadata": {},
   "outputs": [
    {
     "data": {
      "text/plain": [
       "2.611088839173694e+43"
      ]
     },
     "execution_count": 2326,
     "metadata": {},
     "output_type": "execute_result"
    }
   ],
   "source": [
    "rr = rs[rs<r][0]\n",
    "E = (((L**2 * c**2 / rr**2) * (1 - (r_sch/rr))) + (mm**2 * c**4 * (1-(r_sch/rr))))**0.5\n",
    "E"
   ]
  },
  {
   "cell_type": "code",
   "execution_count": null,
   "id": "13c2b922",
   "metadata": {},
   "outputs": [],
   "source": []
  },
  {
   "cell_type": "code",
   "execution_count": null,
   "id": "bfece209",
   "metadata": {},
   "outputs": [],
   "source": []
  },
  {
   "cell_type": "markdown",
   "id": "39244594",
   "metadata": {},
   "source": [
    "### 2.2: Energy and $\\frac{dr}{d\\tau}$"
   ]
  },
  {
   "cell_type": "markdown",
   "id": "364371db",
   "metadata": {},
   "source": [
    "For the midpoint of the star at the impact parameter:"
   ]
  },
  {
   "cell_type": "code",
   "execution_count": 2327,
   "id": "97462581",
   "metadata": {},
   "outputs": [
    {
     "data": {
      "text/plain": [
       "2.528066482074344e+43"
      ]
     },
     "execution_count": 2327,
     "metadata": {},
     "output_type": "execute_result"
    }
   ],
   "source": [
    "a = (1-(r_sch/b))\n",
    "E = (L**2 * c**2 * a / b**2 + mm**2 * c**4 * a)**0.5\n",
    "E"
   ]
  },
  {
   "cell_type": "code",
   "execution_count": 2328,
   "id": "65784822",
   "metadata": {},
   "outputs": [],
   "source": [
    "r2 = rs-b"
   ]
  },
  {
   "cell_type": "code",
   "execution_count": 2329,
   "id": "4e926634",
   "metadata": {},
   "outputs": [],
   "source": [
    "E = r2*1e35"
   ]
  },
  {
   "cell_type": "code",
   "execution_count": 2330,
   "id": "b6794af0",
   "metadata": {},
   "outputs": [],
   "source": [
    "a = (1-(r_sch/rs))"
   ]
  },
  {
   "cell_type": "code",
   "execution_count": null,
   "id": "9757c7ad",
   "metadata": {},
   "outputs": [],
   "source": []
  },
  {
   "cell_type": "code",
   "execution_count": null,
   "id": "6cf7679f",
   "metadata": {},
   "outputs": [],
   "source": []
  },
  {
   "cell_type": "code",
   "execution_count": null,
   "id": "b7767e82",
   "metadata": {},
   "outputs": [],
   "source": []
  },
  {
   "cell_type": "code",
   "execution_count": null,
   "id": "adca0a52",
   "metadata": {},
   "outputs": [],
   "source": []
  },
  {
   "cell_type": "code",
   "execution_count": null,
   "id": "aa57547a",
   "metadata": {},
   "outputs": [],
   "source": []
  },
  {
   "cell_type": "code",
   "execution_count": 2331,
   "id": "bb45e7e8",
   "metadata": {},
   "outputs": [
    {
     "name": "stderr",
     "output_type": "stream",
     "text": [
      "/var/folders/44/p2_ff2f90sl05kvyytv51rq00000gn/T/ipykernel_3949/2846508123.py:33: RuntimeWarning: invalid value encountered in sqrt\n",
      "  return (p1-p2-p3)**(0.5)\n"
     ]
    },
    {
     "data": {
      "text/plain": [
       "(array([-1.08647198e+42, -1.18153837e+42, -9.64702317e+41, ...,\n",
       "        -8.77587143e+41, -8.60613958e+41, -1.23043501e+42]),\n",
       " 8.987551787368174e+16)"
      ]
     },
     "execution_count": 2331,
     "metadata": {},
     "output_type": "execute_result"
    }
   ],
   "source": [
    "r = b\n",
    "E = energy(v, rs, m, M)\n",
    "E = (m/N_swarm) * c**2\n",
    "dr_dtau = calc_dr_dtau(E, L, rs)\n",
    "0.5*m*(v/rs)**2 - G*M*m/rs, E**2/((m/N_swarm)**2 * c**2)\n",
    "# E**2 /( m**2 * c**2)"
   ]
  },
  {
   "cell_type": "markdown",
   "id": "c0531409",
   "metadata": {},
   "source": [
    "### 2.3: Acceleration of the radial component $\\frac{d^2 r}{d\\tau^2}$\n",
    "* Equation of motion solution using the Lagrangian: $\\frac{d^2 r}{d\\tau^2} = \\frac{d^2\\phi}{d\\tau ^2}r\\alpha + \\frac{r_s (\\frac{dr}{d\\tau})^2}{2r^2\\alpha} + \\frac{c^2r_s\\alpha}{2r^2} - \\frac{GMm\\alpha}{2r^2} - \\frac{(\\frac{dr}{d\\tau})^2 r_s}{\\alpha r}$"
   ]
  },
  {
   "cell_type": "code",
   "execution_count": 2333,
   "id": "b96dd194",
   "metadata": {},
   "outputs": [
    {
     "data": {
      "text/plain": [
       "array([4.47050402e+28, 5.28706470e+28, 3.52457427e+28, ...,\n",
       "       2.91676171e+28, 2.80502863e+28, 5.73371482e+28])"
      ]
     },
     "execution_count": 2333,
     "metadata": {},
     "output_type": "execute_result"
    }
   ],
   "source": [
    "r_sch = sch_radius(bh_mass)\n",
    "alpha = ((r_sch/rs)-1)\n",
    "\n",
    "p1 = acc_phi*rs*alpha\n",
    "p2 = r_sch * dr_dtau**2 / (2*rs**2 * alpha)\n",
    "p3 = c**2 * r_sch * alpha / (2*rs**2)\n",
    "p4 = G*M*ms*alpha / (2*rs**2)\n",
    "p5 = dr_dtau**2 * r_sch / (alpha*rs)\n",
    "acc_r = p1 + p3 - p4\n",
    "acc_r"
   ]
  },
  {
   "cell_type": "code",
   "execution_count": 2334,
   "id": "0f98bee5",
   "metadata": {},
   "outputs": [
    {
     "name": "stderr",
     "output_type": "stream",
     "text": [
      "/var/folders/44/p2_ff2f90sl05kvyytv51rq00000gn/T/ipykernel_3949/2846508123.py:33: RuntimeWarning: invalid value encountered in sqrt\n",
      "  return (p1-p2-p3)**(0.5)\n"
     ]
    },
    {
     "data": {
      "text/plain": [
       "array([nan, nan, nan, ..., nan, nan, nan])"
      ]
     },
     "execution_count": 2334,
     "metadata": {},
     "output_type": "execute_result"
    }
   ],
   "source": [
    "calc_dr_dtau(E, L, rs)"
   ]
  },
  {
   "cell_type": "code",
   "execution_count": 2335,
   "id": "f330bda3",
   "metadata": {},
   "outputs": [
    {
     "data": {
      "text/plain": [
       "0.44026913799669926"
      ]
     },
     "execution_count": 2335,
     "metadata": {},
     "output_type": "execute_result"
    }
   ],
   "source": [
    "len(Es[Es<0]) / len(Es)"
   ]
  },
  {
   "cell_type": "code",
   "execution_count": null,
   "id": "9e838ebc",
   "metadata": {},
   "outputs": [],
   "source": []
  },
  {
   "cell_type": "code",
   "execution_count": 2336,
   "id": "7a5fe62c",
   "metadata": {},
   "outputs": [],
   "source": [
    "dphi = Ls / (ms*rs**2) * dtau"
   ]
  },
  {
   "cell_type": "code",
   "execution_count": 2337,
   "id": "bddb91a9",
   "metadata": {},
   "outputs": [],
   "source": [
    "dr = np.zeros(7877)"
   ]
  },
  {
   "cell_type": "markdown",
   "id": "065488b2",
   "metadata": {},
   "source": [
    "### Test simulation with only $\\frac{d\\phi}{d\\tau}$"
   ]
  },
  {
   "cell_type": "code",
   "execution_count": 2338,
   "id": "2db9031f",
   "metadata": {},
   "outputs": [
    {
     "name": "stdout",
     "output_type": "stream",
     "text": [
      "[0.00010159 0.00010159 0.00010159 ... 0.00010159 0.00010159 0.00010159] [2.72727273 2.72727273 2.72727273 ... 2.72727273 2.72727273 2.72727273]\n",
      "7877 7877\n",
      "7877 7877\n",
      "7877 7877\n",
      "7877 7877\n",
      "7877 7877\n",
      "7877 7877\n",
      "7877 7877\n",
      "7877 7877\n",
      "7877 7877\n",
      "7877 7877\n",
      "7877 7877\n",
      "7877 7877\n",
      "7877 7877\n",
      "7877 7877\n",
      "7877 7877\n",
      "7877 7877\n",
      "7877 7877\n",
      "7877 7877\n",
      "7877 7877\n",
      "7877 7877\n"
     ]
    },
    {
     "name": "stderr",
     "output_type": "stream",
     "text": [
      "/var/folders/44/p2_ff2f90sl05kvyytv51rq00000gn/T/ipykernel_3949/1571925363.py:32: RuntimeWarning: overflow encountered in multiply\n",
      "  dphi = Ls / (ms*rs**2) * dtau\n",
      "/var/folders/44/p2_ff2f90sl05kvyytv51rq00000gn/T/ipykernel_3949/1571925363.py:32: RuntimeWarning: overflow encountered in multiply\n",
      "  dphi = Ls / (ms*rs**2) * dtau\n",
      "/var/folders/44/p2_ff2f90sl05kvyytv51rq00000gn/T/ipykernel_3949/1571925363.py:32: RuntimeWarning: overflow encountered in square\n",
      "  dphi = Ls / (ms*rs**2) * dtau\n",
      "/var/folders/44/p2_ff2f90sl05kvyytv51rq00000gn/T/ipykernel_3949/1571925363.py:32: RuntimeWarning: overflow encountered in multiply\n",
      "  dphi = Ls / (ms*rs**2) * dtau\n",
      "/var/folders/44/p2_ff2f90sl05kvyytv51rq00000gn/T/ipykernel_3949/1571925363.py:39: RuntimeWarning: overflow encountered in square\n",
      "  dr2 = (dphi_dtau**2*rs*a) + (c**2*r_sch*a/(2*rs**2)) - (G*M*ms*a/(2*rs**2)) * dtau\n"
     ]
    },
    {
     "name": "stdout",
     "output_type": "stream",
     "text": [
      "7877 7877\n",
      "7877 7877\n",
      "7877 7877\n"
     ]
    },
    {
     "name": "stderr",
     "output_type": "stream",
     "text": [
      "/var/folders/44/p2_ff2f90sl05kvyytv51rq00000gn/T/ipykernel_3949/1571925363.py:32: RuntimeWarning: overflow encountered in square\n",
      "  dphi = Ls / (ms*rs**2) * dtau\n",
      "/var/folders/44/p2_ff2f90sl05kvyytv51rq00000gn/T/ipykernel_3949/1571925363.py:32: RuntimeWarning: overflow encountered in multiply\n",
      "  dphi = Ls / (ms*rs**2) * dtau\n",
      "/var/folders/44/p2_ff2f90sl05kvyytv51rq00000gn/T/ipykernel_3949/1571925363.py:39: RuntimeWarning: overflow encountered in square\n",
      "  dr2 = (dphi_dtau**2*rs*a) + (c**2*r_sch*a/(2*rs**2)) - (G*M*ms*a/(2*rs**2)) * dtau\n",
      "/var/folders/44/p2_ff2f90sl05kvyytv51rq00000gn/T/ipykernel_3949/1571925363.py:39: RuntimeWarning: overflow encountered in multiply\n",
      "  dr2 = (dphi_dtau**2*rs*a) + (c**2*r_sch*a/(2*rs**2)) - (G*M*ms*a/(2*rs**2)) * dtau\n",
      "/var/folders/44/p2_ff2f90sl05kvyytv51rq00000gn/T/ipykernel_3949/1571925363.py:32: RuntimeWarning: overflow encountered in square\n",
      "  dphi = Ls / (ms*rs**2) * dtau\n",
      "/var/folders/44/p2_ff2f90sl05kvyytv51rq00000gn/T/ipykernel_3949/1571925363.py:32: RuntimeWarning: overflow encountered in multiply\n",
      "  dphi = Ls / (ms*rs**2) * dtau\n",
      "/var/folders/44/p2_ff2f90sl05kvyytv51rq00000gn/T/ipykernel_3949/1571925363.py:39: RuntimeWarning: overflow encountered in square\n",
      "  dr2 = (dphi_dtau**2*rs*a) + (c**2*r_sch*a/(2*rs**2)) - (G*M*ms*a/(2*rs**2)) * dtau\n",
      "/var/folders/44/p2_ff2f90sl05kvyytv51rq00000gn/T/ipykernel_3949/1571925363.py:39: RuntimeWarning: overflow encountered in multiply\n",
      "  dr2 = (dphi_dtau**2*rs*a) + (c**2*r_sch*a/(2*rs**2)) - (G*M*ms*a/(2*rs**2)) * dtau\n",
      "/var/folders/44/p2_ff2f90sl05kvyytv51rq00000gn/T/ipykernel_3949/1571925363.py:32: RuntimeWarning: overflow encountered in square\n",
      "  dphi = Ls / (ms*rs**2) * dtau\n",
      "/var/folders/44/p2_ff2f90sl05kvyytv51rq00000gn/T/ipykernel_3949/1571925363.py:32: RuntimeWarning: overflow encountered in multiply\n",
      "  dphi = Ls / (ms*rs**2) * dtau\n",
      "/var/folders/44/p2_ff2f90sl05kvyytv51rq00000gn/T/ipykernel_3949/1571925363.py:39: RuntimeWarning: overflow encountered in square\n",
      "  dr2 = (dphi_dtau**2*rs*a) + (c**2*r_sch*a/(2*rs**2)) - (G*M*ms*a/(2*rs**2)) * dtau\n",
      "/var/folders/44/p2_ff2f90sl05kvyytv51rq00000gn/T/ipykernel_3949/1571925363.py:39: RuntimeWarning: overflow encountered in multiply\n",
      "  dr2 = (dphi_dtau**2*rs*a) + (c**2*r_sch*a/(2*rs**2)) - (G*M*ms*a/(2*rs**2)) * dtau\n"
     ]
    },
    {
     "name": "stdout",
     "output_type": "stream",
     "text": [
      "7877 7877\n",
      "7877 7877\n",
      "7877 7877\n"
     ]
    },
    {
     "name": "stderr",
     "output_type": "stream",
     "text": [
      "/var/folders/44/p2_ff2f90sl05kvyytv51rq00000gn/T/ipykernel_3949/1571925363.py:32: RuntimeWarning: overflow encountered in square\n",
      "  dphi = Ls / (ms*rs**2) * dtau\n",
      "/var/folders/44/p2_ff2f90sl05kvyytv51rq00000gn/T/ipykernel_3949/1571925363.py:32: RuntimeWarning: overflow encountered in multiply\n",
      "  dphi = Ls / (ms*rs**2) * dtau\n",
      "/var/folders/44/p2_ff2f90sl05kvyytv51rq00000gn/T/ipykernel_3949/1571925363.py:39: RuntimeWarning: overflow encountered in square\n",
      "  dr2 = (dphi_dtau**2*rs*a) + (c**2*r_sch*a/(2*rs**2)) - (G*M*ms*a/(2*rs**2)) * dtau\n",
      "/var/folders/44/p2_ff2f90sl05kvyytv51rq00000gn/T/ipykernel_3949/1571925363.py:39: RuntimeWarning: overflow encountered in multiply\n",
      "  dr2 = (dphi_dtau**2*rs*a) + (c**2*r_sch*a/(2*rs**2)) - (G*M*ms*a/(2*rs**2)) * dtau\n",
      "/var/folders/44/p2_ff2f90sl05kvyytv51rq00000gn/T/ipykernel_3949/1571925363.py:32: RuntimeWarning: overflow encountered in square\n",
      "  dphi = Ls / (ms*rs**2) * dtau\n",
      "/var/folders/44/p2_ff2f90sl05kvyytv51rq00000gn/T/ipykernel_3949/1571925363.py:32: RuntimeWarning: overflow encountered in multiply\n",
      "  dphi = Ls / (ms*rs**2) * dtau\n",
      "/var/folders/44/p2_ff2f90sl05kvyytv51rq00000gn/T/ipykernel_3949/1571925363.py:39: RuntimeWarning: overflow encountered in square\n",
      "  dr2 = (dphi_dtau**2*rs*a) + (c**2*r_sch*a/(2*rs**2)) - (G*M*ms*a/(2*rs**2)) * dtau\n",
      "/var/folders/44/p2_ff2f90sl05kvyytv51rq00000gn/T/ipykernel_3949/1571925363.py:39: RuntimeWarning: overflow encountered in multiply\n",
      "  dr2 = (dphi_dtau**2*rs*a) + (c**2*r_sch*a/(2*rs**2)) - (G*M*ms*a/(2*rs**2)) * dtau\n",
      "/var/folders/44/p2_ff2f90sl05kvyytv51rq00000gn/T/ipykernel_3949/1571925363.py:32: RuntimeWarning: overflow encountered in square\n",
      "  dphi = Ls / (ms*rs**2) * dtau\n",
      "/var/folders/44/p2_ff2f90sl05kvyytv51rq00000gn/T/ipykernel_3949/1571925363.py:32: RuntimeWarning: overflow encountered in multiply\n",
      "  dphi = Ls / (ms*rs**2) * dtau\n",
      "/var/folders/44/p2_ff2f90sl05kvyytv51rq00000gn/T/ipykernel_3949/1571925363.py:39: RuntimeWarning: overflow encountered in square\n",
      "  dr2 = (dphi_dtau**2*rs*a) + (c**2*r_sch*a/(2*rs**2)) - (G*M*ms*a/(2*rs**2)) * dtau\n",
      "/var/folders/44/p2_ff2f90sl05kvyytv51rq00000gn/T/ipykernel_3949/1571925363.py:39: RuntimeWarning: overflow encountered in multiply\n",
      "  dr2 = (dphi_dtau**2*rs*a) + (c**2*r_sch*a/(2*rs**2)) - (G*M*ms*a/(2*rs**2)) * dtau\n"
     ]
    },
    {
     "name": "stdout",
     "output_type": "stream",
     "text": [
      "7877 7877\n",
      "7877 7877\n",
      "7877 7877\n"
     ]
    },
    {
     "name": "stderr",
     "output_type": "stream",
     "text": [
      "/var/folders/44/p2_ff2f90sl05kvyytv51rq00000gn/T/ipykernel_3949/1571925363.py:32: RuntimeWarning: overflow encountered in square\n",
      "  dphi = Ls / (ms*rs**2) * dtau\n",
      "/var/folders/44/p2_ff2f90sl05kvyytv51rq00000gn/T/ipykernel_3949/1571925363.py:32: RuntimeWarning: overflow encountered in multiply\n",
      "  dphi = Ls / (ms*rs**2) * dtau\n",
      "/var/folders/44/p2_ff2f90sl05kvyytv51rq00000gn/T/ipykernel_3949/1571925363.py:39: RuntimeWarning: overflow encountered in square\n",
      "  dr2 = (dphi_dtau**2*rs*a) + (c**2*r_sch*a/(2*rs**2)) - (G*M*ms*a/(2*rs**2)) * dtau\n",
      "/var/folders/44/p2_ff2f90sl05kvyytv51rq00000gn/T/ipykernel_3949/1571925363.py:39: RuntimeWarning: overflow encountered in multiply\n",
      "  dr2 = (dphi_dtau**2*rs*a) + (c**2*r_sch*a/(2*rs**2)) - (G*M*ms*a/(2*rs**2)) * dtau\n",
      "/var/folders/44/p2_ff2f90sl05kvyytv51rq00000gn/T/ipykernel_3949/1571925363.py:32: RuntimeWarning: overflow encountered in square\n",
      "  dphi = Ls / (ms*rs**2) * dtau\n",
      "/var/folders/44/p2_ff2f90sl05kvyytv51rq00000gn/T/ipykernel_3949/1571925363.py:32: RuntimeWarning: overflow encountered in multiply\n",
      "  dphi = Ls / (ms*rs**2) * dtau\n",
      "/var/folders/44/p2_ff2f90sl05kvyytv51rq00000gn/T/ipykernel_3949/1571925363.py:39: RuntimeWarning: overflow encountered in square\n",
      "  dr2 = (dphi_dtau**2*rs*a) + (c**2*r_sch*a/(2*rs**2)) - (G*M*ms*a/(2*rs**2)) * dtau\n",
      "/var/folders/44/p2_ff2f90sl05kvyytv51rq00000gn/T/ipykernel_3949/1571925363.py:39: RuntimeWarning: overflow encountered in multiply\n",
      "  dr2 = (dphi_dtau**2*rs*a) + (c**2*r_sch*a/(2*rs**2)) - (G*M*ms*a/(2*rs**2)) * dtau\n",
      "/var/folders/44/p2_ff2f90sl05kvyytv51rq00000gn/T/ipykernel_3949/1571925363.py:32: RuntimeWarning: overflow encountered in square\n",
      "  dphi = Ls / (ms*rs**2) * dtau\n",
      "/var/folders/44/p2_ff2f90sl05kvyytv51rq00000gn/T/ipykernel_3949/1571925363.py:32: RuntimeWarning: overflow encountered in multiply\n",
      "  dphi = Ls / (ms*rs**2) * dtau\n",
      "/var/folders/44/p2_ff2f90sl05kvyytv51rq00000gn/T/ipykernel_3949/1571925363.py:39: RuntimeWarning: overflow encountered in square\n",
      "  dr2 = (dphi_dtau**2*rs*a) + (c**2*r_sch*a/(2*rs**2)) - (G*M*ms*a/(2*rs**2)) * dtau\n",
      "/var/folders/44/p2_ff2f90sl05kvyytv51rq00000gn/T/ipykernel_3949/1571925363.py:39: RuntimeWarning: overflow encountered in multiply\n",
      "  dr2 = (dphi_dtau**2*rs*a) + (c**2*r_sch*a/(2*rs**2)) - (G*M*ms*a/(2*rs**2)) * dtau\n"
     ]
    },
    {
     "name": "stdout",
     "output_type": "stream",
     "text": [
      "7877 7877\n",
      "7877 7877\n",
      "7877 7877\n"
     ]
    },
    {
     "name": "stderr",
     "output_type": "stream",
     "text": [
      "/var/folders/44/p2_ff2f90sl05kvyytv51rq00000gn/T/ipykernel_3949/1571925363.py:32: RuntimeWarning: overflow encountered in square\n",
      "  dphi = Ls / (ms*rs**2) * dtau\n",
      "/var/folders/44/p2_ff2f90sl05kvyytv51rq00000gn/T/ipykernel_3949/1571925363.py:32: RuntimeWarning: overflow encountered in multiply\n",
      "  dphi = Ls / (ms*rs**2) * dtau\n",
      "/var/folders/44/p2_ff2f90sl05kvyytv51rq00000gn/T/ipykernel_3949/1571925363.py:39: RuntimeWarning: overflow encountered in square\n",
      "  dr2 = (dphi_dtau**2*rs*a) + (c**2*r_sch*a/(2*rs**2)) - (G*M*ms*a/(2*rs**2)) * dtau\n",
      "/var/folders/44/p2_ff2f90sl05kvyytv51rq00000gn/T/ipykernel_3949/1571925363.py:39: RuntimeWarning: overflow encountered in multiply\n",
      "  dr2 = (dphi_dtau**2*rs*a) + (c**2*r_sch*a/(2*rs**2)) - (G*M*ms*a/(2*rs**2)) * dtau\n",
      "/var/folders/44/p2_ff2f90sl05kvyytv51rq00000gn/T/ipykernel_3949/1571925363.py:32: RuntimeWarning: overflow encountered in square\n",
      "  dphi = Ls / (ms*rs**2) * dtau\n",
      "/var/folders/44/p2_ff2f90sl05kvyytv51rq00000gn/T/ipykernel_3949/1571925363.py:32: RuntimeWarning: overflow encountered in multiply\n",
      "  dphi = Ls / (ms*rs**2) * dtau\n",
      "/var/folders/44/p2_ff2f90sl05kvyytv51rq00000gn/T/ipykernel_3949/1571925363.py:39: RuntimeWarning: overflow encountered in square\n",
      "  dr2 = (dphi_dtau**2*rs*a) + (c**2*r_sch*a/(2*rs**2)) - (G*M*ms*a/(2*rs**2)) * dtau\n",
      "/var/folders/44/p2_ff2f90sl05kvyytv51rq00000gn/T/ipykernel_3949/1571925363.py:39: RuntimeWarning: overflow encountered in multiply\n",
      "  dr2 = (dphi_dtau**2*rs*a) + (c**2*r_sch*a/(2*rs**2)) - (G*M*ms*a/(2*rs**2)) * dtau\n",
      "/var/folders/44/p2_ff2f90sl05kvyytv51rq00000gn/T/ipykernel_3949/1571925363.py:32: RuntimeWarning: overflow encountered in square\n",
      "  dphi = Ls / (ms*rs**2) * dtau\n",
      "/var/folders/44/p2_ff2f90sl05kvyytv51rq00000gn/T/ipykernel_3949/1571925363.py:32: RuntimeWarning: overflow encountered in multiply\n",
      "  dphi = Ls / (ms*rs**2) * dtau\n",
      "/var/folders/44/p2_ff2f90sl05kvyytv51rq00000gn/T/ipykernel_3949/1571925363.py:39: RuntimeWarning: overflow encountered in square\n",
      "  dr2 = (dphi_dtau**2*rs*a) + (c**2*r_sch*a/(2*rs**2)) - (G*M*ms*a/(2*rs**2)) * dtau\n",
      "/var/folders/44/p2_ff2f90sl05kvyytv51rq00000gn/T/ipykernel_3949/1571925363.py:39: RuntimeWarning: overflow encountered in multiply\n",
      "  dr2 = (dphi_dtau**2*rs*a) + (c**2*r_sch*a/(2*rs**2)) - (G*M*ms*a/(2*rs**2)) * dtau\n"
     ]
    },
    {
     "name": "stdout",
     "output_type": "stream",
     "text": [
      "7877 7877\n",
      "7877 7877\n",
      "7877 7877\n"
     ]
    },
    {
     "name": "stderr",
     "output_type": "stream",
     "text": [
      "/var/folders/44/p2_ff2f90sl05kvyytv51rq00000gn/T/ipykernel_3949/1571925363.py:32: RuntimeWarning: overflow encountered in square\n",
      "  dphi = Ls / (ms*rs**2) * dtau\n",
      "/var/folders/44/p2_ff2f90sl05kvyytv51rq00000gn/T/ipykernel_3949/1571925363.py:32: RuntimeWarning: overflow encountered in multiply\n",
      "  dphi = Ls / (ms*rs**2) * dtau\n",
      "/var/folders/44/p2_ff2f90sl05kvyytv51rq00000gn/T/ipykernel_3949/1571925363.py:39: RuntimeWarning: overflow encountered in square\n",
      "  dr2 = (dphi_dtau**2*rs*a) + (c**2*r_sch*a/(2*rs**2)) - (G*M*ms*a/(2*rs**2)) * dtau\n",
      "/var/folders/44/p2_ff2f90sl05kvyytv51rq00000gn/T/ipykernel_3949/1571925363.py:39: RuntimeWarning: overflow encountered in multiply\n",
      "  dr2 = (dphi_dtau**2*rs*a) + (c**2*r_sch*a/(2*rs**2)) - (G*M*ms*a/(2*rs**2)) * dtau\n",
      "/var/folders/44/p2_ff2f90sl05kvyytv51rq00000gn/T/ipykernel_3949/1571925363.py:32: RuntimeWarning: overflow encountered in square\n",
      "  dphi = Ls / (ms*rs**2) * dtau\n",
      "/var/folders/44/p2_ff2f90sl05kvyytv51rq00000gn/T/ipykernel_3949/1571925363.py:32: RuntimeWarning: overflow encountered in multiply\n",
      "  dphi = Ls / (ms*rs**2) * dtau\n",
      "/var/folders/44/p2_ff2f90sl05kvyytv51rq00000gn/T/ipykernel_3949/1571925363.py:39: RuntimeWarning: overflow encountered in square\n",
      "  dr2 = (dphi_dtau**2*rs*a) + (c**2*r_sch*a/(2*rs**2)) - (G*M*ms*a/(2*rs**2)) * dtau\n",
      "/var/folders/44/p2_ff2f90sl05kvyytv51rq00000gn/T/ipykernel_3949/1571925363.py:39: RuntimeWarning: overflow encountered in multiply\n",
      "  dr2 = (dphi_dtau**2*rs*a) + (c**2*r_sch*a/(2*rs**2)) - (G*M*ms*a/(2*rs**2)) * dtau\n",
      "/var/folders/44/p2_ff2f90sl05kvyytv51rq00000gn/T/ipykernel_3949/1571925363.py:32: RuntimeWarning: overflow encountered in square\n",
      "  dphi = Ls / (ms*rs**2) * dtau\n",
      "/var/folders/44/p2_ff2f90sl05kvyytv51rq00000gn/T/ipykernel_3949/1571925363.py:32: RuntimeWarning: overflow encountered in multiply\n",
      "  dphi = Ls / (ms*rs**2) * dtau\n",
      "/var/folders/44/p2_ff2f90sl05kvyytv51rq00000gn/T/ipykernel_3949/1571925363.py:39: RuntimeWarning: overflow encountered in square\n",
      "  dr2 = (dphi_dtau**2*rs*a) + (c**2*r_sch*a/(2*rs**2)) - (G*M*ms*a/(2*rs**2)) * dtau\n",
      "/var/folders/44/p2_ff2f90sl05kvyytv51rq00000gn/T/ipykernel_3949/1571925363.py:39: RuntimeWarning: overflow encountered in multiply\n",
      "  dr2 = (dphi_dtau**2*rs*a) + (c**2*r_sch*a/(2*rs**2)) - (G*M*ms*a/(2*rs**2)) * dtau\n"
     ]
    },
    {
     "name": "stdout",
     "output_type": "stream",
     "text": [
      "7877 7877\n",
      "7877 7877\n",
      "7877 7877\n"
     ]
    },
    {
     "name": "stderr",
     "output_type": "stream",
     "text": [
      "/var/folders/44/p2_ff2f90sl05kvyytv51rq00000gn/T/ipykernel_3949/1571925363.py:32: RuntimeWarning: overflow encountered in square\n",
      "  dphi = Ls / (ms*rs**2) * dtau\n",
      "/var/folders/44/p2_ff2f90sl05kvyytv51rq00000gn/T/ipykernel_3949/1571925363.py:32: RuntimeWarning: overflow encountered in multiply\n",
      "  dphi = Ls / (ms*rs**2) * dtau\n",
      "/var/folders/44/p2_ff2f90sl05kvyytv51rq00000gn/T/ipykernel_3949/1571925363.py:39: RuntimeWarning: overflow encountered in square\n",
      "  dr2 = (dphi_dtau**2*rs*a) + (c**2*r_sch*a/(2*rs**2)) - (G*M*ms*a/(2*rs**2)) * dtau\n",
      "/var/folders/44/p2_ff2f90sl05kvyytv51rq00000gn/T/ipykernel_3949/1571925363.py:39: RuntimeWarning: overflow encountered in multiply\n",
      "  dr2 = (dphi_dtau**2*rs*a) + (c**2*r_sch*a/(2*rs**2)) - (G*M*ms*a/(2*rs**2)) * dtau\n",
      "/var/folders/44/p2_ff2f90sl05kvyytv51rq00000gn/T/ipykernel_3949/1571925363.py:32: RuntimeWarning: overflow encountered in square\n",
      "  dphi = Ls / (ms*rs**2) * dtau\n",
      "/var/folders/44/p2_ff2f90sl05kvyytv51rq00000gn/T/ipykernel_3949/1571925363.py:32: RuntimeWarning: overflow encountered in multiply\n",
      "  dphi = Ls / (ms*rs**2) * dtau\n",
      "/var/folders/44/p2_ff2f90sl05kvyytv51rq00000gn/T/ipykernel_3949/1571925363.py:39: RuntimeWarning: overflow encountered in square\n",
      "  dr2 = (dphi_dtau**2*rs*a) + (c**2*r_sch*a/(2*rs**2)) - (G*M*ms*a/(2*rs**2)) * dtau\n",
      "/var/folders/44/p2_ff2f90sl05kvyytv51rq00000gn/T/ipykernel_3949/1571925363.py:39: RuntimeWarning: overflow encountered in multiply\n",
      "  dr2 = (dphi_dtau**2*rs*a) + (c**2*r_sch*a/(2*rs**2)) - (G*M*ms*a/(2*rs**2)) * dtau\n"
     ]
    },
    {
     "name": "stdout",
     "output_type": "stream",
     "text": [
      "7877 7877\n",
      "7877 7877\n",
      "7877 7877\n",
      "7877 7877\n"
     ]
    },
    {
     "name": "stderr",
     "output_type": "stream",
     "text": [
      "/var/folders/44/p2_ff2f90sl05kvyytv51rq00000gn/T/ipykernel_3949/1571925363.py:32: RuntimeWarning: overflow encountered in square\n",
      "  dphi = Ls / (ms*rs**2) * dtau\n",
      "/var/folders/44/p2_ff2f90sl05kvyytv51rq00000gn/T/ipykernel_3949/1571925363.py:32: RuntimeWarning: overflow encountered in multiply\n",
      "  dphi = Ls / (ms*rs**2) * dtau\n",
      "/var/folders/44/p2_ff2f90sl05kvyytv51rq00000gn/T/ipykernel_3949/1571925363.py:39: RuntimeWarning: overflow encountered in square\n",
      "  dr2 = (dphi_dtau**2*rs*a) + (c**2*r_sch*a/(2*rs**2)) - (G*M*ms*a/(2*rs**2)) * dtau\n",
      "/var/folders/44/p2_ff2f90sl05kvyytv51rq00000gn/T/ipykernel_3949/1571925363.py:39: RuntimeWarning: overflow encountered in multiply\n",
      "  dr2 = (dphi_dtau**2*rs*a) + (c**2*r_sch*a/(2*rs**2)) - (G*M*ms*a/(2*rs**2)) * dtau\n",
      "/var/folders/44/p2_ff2f90sl05kvyytv51rq00000gn/T/ipykernel_3949/1571925363.py:32: RuntimeWarning: overflow encountered in square\n",
      "  dphi = Ls / (ms*rs**2) * dtau\n",
      "/var/folders/44/p2_ff2f90sl05kvyytv51rq00000gn/T/ipykernel_3949/1571925363.py:32: RuntimeWarning: overflow encountered in multiply\n",
      "  dphi = Ls / (ms*rs**2) * dtau\n",
      "/var/folders/44/p2_ff2f90sl05kvyytv51rq00000gn/T/ipykernel_3949/1571925363.py:39: RuntimeWarning: overflow encountered in square\n",
      "  dr2 = (dphi_dtau**2*rs*a) + (c**2*r_sch*a/(2*rs**2)) - (G*M*ms*a/(2*rs**2)) * dtau\n",
      "/var/folders/44/p2_ff2f90sl05kvyytv51rq00000gn/T/ipykernel_3949/1571925363.py:39: RuntimeWarning: overflow encountered in multiply\n",
      "  dr2 = (dphi_dtau**2*rs*a) + (c**2*r_sch*a/(2*rs**2)) - (G*M*ms*a/(2*rs**2)) * dtau\n",
      "/var/folders/44/p2_ff2f90sl05kvyytv51rq00000gn/T/ipykernel_3949/1571925363.py:32: RuntimeWarning: overflow encountered in square\n",
      "  dphi = Ls / (ms*rs**2) * dtau\n",
      "/var/folders/44/p2_ff2f90sl05kvyytv51rq00000gn/T/ipykernel_3949/1571925363.py:32: RuntimeWarning: overflow encountered in multiply\n",
      "  dphi = Ls / (ms*rs**2) * dtau\n",
      "/var/folders/44/p2_ff2f90sl05kvyytv51rq00000gn/T/ipykernel_3949/1571925363.py:39: RuntimeWarning: overflow encountered in square\n",
      "  dr2 = (dphi_dtau**2*rs*a) + (c**2*r_sch*a/(2*rs**2)) - (G*M*ms*a/(2*rs**2)) * dtau\n",
      "/var/folders/44/p2_ff2f90sl05kvyytv51rq00000gn/T/ipykernel_3949/1571925363.py:39: RuntimeWarning: overflow encountered in multiply\n",
      "  dr2 = (dphi_dtau**2*rs*a) + (c**2*r_sch*a/(2*rs**2)) - (G*M*ms*a/(2*rs**2)) * dtau\n",
      "/var/folders/44/p2_ff2f90sl05kvyytv51rq00000gn/T/ipykernel_3949/1571925363.py:32: RuntimeWarning: overflow encountered in square\n",
      "  dphi = Ls / (ms*rs**2) * dtau\n",
      "/var/folders/44/p2_ff2f90sl05kvyytv51rq00000gn/T/ipykernel_3949/1571925363.py:32: RuntimeWarning: overflow encountered in multiply\n",
      "  dphi = Ls / (ms*rs**2) * dtau\n",
      "/var/folders/44/p2_ff2f90sl05kvyytv51rq00000gn/T/ipykernel_3949/1571925363.py:39: RuntimeWarning: overflow encountered in square\n",
      "  dr2 = (dphi_dtau**2*rs*a) + (c**2*r_sch*a/(2*rs**2)) - (G*M*ms*a/(2*rs**2)) * dtau\n",
      "/var/folders/44/p2_ff2f90sl05kvyytv51rq00000gn/T/ipykernel_3949/1571925363.py:39: RuntimeWarning: overflow encountered in multiply\n",
      "  dr2 = (dphi_dtau**2*rs*a) + (c**2*r_sch*a/(2*rs**2)) - (G*M*ms*a/(2*rs**2)) * dtau\n"
     ]
    },
    {
     "name": "stdout",
     "output_type": "stream",
     "text": [
      "7877 7877\n",
      "7877 7877\n",
      "7877 7877\n",
      "7877 7877\n"
     ]
    },
    {
     "name": "stderr",
     "output_type": "stream",
     "text": [
      "/var/folders/44/p2_ff2f90sl05kvyytv51rq00000gn/T/ipykernel_3949/1571925363.py:32: RuntimeWarning: overflow encountered in square\n",
      "  dphi = Ls / (ms*rs**2) * dtau\n",
      "/var/folders/44/p2_ff2f90sl05kvyytv51rq00000gn/T/ipykernel_3949/1571925363.py:32: RuntimeWarning: overflow encountered in multiply\n",
      "  dphi = Ls / (ms*rs**2) * dtau\n",
      "/var/folders/44/p2_ff2f90sl05kvyytv51rq00000gn/T/ipykernel_3949/1571925363.py:39: RuntimeWarning: overflow encountered in square\n",
      "  dr2 = (dphi_dtau**2*rs*a) + (c**2*r_sch*a/(2*rs**2)) - (G*M*ms*a/(2*rs**2)) * dtau\n",
      "/var/folders/44/p2_ff2f90sl05kvyytv51rq00000gn/T/ipykernel_3949/1571925363.py:39: RuntimeWarning: overflow encountered in multiply\n",
      "  dr2 = (dphi_dtau**2*rs*a) + (c**2*r_sch*a/(2*rs**2)) - (G*M*ms*a/(2*rs**2)) * dtau\n",
      "/var/folders/44/p2_ff2f90sl05kvyytv51rq00000gn/T/ipykernel_3949/1571925363.py:32: RuntimeWarning: overflow encountered in square\n",
      "  dphi = Ls / (ms*rs**2) * dtau\n",
      "/var/folders/44/p2_ff2f90sl05kvyytv51rq00000gn/T/ipykernel_3949/1571925363.py:32: RuntimeWarning: overflow encountered in multiply\n",
      "  dphi = Ls / (ms*rs**2) * dtau\n",
      "/var/folders/44/p2_ff2f90sl05kvyytv51rq00000gn/T/ipykernel_3949/1571925363.py:39: RuntimeWarning: overflow encountered in square\n",
      "  dr2 = (dphi_dtau**2*rs*a) + (c**2*r_sch*a/(2*rs**2)) - (G*M*ms*a/(2*rs**2)) * dtau\n",
      "/var/folders/44/p2_ff2f90sl05kvyytv51rq00000gn/T/ipykernel_3949/1571925363.py:39: RuntimeWarning: overflow encountered in multiply\n",
      "  dr2 = (dphi_dtau**2*rs*a) + (c**2*r_sch*a/(2*rs**2)) - (G*M*ms*a/(2*rs**2)) * dtau\n",
      "/var/folders/44/p2_ff2f90sl05kvyytv51rq00000gn/T/ipykernel_3949/1571925363.py:32: RuntimeWarning: overflow encountered in square\n",
      "  dphi = Ls / (ms*rs**2) * dtau\n",
      "/var/folders/44/p2_ff2f90sl05kvyytv51rq00000gn/T/ipykernel_3949/1571925363.py:32: RuntimeWarning: overflow encountered in multiply\n",
      "  dphi = Ls / (ms*rs**2) * dtau\n",
      "/var/folders/44/p2_ff2f90sl05kvyytv51rq00000gn/T/ipykernel_3949/1571925363.py:39: RuntimeWarning: overflow encountered in multiply\n",
      "  dr2 = (dphi_dtau**2*rs*a) + (c**2*r_sch*a/(2*rs**2)) - (G*M*ms*a/(2*rs**2)) * dtau\n",
      "/var/folders/44/p2_ff2f90sl05kvyytv51rq00000gn/T/ipykernel_3949/1571925363.py:39: RuntimeWarning: overflow encountered in square\n",
      "  dr2 = (dphi_dtau**2*rs*a) + (c**2*r_sch*a/(2*rs**2)) - (G*M*ms*a/(2*rs**2)) * dtau\n",
      "/var/folders/44/p2_ff2f90sl05kvyytv51rq00000gn/T/ipykernel_3949/1571925363.py:32: RuntimeWarning: overflow encountered in square\n",
      "  dphi = Ls / (ms*rs**2) * dtau\n",
      "/var/folders/44/p2_ff2f90sl05kvyytv51rq00000gn/T/ipykernel_3949/1571925363.py:32: RuntimeWarning: overflow encountered in multiply\n",
      "  dphi = Ls / (ms*rs**2) * dtau\n",
      "/var/folders/44/p2_ff2f90sl05kvyytv51rq00000gn/T/ipykernel_3949/1571925363.py:39: RuntimeWarning: overflow encountered in multiply\n",
      "  dr2 = (dphi_dtau**2*rs*a) + (c**2*r_sch*a/(2*rs**2)) - (G*M*ms*a/(2*rs**2)) * dtau\n",
      "/var/folders/44/p2_ff2f90sl05kvyytv51rq00000gn/T/ipykernel_3949/1571925363.py:39: RuntimeWarning: overflow encountered in square\n",
      "  dr2 = (dphi_dtau**2*rs*a) + (c**2*r_sch*a/(2*rs**2)) - (G*M*ms*a/(2*rs**2)) * dtau\n"
     ]
    },
    {
     "name": "stdout",
     "output_type": "stream",
     "text": [
      "7877 7877\n",
      "7877 7877\n",
      "7877 7877\n"
     ]
    },
    {
     "name": "stderr",
     "output_type": "stream",
     "text": [
      "/var/folders/44/p2_ff2f90sl05kvyytv51rq00000gn/T/ipykernel_3949/1571925363.py:32: RuntimeWarning: overflow encountered in square\n",
      "  dphi = Ls / (ms*rs**2) * dtau\n",
      "/var/folders/44/p2_ff2f90sl05kvyytv51rq00000gn/T/ipykernel_3949/1571925363.py:32: RuntimeWarning: overflow encountered in multiply\n",
      "  dphi = Ls / (ms*rs**2) * dtau\n",
      "/var/folders/44/p2_ff2f90sl05kvyytv51rq00000gn/T/ipykernel_3949/1571925363.py:39: RuntimeWarning: overflow encountered in multiply\n",
      "  dr2 = (dphi_dtau**2*rs*a) + (c**2*r_sch*a/(2*rs**2)) - (G*M*ms*a/(2*rs**2)) * dtau\n",
      "/var/folders/44/p2_ff2f90sl05kvyytv51rq00000gn/T/ipykernel_3949/1571925363.py:39: RuntimeWarning: overflow encountered in square\n",
      "  dr2 = (dphi_dtau**2*rs*a) + (c**2*r_sch*a/(2*rs**2)) - (G*M*ms*a/(2*rs**2)) * dtau\n",
      "/var/folders/44/p2_ff2f90sl05kvyytv51rq00000gn/T/ipykernel_3949/1571925363.py:32: RuntimeWarning: overflow encountered in square\n",
      "  dphi = Ls / (ms*rs**2) * dtau\n",
      "/var/folders/44/p2_ff2f90sl05kvyytv51rq00000gn/T/ipykernel_3949/1571925363.py:32: RuntimeWarning: overflow encountered in multiply\n",
      "  dphi = Ls / (ms*rs**2) * dtau\n",
      "/var/folders/44/p2_ff2f90sl05kvyytv51rq00000gn/T/ipykernel_3949/1571925363.py:39: RuntimeWarning: overflow encountered in multiply\n",
      "  dr2 = (dphi_dtau**2*rs*a) + (c**2*r_sch*a/(2*rs**2)) - (G*M*ms*a/(2*rs**2)) * dtau\n",
      "/var/folders/44/p2_ff2f90sl05kvyytv51rq00000gn/T/ipykernel_3949/1571925363.py:39: RuntimeWarning: overflow encountered in square\n",
      "  dr2 = (dphi_dtau**2*rs*a) + (c**2*r_sch*a/(2*rs**2)) - (G*M*ms*a/(2*rs**2)) * dtau\n",
      "/var/folders/44/p2_ff2f90sl05kvyytv51rq00000gn/T/ipykernel_3949/1571925363.py:32: RuntimeWarning: overflow encountered in square\n",
      "  dphi = Ls / (ms*rs**2) * dtau\n",
      "/var/folders/44/p2_ff2f90sl05kvyytv51rq00000gn/T/ipykernel_3949/1571925363.py:32: RuntimeWarning: overflow encountered in multiply\n",
      "  dphi = Ls / (ms*rs**2) * dtau\n",
      "/var/folders/44/p2_ff2f90sl05kvyytv51rq00000gn/T/ipykernel_3949/1571925363.py:39: RuntimeWarning: overflow encountered in multiply\n",
      "  dr2 = (dphi_dtau**2*rs*a) + (c**2*r_sch*a/(2*rs**2)) - (G*M*ms*a/(2*rs**2)) * dtau\n",
      "/var/folders/44/p2_ff2f90sl05kvyytv51rq00000gn/T/ipykernel_3949/1571925363.py:39: RuntimeWarning: overflow encountered in square\n",
      "  dr2 = (dphi_dtau**2*rs*a) + (c**2*r_sch*a/(2*rs**2)) - (G*M*ms*a/(2*rs**2)) * dtau\n"
     ]
    },
    {
     "name": "stdout",
     "output_type": "stream",
     "text": [
      "7877 7877\n",
      "7877 7877\n",
      "7877 7877\n"
     ]
    },
    {
     "name": "stderr",
     "output_type": "stream",
     "text": [
      "/var/folders/44/p2_ff2f90sl05kvyytv51rq00000gn/T/ipykernel_3949/1571925363.py:32: RuntimeWarning: overflow encountered in square\n",
      "  dphi = Ls / (ms*rs**2) * dtau\n",
      "/var/folders/44/p2_ff2f90sl05kvyytv51rq00000gn/T/ipykernel_3949/1571925363.py:32: RuntimeWarning: overflow encountered in multiply\n",
      "  dphi = Ls / (ms*rs**2) * dtau\n",
      "/var/folders/44/p2_ff2f90sl05kvyytv51rq00000gn/T/ipykernel_3949/1571925363.py:39: RuntimeWarning: overflow encountered in multiply\n",
      "  dr2 = (dphi_dtau**2*rs*a) + (c**2*r_sch*a/(2*rs**2)) - (G*M*ms*a/(2*rs**2)) * dtau\n",
      "/var/folders/44/p2_ff2f90sl05kvyytv51rq00000gn/T/ipykernel_3949/1571925363.py:39: RuntimeWarning: overflow encountered in square\n",
      "  dr2 = (dphi_dtau**2*rs*a) + (c**2*r_sch*a/(2*rs**2)) - (G*M*ms*a/(2*rs**2)) * dtau\n",
      "/var/folders/44/p2_ff2f90sl05kvyytv51rq00000gn/T/ipykernel_3949/1571925363.py:32: RuntimeWarning: overflow encountered in square\n",
      "  dphi = Ls / (ms*rs**2) * dtau\n",
      "/var/folders/44/p2_ff2f90sl05kvyytv51rq00000gn/T/ipykernel_3949/1571925363.py:32: RuntimeWarning: overflow encountered in multiply\n",
      "  dphi = Ls / (ms*rs**2) * dtau\n",
      "/var/folders/44/p2_ff2f90sl05kvyytv51rq00000gn/T/ipykernel_3949/1571925363.py:39: RuntimeWarning: overflow encountered in multiply\n",
      "  dr2 = (dphi_dtau**2*rs*a) + (c**2*r_sch*a/(2*rs**2)) - (G*M*ms*a/(2*rs**2)) * dtau\n",
      "/var/folders/44/p2_ff2f90sl05kvyytv51rq00000gn/T/ipykernel_3949/1571925363.py:39: RuntimeWarning: overflow encountered in square\n",
      "  dr2 = (dphi_dtau**2*rs*a) + (c**2*r_sch*a/(2*rs**2)) - (G*M*ms*a/(2*rs**2)) * dtau\n",
      "/var/folders/44/p2_ff2f90sl05kvyytv51rq00000gn/T/ipykernel_3949/1571925363.py:32: RuntimeWarning: overflow encountered in square\n",
      "  dphi = Ls / (ms*rs**2) * dtau\n",
      "/var/folders/44/p2_ff2f90sl05kvyytv51rq00000gn/T/ipykernel_3949/1571925363.py:32: RuntimeWarning: overflow encountered in multiply\n",
      "  dphi = Ls / (ms*rs**2) * dtau\n",
      "/var/folders/44/p2_ff2f90sl05kvyytv51rq00000gn/T/ipykernel_3949/1571925363.py:39: RuntimeWarning: overflow encountered in multiply\n",
      "  dr2 = (dphi_dtau**2*rs*a) + (c**2*r_sch*a/(2*rs**2)) - (G*M*ms*a/(2*rs**2)) * dtau\n",
      "/var/folders/44/p2_ff2f90sl05kvyytv51rq00000gn/T/ipykernel_3949/1571925363.py:39: RuntimeWarning: overflow encountered in square\n",
      "  dr2 = (dphi_dtau**2*rs*a) + (c**2*r_sch*a/(2*rs**2)) - (G*M*ms*a/(2*rs**2)) * dtau\n"
     ]
    },
    {
     "name": "stdout",
     "output_type": "stream",
     "text": [
      "7877 7877\n",
      "7877 7877\n",
      "7877 7877\n"
     ]
    },
    {
     "name": "stderr",
     "output_type": "stream",
     "text": [
      "/var/folders/44/p2_ff2f90sl05kvyytv51rq00000gn/T/ipykernel_3949/1571925363.py:32: RuntimeWarning: overflow encountered in square\n",
      "  dphi = Ls / (ms*rs**2) * dtau\n",
      "/var/folders/44/p2_ff2f90sl05kvyytv51rq00000gn/T/ipykernel_3949/1571925363.py:32: RuntimeWarning: overflow encountered in multiply\n",
      "  dphi = Ls / (ms*rs**2) * dtau\n",
      "/var/folders/44/p2_ff2f90sl05kvyytv51rq00000gn/T/ipykernel_3949/1571925363.py:39: RuntimeWarning: overflow encountered in multiply\n",
      "  dr2 = (dphi_dtau**2*rs*a) + (c**2*r_sch*a/(2*rs**2)) - (G*M*ms*a/(2*rs**2)) * dtau\n",
      "/var/folders/44/p2_ff2f90sl05kvyytv51rq00000gn/T/ipykernel_3949/1571925363.py:39: RuntimeWarning: overflow encountered in square\n",
      "  dr2 = (dphi_dtau**2*rs*a) + (c**2*r_sch*a/(2*rs**2)) - (G*M*ms*a/(2*rs**2)) * dtau\n",
      "/var/folders/44/p2_ff2f90sl05kvyytv51rq00000gn/T/ipykernel_3949/1571925363.py:32: RuntimeWarning: overflow encountered in square\n",
      "  dphi = Ls / (ms*rs**2) * dtau\n",
      "/var/folders/44/p2_ff2f90sl05kvyytv51rq00000gn/T/ipykernel_3949/1571925363.py:32: RuntimeWarning: overflow encountered in multiply\n",
      "  dphi = Ls / (ms*rs**2) * dtau\n",
      "/var/folders/44/p2_ff2f90sl05kvyytv51rq00000gn/T/ipykernel_3949/1571925363.py:39: RuntimeWarning: overflow encountered in multiply\n",
      "  dr2 = (dphi_dtau**2*rs*a) + (c**2*r_sch*a/(2*rs**2)) - (G*M*ms*a/(2*rs**2)) * dtau\n",
      "/var/folders/44/p2_ff2f90sl05kvyytv51rq00000gn/T/ipykernel_3949/1571925363.py:39: RuntimeWarning: overflow encountered in square\n",
      "  dr2 = (dphi_dtau**2*rs*a) + (c**2*r_sch*a/(2*rs**2)) - (G*M*ms*a/(2*rs**2)) * dtau\n",
      "/var/folders/44/p2_ff2f90sl05kvyytv51rq00000gn/T/ipykernel_3949/1571925363.py:32: RuntimeWarning: overflow encountered in square\n",
      "  dphi = Ls / (ms*rs**2) * dtau\n",
      "/var/folders/44/p2_ff2f90sl05kvyytv51rq00000gn/T/ipykernel_3949/1571925363.py:32: RuntimeWarning: overflow encountered in multiply\n",
      "  dphi = Ls / (ms*rs**2) * dtau\n",
      "/var/folders/44/p2_ff2f90sl05kvyytv51rq00000gn/T/ipykernel_3949/1571925363.py:39: RuntimeWarning: overflow encountered in multiply\n",
      "  dr2 = (dphi_dtau**2*rs*a) + (c**2*r_sch*a/(2*rs**2)) - (G*M*ms*a/(2*rs**2)) * dtau\n",
      "/var/folders/44/p2_ff2f90sl05kvyytv51rq00000gn/T/ipykernel_3949/1571925363.py:39: RuntimeWarning: overflow encountered in square\n",
      "  dr2 = (dphi_dtau**2*rs*a) + (c**2*r_sch*a/(2*rs**2)) - (G*M*ms*a/(2*rs**2)) * dtau\n"
     ]
    },
    {
     "name": "stdout",
     "output_type": "stream",
     "text": [
      "7877 7877\n",
      "7877 7877\n",
      "7877 7877\n"
     ]
    },
    {
     "name": "stderr",
     "output_type": "stream",
     "text": [
      "/var/folders/44/p2_ff2f90sl05kvyytv51rq00000gn/T/ipykernel_3949/1571925363.py:32: RuntimeWarning: overflow encountered in square\n",
      "  dphi = Ls / (ms*rs**2) * dtau\n",
      "/var/folders/44/p2_ff2f90sl05kvyytv51rq00000gn/T/ipykernel_3949/1571925363.py:32: RuntimeWarning: overflow encountered in multiply\n",
      "  dphi = Ls / (ms*rs**2) * dtau\n",
      "/var/folders/44/p2_ff2f90sl05kvyytv51rq00000gn/T/ipykernel_3949/1571925363.py:39: RuntimeWarning: overflow encountered in multiply\n",
      "  dr2 = (dphi_dtau**2*rs*a) + (c**2*r_sch*a/(2*rs**2)) - (G*M*ms*a/(2*rs**2)) * dtau\n",
      "/var/folders/44/p2_ff2f90sl05kvyytv51rq00000gn/T/ipykernel_3949/1571925363.py:39: RuntimeWarning: overflow encountered in square\n",
      "  dr2 = (dphi_dtau**2*rs*a) + (c**2*r_sch*a/(2*rs**2)) - (G*M*ms*a/(2*rs**2)) * dtau\n",
      "/var/folders/44/p2_ff2f90sl05kvyytv51rq00000gn/T/ipykernel_3949/1571925363.py:32: RuntimeWarning: overflow encountered in square\n",
      "  dphi = Ls / (ms*rs**2) * dtau\n",
      "/var/folders/44/p2_ff2f90sl05kvyytv51rq00000gn/T/ipykernel_3949/1571925363.py:32: RuntimeWarning: overflow encountered in multiply\n",
      "  dphi = Ls / (ms*rs**2) * dtau\n",
      "/var/folders/44/p2_ff2f90sl05kvyytv51rq00000gn/T/ipykernel_3949/1571925363.py:39: RuntimeWarning: overflow encountered in multiply\n",
      "  dr2 = (dphi_dtau**2*rs*a) + (c**2*r_sch*a/(2*rs**2)) - (G*M*ms*a/(2*rs**2)) * dtau\n",
      "/var/folders/44/p2_ff2f90sl05kvyytv51rq00000gn/T/ipykernel_3949/1571925363.py:39: RuntimeWarning: overflow encountered in square\n",
      "  dr2 = (dphi_dtau**2*rs*a) + (c**2*r_sch*a/(2*rs**2)) - (G*M*ms*a/(2*rs**2)) * dtau\n",
      "/var/folders/44/p2_ff2f90sl05kvyytv51rq00000gn/T/ipykernel_3949/1571925363.py:32: RuntimeWarning: overflow encountered in square\n",
      "  dphi = Ls / (ms*rs**2) * dtau\n",
      "/var/folders/44/p2_ff2f90sl05kvyytv51rq00000gn/T/ipykernel_3949/1571925363.py:32: RuntimeWarning: overflow encountered in multiply\n",
      "  dphi = Ls / (ms*rs**2) * dtau\n",
      "/var/folders/44/p2_ff2f90sl05kvyytv51rq00000gn/T/ipykernel_3949/1571925363.py:39: RuntimeWarning: overflow encountered in multiply\n",
      "  dr2 = (dphi_dtau**2*rs*a) + (c**2*r_sch*a/(2*rs**2)) - (G*M*ms*a/(2*rs**2)) * dtau\n",
      "/var/folders/44/p2_ff2f90sl05kvyytv51rq00000gn/T/ipykernel_3949/1571925363.py:39: RuntimeWarning: overflow encountered in square\n",
      "  dr2 = (dphi_dtau**2*rs*a) + (c**2*r_sch*a/(2*rs**2)) - (G*M*ms*a/(2*rs**2)) * dtau\n"
     ]
    },
    {
     "name": "stdout",
     "output_type": "stream",
     "text": [
      "7877 7877\n",
      "7877 7877\n",
      "7877 7877\n",
      "7877 7877\n"
     ]
    },
    {
     "name": "stderr",
     "output_type": "stream",
     "text": [
      "/var/folders/44/p2_ff2f90sl05kvyytv51rq00000gn/T/ipykernel_3949/1571925363.py:32: RuntimeWarning: overflow encountered in square\n",
      "  dphi = Ls / (ms*rs**2) * dtau\n",
      "/var/folders/44/p2_ff2f90sl05kvyytv51rq00000gn/T/ipykernel_3949/1571925363.py:32: RuntimeWarning: overflow encountered in multiply\n",
      "  dphi = Ls / (ms*rs**2) * dtau\n",
      "/var/folders/44/p2_ff2f90sl05kvyytv51rq00000gn/T/ipykernel_3949/1571925363.py:39: RuntimeWarning: overflow encountered in multiply\n",
      "  dr2 = (dphi_dtau**2*rs*a) + (c**2*r_sch*a/(2*rs**2)) - (G*M*ms*a/(2*rs**2)) * dtau\n",
      "/var/folders/44/p2_ff2f90sl05kvyytv51rq00000gn/T/ipykernel_3949/1571925363.py:39: RuntimeWarning: overflow encountered in square\n",
      "  dr2 = (dphi_dtau**2*rs*a) + (c**2*r_sch*a/(2*rs**2)) - (G*M*ms*a/(2*rs**2)) * dtau\n",
      "/var/folders/44/p2_ff2f90sl05kvyytv51rq00000gn/T/ipykernel_3949/1571925363.py:32: RuntimeWarning: overflow encountered in square\n",
      "  dphi = Ls / (ms*rs**2) * dtau\n",
      "/var/folders/44/p2_ff2f90sl05kvyytv51rq00000gn/T/ipykernel_3949/1571925363.py:32: RuntimeWarning: overflow encountered in multiply\n",
      "  dphi = Ls / (ms*rs**2) * dtau\n",
      "/var/folders/44/p2_ff2f90sl05kvyytv51rq00000gn/T/ipykernel_3949/1571925363.py:39: RuntimeWarning: overflow encountered in multiply\n",
      "  dr2 = (dphi_dtau**2*rs*a) + (c**2*r_sch*a/(2*rs**2)) - (G*M*ms*a/(2*rs**2)) * dtau\n",
      "/var/folders/44/p2_ff2f90sl05kvyytv51rq00000gn/T/ipykernel_3949/1571925363.py:39: RuntimeWarning: overflow encountered in square\n",
      "  dr2 = (dphi_dtau**2*rs*a) + (c**2*r_sch*a/(2*rs**2)) - (G*M*ms*a/(2*rs**2)) * dtau\n",
      "/var/folders/44/p2_ff2f90sl05kvyytv51rq00000gn/T/ipykernel_3949/1571925363.py:32: RuntimeWarning: overflow encountered in square\n",
      "  dphi = Ls / (ms*rs**2) * dtau\n",
      "/var/folders/44/p2_ff2f90sl05kvyytv51rq00000gn/T/ipykernel_3949/1571925363.py:32: RuntimeWarning: overflow encountered in multiply\n",
      "  dphi = Ls / (ms*rs**2) * dtau\n",
      "/var/folders/44/p2_ff2f90sl05kvyytv51rq00000gn/T/ipykernel_3949/1571925363.py:39: RuntimeWarning: overflow encountered in multiply\n",
      "  dr2 = (dphi_dtau**2*rs*a) + (c**2*r_sch*a/(2*rs**2)) - (G*M*ms*a/(2*rs**2)) * dtau\n",
      "/var/folders/44/p2_ff2f90sl05kvyytv51rq00000gn/T/ipykernel_3949/1571925363.py:39: RuntimeWarning: overflow encountered in square\n",
      "  dr2 = (dphi_dtau**2*rs*a) + (c**2*r_sch*a/(2*rs**2)) - (G*M*ms*a/(2*rs**2)) * dtau\n",
      "/var/folders/44/p2_ff2f90sl05kvyytv51rq00000gn/T/ipykernel_3949/1571925363.py:32: RuntimeWarning: overflow encountered in square\n",
      "  dphi = Ls / (ms*rs**2) * dtau\n",
      "/var/folders/44/p2_ff2f90sl05kvyytv51rq00000gn/T/ipykernel_3949/1571925363.py:32: RuntimeWarning: overflow encountered in multiply\n",
      "  dphi = Ls / (ms*rs**2) * dtau\n",
      "/var/folders/44/p2_ff2f90sl05kvyytv51rq00000gn/T/ipykernel_3949/1571925363.py:39: RuntimeWarning: overflow encountered in multiply\n",
      "  dr2 = (dphi_dtau**2*rs*a) + (c**2*r_sch*a/(2*rs**2)) - (G*M*ms*a/(2*rs**2)) * dtau\n",
      "/var/folders/44/p2_ff2f90sl05kvyytv51rq00000gn/T/ipykernel_3949/1571925363.py:39: RuntimeWarning: overflow encountered in square\n",
      "  dr2 = (dphi_dtau**2*rs*a) + (c**2*r_sch*a/(2*rs**2)) - (G*M*ms*a/(2*rs**2)) * dtau\n"
     ]
    },
    {
     "name": "stdout",
     "output_type": "stream",
     "text": [
      "7877 7877\n",
      "7877 7877\n",
      "7877 7877\n",
      "7877 7877\n"
     ]
    },
    {
     "name": "stderr",
     "output_type": "stream",
     "text": [
      "/var/folders/44/p2_ff2f90sl05kvyytv51rq00000gn/T/ipykernel_3949/1571925363.py:32: RuntimeWarning: overflow encountered in square\n",
      "  dphi = Ls / (ms*rs**2) * dtau\n",
      "/var/folders/44/p2_ff2f90sl05kvyytv51rq00000gn/T/ipykernel_3949/1571925363.py:32: RuntimeWarning: overflow encountered in multiply\n",
      "  dphi = Ls / (ms*rs**2) * dtau\n",
      "/var/folders/44/p2_ff2f90sl05kvyytv51rq00000gn/T/ipykernel_3949/1571925363.py:39: RuntimeWarning: overflow encountered in multiply\n",
      "  dr2 = (dphi_dtau**2*rs*a) + (c**2*r_sch*a/(2*rs**2)) - (G*M*ms*a/(2*rs**2)) * dtau\n",
      "/var/folders/44/p2_ff2f90sl05kvyytv51rq00000gn/T/ipykernel_3949/1571925363.py:39: RuntimeWarning: overflow encountered in square\n",
      "  dr2 = (dphi_dtau**2*rs*a) + (c**2*r_sch*a/(2*rs**2)) - (G*M*ms*a/(2*rs**2)) * dtau\n",
      "/var/folders/44/p2_ff2f90sl05kvyytv51rq00000gn/T/ipykernel_3949/1571925363.py:32: RuntimeWarning: overflow encountered in square\n",
      "  dphi = Ls / (ms*rs**2) * dtau\n",
      "/var/folders/44/p2_ff2f90sl05kvyytv51rq00000gn/T/ipykernel_3949/1571925363.py:32: RuntimeWarning: overflow encountered in multiply\n",
      "  dphi = Ls / (ms*rs**2) * dtau\n",
      "/var/folders/44/p2_ff2f90sl05kvyytv51rq00000gn/T/ipykernel_3949/1571925363.py:39: RuntimeWarning: overflow encountered in multiply\n",
      "  dr2 = (dphi_dtau**2*rs*a) + (c**2*r_sch*a/(2*rs**2)) - (G*M*ms*a/(2*rs**2)) * dtau\n",
      "/var/folders/44/p2_ff2f90sl05kvyytv51rq00000gn/T/ipykernel_3949/1571925363.py:39: RuntimeWarning: overflow encountered in square\n",
      "  dr2 = (dphi_dtau**2*rs*a) + (c**2*r_sch*a/(2*rs**2)) - (G*M*ms*a/(2*rs**2)) * dtau\n",
      "/var/folders/44/p2_ff2f90sl05kvyytv51rq00000gn/T/ipykernel_3949/1571925363.py:32: RuntimeWarning: overflow encountered in square\n",
      "  dphi = Ls / (ms*rs**2) * dtau\n",
      "/var/folders/44/p2_ff2f90sl05kvyytv51rq00000gn/T/ipykernel_3949/1571925363.py:32: RuntimeWarning: overflow encountered in multiply\n",
      "  dphi = Ls / (ms*rs**2) * dtau\n",
      "/var/folders/44/p2_ff2f90sl05kvyytv51rq00000gn/T/ipykernel_3949/1571925363.py:39: RuntimeWarning: overflow encountered in multiply\n",
      "  dr2 = (dphi_dtau**2*rs*a) + (c**2*r_sch*a/(2*rs**2)) - (G*M*ms*a/(2*rs**2)) * dtau\n",
      "/var/folders/44/p2_ff2f90sl05kvyytv51rq00000gn/T/ipykernel_3949/1571925363.py:39: RuntimeWarning: overflow encountered in square\n",
      "  dr2 = (dphi_dtau**2*rs*a) + (c**2*r_sch*a/(2*rs**2)) - (G*M*ms*a/(2*rs**2)) * dtau\n",
      "/var/folders/44/p2_ff2f90sl05kvyytv51rq00000gn/T/ipykernel_3949/1571925363.py:32: RuntimeWarning: overflow encountered in square\n",
      "  dphi = Ls / (ms*rs**2) * dtau\n",
      "/var/folders/44/p2_ff2f90sl05kvyytv51rq00000gn/T/ipykernel_3949/1571925363.py:32: RuntimeWarning: overflow encountered in multiply\n",
      "  dphi = Ls / (ms*rs**2) * dtau\n",
      "/var/folders/44/p2_ff2f90sl05kvyytv51rq00000gn/T/ipykernel_3949/1571925363.py:39: RuntimeWarning: overflow encountered in multiply\n",
      "  dr2 = (dphi_dtau**2*rs*a) + (c**2*r_sch*a/(2*rs**2)) - (G*M*ms*a/(2*rs**2)) * dtau\n",
      "/var/folders/44/p2_ff2f90sl05kvyytv51rq00000gn/T/ipykernel_3949/1571925363.py:39: RuntimeWarning: overflow encountered in square\n",
      "  dr2 = (dphi_dtau**2*rs*a) + (c**2*r_sch*a/(2*rs**2)) - (G*M*ms*a/(2*rs**2)) * dtau\n"
     ]
    },
    {
     "name": "stdout",
     "output_type": "stream",
     "text": [
      "7877 7877\n",
      "7877 7877\n",
      "7877 7877\n",
      "7877 7877\n"
     ]
    },
    {
     "name": "stderr",
     "output_type": "stream",
     "text": [
      "/var/folders/44/p2_ff2f90sl05kvyytv51rq00000gn/T/ipykernel_3949/1571925363.py:32: RuntimeWarning: overflow encountered in square\n",
      "  dphi = Ls / (ms*rs**2) * dtau\n",
      "/var/folders/44/p2_ff2f90sl05kvyytv51rq00000gn/T/ipykernel_3949/1571925363.py:32: RuntimeWarning: overflow encountered in multiply\n",
      "  dphi = Ls / (ms*rs**2) * dtau\n",
      "/var/folders/44/p2_ff2f90sl05kvyytv51rq00000gn/T/ipykernel_3949/1571925363.py:39: RuntimeWarning: overflow encountered in multiply\n",
      "  dr2 = (dphi_dtau**2*rs*a) + (c**2*r_sch*a/(2*rs**2)) - (G*M*ms*a/(2*rs**2)) * dtau\n",
      "/var/folders/44/p2_ff2f90sl05kvyytv51rq00000gn/T/ipykernel_3949/1571925363.py:39: RuntimeWarning: overflow encountered in square\n",
      "  dr2 = (dphi_dtau**2*rs*a) + (c**2*r_sch*a/(2*rs**2)) - (G*M*ms*a/(2*rs**2)) * dtau\n",
      "/var/folders/44/p2_ff2f90sl05kvyytv51rq00000gn/T/ipykernel_3949/1571925363.py:32: RuntimeWarning: overflow encountered in square\n",
      "  dphi = Ls / (ms*rs**2) * dtau\n",
      "/var/folders/44/p2_ff2f90sl05kvyytv51rq00000gn/T/ipykernel_3949/1571925363.py:32: RuntimeWarning: overflow encountered in multiply\n",
      "  dphi = Ls / (ms*rs**2) * dtau\n",
      "/var/folders/44/p2_ff2f90sl05kvyytv51rq00000gn/T/ipykernel_3949/1571925363.py:39: RuntimeWarning: overflow encountered in multiply\n",
      "  dr2 = (dphi_dtau**2*rs*a) + (c**2*r_sch*a/(2*rs**2)) - (G*M*ms*a/(2*rs**2)) * dtau\n",
      "/var/folders/44/p2_ff2f90sl05kvyytv51rq00000gn/T/ipykernel_3949/1571925363.py:39: RuntimeWarning: overflow encountered in square\n",
      "  dr2 = (dphi_dtau**2*rs*a) + (c**2*r_sch*a/(2*rs**2)) - (G*M*ms*a/(2*rs**2)) * dtau\n",
      "/var/folders/44/p2_ff2f90sl05kvyytv51rq00000gn/T/ipykernel_3949/1571925363.py:32: RuntimeWarning: overflow encountered in square\n",
      "  dphi = Ls / (ms*rs**2) * dtau\n",
      "/var/folders/44/p2_ff2f90sl05kvyytv51rq00000gn/T/ipykernel_3949/1571925363.py:32: RuntimeWarning: overflow encountered in multiply\n",
      "  dphi = Ls / (ms*rs**2) * dtau\n",
      "/var/folders/44/p2_ff2f90sl05kvyytv51rq00000gn/T/ipykernel_3949/1571925363.py:39: RuntimeWarning: overflow encountered in multiply\n",
      "  dr2 = (dphi_dtau**2*rs*a) + (c**2*r_sch*a/(2*rs**2)) - (G*M*ms*a/(2*rs**2)) * dtau\n",
      "/var/folders/44/p2_ff2f90sl05kvyytv51rq00000gn/T/ipykernel_3949/1571925363.py:39: RuntimeWarning: overflow encountered in square\n",
      "  dr2 = (dphi_dtau**2*rs*a) + (c**2*r_sch*a/(2*rs**2)) - (G*M*ms*a/(2*rs**2)) * dtau\n",
      "/var/folders/44/p2_ff2f90sl05kvyytv51rq00000gn/T/ipykernel_3949/1571925363.py:32: RuntimeWarning: overflow encountered in square\n",
      "  dphi = Ls / (ms*rs**2) * dtau\n",
      "/var/folders/44/p2_ff2f90sl05kvyytv51rq00000gn/T/ipykernel_3949/1571925363.py:32: RuntimeWarning: overflow encountered in multiply\n",
      "  dphi = Ls / (ms*rs**2) * dtau\n",
      "/var/folders/44/p2_ff2f90sl05kvyytv51rq00000gn/T/ipykernel_3949/1571925363.py:39: RuntimeWarning: overflow encountered in multiply\n",
      "  dr2 = (dphi_dtau**2*rs*a) + (c**2*r_sch*a/(2*rs**2)) - (G*M*ms*a/(2*rs**2)) * dtau\n",
      "/var/folders/44/p2_ff2f90sl05kvyytv51rq00000gn/T/ipykernel_3949/1571925363.py:39: RuntimeWarning: overflow encountered in square\n",
      "  dr2 = (dphi_dtau**2*rs*a) + (c**2*r_sch*a/(2*rs**2)) - (G*M*ms*a/(2*rs**2)) * dtau\n"
     ]
    },
    {
     "name": "stdout",
     "output_type": "stream",
     "text": [
      "7877 7877\n",
      "7877 7877\n",
      "7877 7877\n"
     ]
    },
    {
     "name": "stderr",
     "output_type": "stream",
     "text": [
      "/var/folders/44/p2_ff2f90sl05kvyytv51rq00000gn/T/ipykernel_3949/1571925363.py:32: RuntimeWarning: overflow encountered in square\n",
      "  dphi = Ls / (ms*rs**2) * dtau\n",
      "/var/folders/44/p2_ff2f90sl05kvyytv51rq00000gn/T/ipykernel_3949/1571925363.py:32: RuntimeWarning: overflow encountered in multiply\n",
      "  dphi = Ls / (ms*rs**2) * dtau\n",
      "/var/folders/44/p2_ff2f90sl05kvyytv51rq00000gn/T/ipykernel_3949/1571925363.py:39: RuntimeWarning: overflow encountered in multiply\n",
      "  dr2 = (dphi_dtau**2*rs*a) + (c**2*r_sch*a/(2*rs**2)) - (G*M*ms*a/(2*rs**2)) * dtau\n",
      "/var/folders/44/p2_ff2f90sl05kvyytv51rq00000gn/T/ipykernel_3949/1571925363.py:39: RuntimeWarning: overflow encountered in square\n",
      "  dr2 = (dphi_dtau**2*rs*a) + (c**2*r_sch*a/(2*rs**2)) - (G*M*ms*a/(2*rs**2)) * dtau\n",
      "/var/folders/44/p2_ff2f90sl05kvyytv51rq00000gn/T/ipykernel_3949/1571925363.py:32: RuntimeWarning: overflow encountered in square\n",
      "  dphi = Ls / (ms*rs**2) * dtau\n",
      "/var/folders/44/p2_ff2f90sl05kvyytv51rq00000gn/T/ipykernel_3949/1571925363.py:32: RuntimeWarning: overflow encountered in multiply\n",
      "  dphi = Ls / (ms*rs**2) * dtau\n",
      "/var/folders/44/p2_ff2f90sl05kvyytv51rq00000gn/T/ipykernel_3949/1571925363.py:39: RuntimeWarning: overflow encountered in multiply\n",
      "  dr2 = (dphi_dtau**2*rs*a) + (c**2*r_sch*a/(2*rs**2)) - (G*M*ms*a/(2*rs**2)) * dtau\n",
      "/var/folders/44/p2_ff2f90sl05kvyytv51rq00000gn/T/ipykernel_3949/1571925363.py:39: RuntimeWarning: overflow encountered in square\n",
      "  dr2 = (dphi_dtau**2*rs*a) + (c**2*r_sch*a/(2*rs**2)) - (G*M*ms*a/(2*rs**2)) * dtau\n",
      "/var/folders/44/p2_ff2f90sl05kvyytv51rq00000gn/T/ipykernel_3949/1571925363.py:32: RuntimeWarning: overflow encountered in square\n",
      "  dphi = Ls / (ms*rs**2) * dtau\n",
      "/var/folders/44/p2_ff2f90sl05kvyytv51rq00000gn/T/ipykernel_3949/1571925363.py:32: RuntimeWarning: overflow encountered in multiply\n",
      "  dphi = Ls / (ms*rs**2) * dtau\n",
      "/var/folders/44/p2_ff2f90sl05kvyytv51rq00000gn/T/ipykernel_3949/1571925363.py:39: RuntimeWarning: overflow encountered in multiply\n",
      "  dr2 = (dphi_dtau**2*rs*a) + (c**2*r_sch*a/(2*rs**2)) - (G*M*ms*a/(2*rs**2)) * dtau\n",
      "/var/folders/44/p2_ff2f90sl05kvyytv51rq00000gn/T/ipykernel_3949/1571925363.py:39: RuntimeWarning: overflow encountered in square\n",
      "  dr2 = (dphi_dtau**2*rs*a) + (c**2*r_sch*a/(2*rs**2)) - (G*M*ms*a/(2*rs**2)) * dtau\n",
      "/var/folders/44/p2_ff2f90sl05kvyytv51rq00000gn/T/ipykernel_3949/1571925363.py:32: RuntimeWarning: overflow encountered in square\n",
      "  dphi = Ls / (ms*rs**2) * dtau\n",
      "/var/folders/44/p2_ff2f90sl05kvyytv51rq00000gn/T/ipykernel_3949/1571925363.py:32: RuntimeWarning: overflow encountered in multiply\n",
      "  dphi = Ls / (ms*rs**2) * dtau\n",
      "/var/folders/44/p2_ff2f90sl05kvyytv51rq00000gn/T/ipykernel_3949/1571925363.py:39: RuntimeWarning: overflow encountered in multiply\n",
      "  dr2 = (dphi_dtau**2*rs*a) + (c**2*r_sch*a/(2*rs**2)) - (G*M*ms*a/(2*rs**2)) * dtau\n",
      "/var/folders/44/p2_ff2f90sl05kvyytv51rq00000gn/T/ipykernel_3949/1571925363.py:39: RuntimeWarning: overflow encountered in square\n",
      "  dr2 = (dphi_dtau**2*rs*a) + (c**2*r_sch*a/(2*rs**2)) - (G*M*ms*a/(2*rs**2)) * dtau\n"
     ]
    },
    {
     "name": "stdout",
     "output_type": "stream",
     "text": [
      "7877 7877\n",
      "7877 7877\n",
      "7877 7877\n",
      "7877 7877\n"
     ]
    },
    {
     "name": "stderr",
     "output_type": "stream",
     "text": [
      "/var/folders/44/p2_ff2f90sl05kvyytv51rq00000gn/T/ipykernel_3949/1571925363.py:32: RuntimeWarning: overflow encountered in square\n",
      "  dphi = Ls / (ms*rs**2) * dtau\n",
      "/var/folders/44/p2_ff2f90sl05kvyytv51rq00000gn/T/ipykernel_3949/1571925363.py:32: RuntimeWarning: overflow encountered in multiply\n",
      "  dphi = Ls / (ms*rs**2) * dtau\n",
      "/var/folders/44/p2_ff2f90sl05kvyytv51rq00000gn/T/ipykernel_3949/1571925363.py:39: RuntimeWarning: overflow encountered in multiply\n",
      "  dr2 = (dphi_dtau**2*rs*a) + (c**2*r_sch*a/(2*rs**2)) - (G*M*ms*a/(2*rs**2)) * dtau\n",
      "/var/folders/44/p2_ff2f90sl05kvyytv51rq00000gn/T/ipykernel_3949/1571925363.py:39: RuntimeWarning: overflow encountered in square\n",
      "  dr2 = (dphi_dtau**2*rs*a) + (c**2*r_sch*a/(2*rs**2)) - (G*M*ms*a/(2*rs**2)) * dtau\n",
      "/var/folders/44/p2_ff2f90sl05kvyytv51rq00000gn/T/ipykernel_3949/1571925363.py:32: RuntimeWarning: overflow encountered in square\n",
      "  dphi = Ls / (ms*rs**2) * dtau\n",
      "/var/folders/44/p2_ff2f90sl05kvyytv51rq00000gn/T/ipykernel_3949/1571925363.py:32: RuntimeWarning: overflow encountered in multiply\n",
      "  dphi = Ls / (ms*rs**2) * dtau\n",
      "/var/folders/44/p2_ff2f90sl05kvyytv51rq00000gn/T/ipykernel_3949/1571925363.py:39: RuntimeWarning: overflow encountered in multiply\n",
      "  dr2 = (dphi_dtau**2*rs*a) + (c**2*r_sch*a/(2*rs**2)) - (G*M*ms*a/(2*rs**2)) * dtau\n",
      "/var/folders/44/p2_ff2f90sl05kvyytv51rq00000gn/T/ipykernel_3949/1571925363.py:39: RuntimeWarning: overflow encountered in square\n",
      "  dr2 = (dphi_dtau**2*rs*a) + (c**2*r_sch*a/(2*rs**2)) - (G*M*ms*a/(2*rs**2)) * dtau\n",
      "/var/folders/44/p2_ff2f90sl05kvyytv51rq00000gn/T/ipykernel_3949/1571925363.py:32: RuntimeWarning: overflow encountered in square\n",
      "  dphi = Ls / (ms*rs**2) * dtau\n",
      "/var/folders/44/p2_ff2f90sl05kvyytv51rq00000gn/T/ipykernel_3949/1571925363.py:32: RuntimeWarning: overflow encountered in multiply\n",
      "  dphi = Ls / (ms*rs**2) * dtau\n",
      "/var/folders/44/p2_ff2f90sl05kvyytv51rq00000gn/T/ipykernel_3949/1571925363.py:39: RuntimeWarning: overflow encountered in multiply\n",
      "  dr2 = (dphi_dtau**2*rs*a) + (c**2*r_sch*a/(2*rs**2)) - (G*M*ms*a/(2*rs**2)) * dtau\n",
      "/var/folders/44/p2_ff2f90sl05kvyytv51rq00000gn/T/ipykernel_3949/1571925363.py:39: RuntimeWarning: overflow encountered in square\n",
      "  dr2 = (dphi_dtau**2*rs*a) + (c**2*r_sch*a/(2*rs**2)) - (G*M*ms*a/(2*rs**2)) * dtau\n",
      "/var/folders/44/p2_ff2f90sl05kvyytv51rq00000gn/T/ipykernel_3949/1571925363.py:32: RuntimeWarning: overflow encountered in square\n",
      "  dphi = Ls / (ms*rs**2) * dtau\n",
      "/var/folders/44/p2_ff2f90sl05kvyytv51rq00000gn/T/ipykernel_3949/1571925363.py:32: RuntimeWarning: overflow encountered in multiply\n",
      "  dphi = Ls / (ms*rs**2) * dtau\n",
      "/var/folders/44/p2_ff2f90sl05kvyytv51rq00000gn/T/ipykernel_3949/1571925363.py:39: RuntimeWarning: overflow encountered in multiply\n",
      "  dr2 = (dphi_dtau**2*rs*a) + (c**2*r_sch*a/(2*rs**2)) - (G*M*ms*a/(2*rs**2)) * dtau\n",
      "/var/folders/44/p2_ff2f90sl05kvyytv51rq00000gn/T/ipykernel_3949/1571925363.py:39: RuntimeWarning: overflow encountered in square\n",
      "  dr2 = (dphi_dtau**2*rs*a) + (c**2*r_sch*a/(2*rs**2)) - (G*M*ms*a/(2*rs**2)) * dtau\n"
     ]
    },
    {
     "name": "stdout",
     "output_type": "stream",
     "text": [
      "7877 7877\n",
      "7877 7877\n",
      "7877 7877\n",
      "7877 7877\n"
     ]
    },
    {
     "name": "stderr",
     "output_type": "stream",
     "text": [
      "/var/folders/44/p2_ff2f90sl05kvyytv51rq00000gn/T/ipykernel_3949/1571925363.py:32: RuntimeWarning: overflow encountered in square\n",
      "  dphi = Ls / (ms*rs**2) * dtau\n",
      "/var/folders/44/p2_ff2f90sl05kvyytv51rq00000gn/T/ipykernel_3949/1571925363.py:32: RuntimeWarning: overflow encountered in multiply\n",
      "  dphi = Ls / (ms*rs**2) * dtau\n",
      "/var/folders/44/p2_ff2f90sl05kvyytv51rq00000gn/T/ipykernel_3949/1571925363.py:39: RuntimeWarning: overflow encountered in multiply\n",
      "  dr2 = (dphi_dtau**2*rs*a) + (c**2*r_sch*a/(2*rs**2)) - (G*M*ms*a/(2*rs**2)) * dtau\n",
      "/var/folders/44/p2_ff2f90sl05kvyytv51rq00000gn/T/ipykernel_3949/1571925363.py:39: RuntimeWarning: overflow encountered in square\n",
      "  dr2 = (dphi_dtau**2*rs*a) + (c**2*r_sch*a/(2*rs**2)) - (G*M*ms*a/(2*rs**2)) * dtau\n",
      "/var/folders/44/p2_ff2f90sl05kvyytv51rq00000gn/T/ipykernel_3949/1571925363.py:32: RuntimeWarning: overflow encountered in square\n",
      "  dphi = Ls / (ms*rs**2) * dtau\n",
      "/var/folders/44/p2_ff2f90sl05kvyytv51rq00000gn/T/ipykernel_3949/1571925363.py:32: RuntimeWarning: overflow encountered in multiply\n",
      "  dphi = Ls / (ms*rs**2) * dtau\n",
      "/var/folders/44/p2_ff2f90sl05kvyytv51rq00000gn/T/ipykernel_3949/1571925363.py:39: RuntimeWarning: overflow encountered in multiply\n",
      "  dr2 = (dphi_dtau**2*rs*a) + (c**2*r_sch*a/(2*rs**2)) - (G*M*ms*a/(2*rs**2)) * dtau\n",
      "/var/folders/44/p2_ff2f90sl05kvyytv51rq00000gn/T/ipykernel_3949/1571925363.py:39: RuntimeWarning: overflow encountered in square\n",
      "  dr2 = (dphi_dtau**2*rs*a) + (c**2*r_sch*a/(2*rs**2)) - (G*M*ms*a/(2*rs**2)) * dtau\n",
      "/var/folders/44/p2_ff2f90sl05kvyytv51rq00000gn/T/ipykernel_3949/1571925363.py:32: RuntimeWarning: overflow encountered in square\n",
      "  dphi = Ls / (ms*rs**2) * dtau\n",
      "/var/folders/44/p2_ff2f90sl05kvyytv51rq00000gn/T/ipykernel_3949/1571925363.py:32: RuntimeWarning: overflow encountered in multiply\n",
      "  dphi = Ls / (ms*rs**2) * dtau\n",
      "/var/folders/44/p2_ff2f90sl05kvyytv51rq00000gn/T/ipykernel_3949/1571925363.py:39: RuntimeWarning: overflow encountered in multiply\n",
      "  dr2 = (dphi_dtau**2*rs*a) + (c**2*r_sch*a/(2*rs**2)) - (G*M*ms*a/(2*rs**2)) * dtau\n",
      "/var/folders/44/p2_ff2f90sl05kvyytv51rq00000gn/T/ipykernel_3949/1571925363.py:39: RuntimeWarning: overflow encountered in square\n",
      "  dr2 = (dphi_dtau**2*rs*a) + (c**2*r_sch*a/(2*rs**2)) - (G*M*ms*a/(2*rs**2)) * dtau\n",
      "/var/folders/44/p2_ff2f90sl05kvyytv51rq00000gn/T/ipykernel_3949/1571925363.py:32: RuntimeWarning: overflow encountered in square\n",
      "  dphi = Ls / (ms*rs**2) * dtau\n",
      "/var/folders/44/p2_ff2f90sl05kvyytv51rq00000gn/T/ipykernel_3949/1571925363.py:32: RuntimeWarning: overflow encountered in multiply\n",
      "  dphi = Ls / (ms*rs**2) * dtau\n",
      "/var/folders/44/p2_ff2f90sl05kvyytv51rq00000gn/T/ipykernel_3949/1571925363.py:39: RuntimeWarning: overflow encountered in multiply\n",
      "  dr2 = (dphi_dtau**2*rs*a) + (c**2*r_sch*a/(2*rs**2)) - (G*M*ms*a/(2*rs**2)) * dtau\n",
      "/var/folders/44/p2_ff2f90sl05kvyytv51rq00000gn/T/ipykernel_3949/1571925363.py:39: RuntimeWarning: overflow encountered in square\n",
      "  dr2 = (dphi_dtau**2*rs*a) + (c**2*r_sch*a/(2*rs**2)) - (G*M*ms*a/(2*rs**2)) * dtau\n"
     ]
    },
    {
     "name": "stdout",
     "output_type": "stream",
     "text": [
      "7877 7877\n",
      "7877 7877\n",
      "7877 7877\n",
      "7877 7877\n"
     ]
    },
    {
     "name": "stderr",
     "output_type": "stream",
     "text": [
      "/var/folders/44/p2_ff2f90sl05kvyytv51rq00000gn/T/ipykernel_3949/1571925363.py:32: RuntimeWarning: overflow encountered in square\n",
      "  dphi = Ls / (ms*rs**2) * dtau\n",
      "/var/folders/44/p2_ff2f90sl05kvyytv51rq00000gn/T/ipykernel_3949/1571925363.py:32: RuntimeWarning: overflow encountered in multiply\n",
      "  dphi = Ls / (ms*rs**2) * dtau\n",
      "/var/folders/44/p2_ff2f90sl05kvyytv51rq00000gn/T/ipykernel_3949/1571925363.py:39: RuntimeWarning: overflow encountered in multiply\n",
      "  dr2 = (dphi_dtau**2*rs*a) + (c**2*r_sch*a/(2*rs**2)) - (G*M*ms*a/(2*rs**2)) * dtau\n",
      "/var/folders/44/p2_ff2f90sl05kvyytv51rq00000gn/T/ipykernel_3949/1571925363.py:39: RuntimeWarning: overflow encountered in square\n",
      "  dr2 = (dphi_dtau**2*rs*a) + (c**2*r_sch*a/(2*rs**2)) - (G*M*ms*a/(2*rs**2)) * dtau\n",
      "/var/folders/44/p2_ff2f90sl05kvyytv51rq00000gn/T/ipykernel_3949/1571925363.py:32: RuntimeWarning: overflow encountered in square\n",
      "  dphi = Ls / (ms*rs**2) * dtau\n",
      "/var/folders/44/p2_ff2f90sl05kvyytv51rq00000gn/T/ipykernel_3949/1571925363.py:32: RuntimeWarning: overflow encountered in multiply\n",
      "  dphi = Ls / (ms*rs**2) * dtau\n",
      "/var/folders/44/p2_ff2f90sl05kvyytv51rq00000gn/T/ipykernel_3949/1571925363.py:39: RuntimeWarning: overflow encountered in multiply\n",
      "  dr2 = (dphi_dtau**2*rs*a) + (c**2*r_sch*a/(2*rs**2)) - (G*M*ms*a/(2*rs**2)) * dtau\n",
      "/var/folders/44/p2_ff2f90sl05kvyytv51rq00000gn/T/ipykernel_3949/1571925363.py:39: RuntimeWarning: overflow encountered in square\n",
      "  dr2 = (dphi_dtau**2*rs*a) + (c**2*r_sch*a/(2*rs**2)) - (G*M*ms*a/(2*rs**2)) * dtau\n",
      "/var/folders/44/p2_ff2f90sl05kvyytv51rq00000gn/T/ipykernel_3949/1571925363.py:32: RuntimeWarning: overflow encountered in square\n",
      "  dphi = Ls / (ms*rs**2) * dtau\n",
      "/var/folders/44/p2_ff2f90sl05kvyytv51rq00000gn/T/ipykernel_3949/1571925363.py:32: RuntimeWarning: overflow encountered in multiply\n",
      "  dphi = Ls / (ms*rs**2) * dtau\n",
      "/var/folders/44/p2_ff2f90sl05kvyytv51rq00000gn/T/ipykernel_3949/1571925363.py:39: RuntimeWarning: overflow encountered in multiply\n",
      "  dr2 = (dphi_dtau**2*rs*a) + (c**2*r_sch*a/(2*rs**2)) - (G*M*ms*a/(2*rs**2)) * dtau\n",
      "/var/folders/44/p2_ff2f90sl05kvyytv51rq00000gn/T/ipykernel_3949/1571925363.py:39: RuntimeWarning: overflow encountered in square\n",
      "  dr2 = (dphi_dtau**2*rs*a) + (c**2*r_sch*a/(2*rs**2)) - (G*M*ms*a/(2*rs**2)) * dtau\n",
      "/var/folders/44/p2_ff2f90sl05kvyytv51rq00000gn/T/ipykernel_3949/1571925363.py:32: RuntimeWarning: overflow encountered in square\n",
      "  dphi = Ls / (ms*rs**2) * dtau\n",
      "/var/folders/44/p2_ff2f90sl05kvyytv51rq00000gn/T/ipykernel_3949/1571925363.py:32: RuntimeWarning: overflow encountered in multiply\n",
      "  dphi = Ls / (ms*rs**2) * dtau\n",
      "/var/folders/44/p2_ff2f90sl05kvyytv51rq00000gn/T/ipykernel_3949/1571925363.py:39: RuntimeWarning: overflow encountered in multiply\n",
      "  dr2 = (dphi_dtau**2*rs*a) + (c**2*r_sch*a/(2*rs**2)) - (G*M*ms*a/(2*rs**2)) * dtau\n",
      "/var/folders/44/p2_ff2f90sl05kvyytv51rq00000gn/T/ipykernel_3949/1571925363.py:39: RuntimeWarning: overflow encountered in square\n",
      "  dr2 = (dphi_dtau**2*rs*a) + (c**2*r_sch*a/(2*rs**2)) - (G*M*ms*a/(2*rs**2)) * dtau\n"
     ]
    },
    {
     "name": "stdout",
     "output_type": "stream",
     "text": [
      "7877 7877\n",
      "7877 7877\n",
      "7877 7877\n"
     ]
    },
    {
     "name": "stderr",
     "output_type": "stream",
     "text": [
      "/var/folders/44/p2_ff2f90sl05kvyytv51rq00000gn/T/ipykernel_3949/1571925363.py:32: RuntimeWarning: overflow encountered in square\n",
      "  dphi = Ls / (ms*rs**2) * dtau\n",
      "/var/folders/44/p2_ff2f90sl05kvyytv51rq00000gn/T/ipykernel_3949/1571925363.py:32: RuntimeWarning: overflow encountered in multiply\n",
      "  dphi = Ls / (ms*rs**2) * dtau\n",
      "/var/folders/44/p2_ff2f90sl05kvyytv51rq00000gn/T/ipykernel_3949/1571925363.py:39: RuntimeWarning: overflow encountered in multiply\n",
      "  dr2 = (dphi_dtau**2*rs*a) + (c**2*r_sch*a/(2*rs**2)) - (G*M*ms*a/(2*rs**2)) * dtau\n",
      "/var/folders/44/p2_ff2f90sl05kvyytv51rq00000gn/T/ipykernel_3949/1571925363.py:39: RuntimeWarning: overflow encountered in square\n",
      "  dr2 = (dphi_dtau**2*rs*a) + (c**2*r_sch*a/(2*rs**2)) - (G*M*ms*a/(2*rs**2)) * dtau\n",
      "/var/folders/44/p2_ff2f90sl05kvyytv51rq00000gn/T/ipykernel_3949/1571925363.py:32: RuntimeWarning: overflow encountered in square\n",
      "  dphi = Ls / (ms*rs**2) * dtau\n",
      "/var/folders/44/p2_ff2f90sl05kvyytv51rq00000gn/T/ipykernel_3949/1571925363.py:32: RuntimeWarning: overflow encountered in multiply\n",
      "  dphi = Ls / (ms*rs**2) * dtau\n",
      "/var/folders/44/p2_ff2f90sl05kvyytv51rq00000gn/T/ipykernel_3949/1571925363.py:39: RuntimeWarning: overflow encountered in multiply\n",
      "  dr2 = (dphi_dtau**2*rs*a) + (c**2*r_sch*a/(2*rs**2)) - (G*M*ms*a/(2*rs**2)) * dtau\n",
      "/var/folders/44/p2_ff2f90sl05kvyytv51rq00000gn/T/ipykernel_3949/1571925363.py:39: RuntimeWarning: overflow encountered in square\n",
      "  dr2 = (dphi_dtau**2*rs*a) + (c**2*r_sch*a/(2*rs**2)) - (G*M*ms*a/(2*rs**2)) * dtau\n"
     ]
    },
    {
     "name": "stdout",
     "output_type": "stream",
     "text": [
      "7877 7877\n",
      "7877 7877\n",
      "7877 7877\n",
      "7877 7877\n"
     ]
    },
    {
     "name": "stderr",
     "output_type": "stream",
     "text": [
      "/var/folders/44/p2_ff2f90sl05kvyytv51rq00000gn/T/ipykernel_3949/1571925363.py:32: RuntimeWarning: overflow encountered in square\n",
      "  dphi = Ls / (ms*rs**2) * dtau\n",
      "/var/folders/44/p2_ff2f90sl05kvyytv51rq00000gn/T/ipykernel_3949/1571925363.py:32: RuntimeWarning: overflow encountered in multiply\n",
      "  dphi = Ls / (ms*rs**2) * dtau\n",
      "/var/folders/44/p2_ff2f90sl05kvyytv51rq00000gn/T/ipykernel_3949/1571925363.py:39: RuntimeWarning: overflow encountered in multiply\n",
      "  dr2 = (dphi_dtau**2*rs*a) + (c**2*r_sch*a/(2*rs**2)) - (G*M*ms*a/(2*rs**2)) * dtau\n",
      "/var/folders/44/p2_ff2f90sl05kvyytv51rq00000gn/T/ipykernel_3949/1571925363.py:39: RuntimeWarning: overflow encountered in square\n",
      "  dr2 = (dphi_dtau**2*rs*a) + (c**2*r_sch*a/(2*rs**2)) - (G*M*ms*a/(2*rs**2)) * dtau\n",
      "/var/folders/44/p2_ff2f90sl05kvyytv51rq00000gn/T/ipykernel_3949/1571925363.py:32: RuntimeWarning: overflow encountered in square\n",
      "  dphi = Ls / (ms*rs**2) * dtau\n",
      "/var/folders/44/p2_ff2f90sl05kvyytv51rq00000gn/T/ipykernel_3949/1571925363.py:32: RuntimeWarning: overflow encountered in multiply\n",
      "  dphi = Ls / (ms*rs**2) * dtau\n",
      "/var/folders/44/p2_ff2f90sl05kvyytv51rq00000gn/T/ipykernel_3949/1571925363.py:39: RuntimeWarning: overflow encountered in multiply\n",
      "  dr2 = (dphi_dtau**2*rs*a) + (c**2*r_sch*a/(2*rs**2)) - (G*M*ms*a/(2*rs**2)) * dtau\n",
      "/var/folders/44/p2_ff2f90sl05kvyytv51rq00000gn/T/ipykernel_3949/1571925363.py:39: RuntimeWarning: overflow encountered in square\n",
      "  dr2 = (dphi_dtau**2*rs*a) + (c**2*r_sch*a/(2*rs**2)) - (G*M*ms*a/(2*rs**2)) * dtau\n",
      "/var/folders/44/p2_ff2f90sl05kvyytv51rq00000gn/T/ipykernel_3949/1571925363.py:32: RuntimeWarning: overflow encountered in square\n",
      "  dphi = Ls / (ms*rs**2) * dtau\n",
      "/var/folders/44/p2_ff2f90sl05kvyytv51rq00000gn/T/ipykernel_3949/1571925363.py:32: RuntimeWarning: overflow encountered in multiply\n",
      "  dphi = Ls / (ms*rs**2) * dtau\n",
      "/var/folders/44/p2_ff2f90sl05kvyytv51rq00000gn/T/ipykernel_3949/1571925363.py:39: RuntimeWarning: overflow encountered in multiply\n",
      "  dr2 = (dphi_dtau**2*rs*a) + (c**2*r_sch*a/(2*rs**2)) - (G*M*ms*a/(2*rs**2)) * dtau\n",
      "/var/folders/44/p2_ff2f90sl05kvyytv51rq00000gn/T/ipykernel_3949/1571925363.py:39: RuntimeWarning: overflow encountered in square\n",
      "  dr2 = (dphi_dtau**2*rs*a) + (c**2*r_sch*a/(2*rs**2)) - (G*M*ms*a/(2*rs**2)) * dtau\n",
      "/var/folders/44/p2_ff2f90sl05kvyytv51rq00000gn/T/ipykernel_3949/1571925363.py:32: RuntimeWarning: overflow encountered in square\n",
      "  dphi = Ls / (ms*rs**2) * dtau\n",
      "/var/folders/44/p2_ff2f90sl05kvyytv51rq00000gn/T/ipykernel_3949/1571925363.py:32: RuntimeWarning: overflow encountered in multiply\n",
      "  dphi = Ls / (ms*rs**2) * dtau\n",
      "/var/folders/44/p2_ff2f90sl05kvyytv51rq00000gn/T/ipykernel_3949/1571925363.py:39: RuntimeWarning: overflow encountered in multiply\n",
      "  dr2 = (dphi_dtau**2*rs*a) + (c**2*r_sch*a/(2*rs**2)) - (G*M*ms*a/(2*rs**2)) * dtau\n",
      "/var/folders/44/p2_ff2f90sl05kvyytv51rq00000gn/T/ipykernel_3949/1571925363.py:39: RuntimeWarning: overflow encountered in square\n",
      "  dr2 = (dphi_dtau**2*rs*a) + (c**2*r_sch*a/(2*rs**2)) - (G*M*ms*a/(2*rs**2)) * dtau\n"
     ]
    },
    {
     "name": "stdout",
     "output_type": "stream",
     "text": [
      "7877 7877\n",
      "7877 7877\n",
      "7877 7877\n",
      "7877 7877\n"
     ]
    },
    {
     "name": "stderr",
     "output_type": "stream",
     "text": [
      "/var/folders/44/p2_ff2f90sl05kvyytv51rq00000gn/T/ipykernel_3949/1571925363.py:32: RuntimeWarning: overflow encountered in square\n",
      "  dphi = Ls / (ms*rs**2) * dtau\n",
      "/var/folders/44/p2_ff2f90sl05kvyytv51rq00000gn/T/ipykernel_3949/1571925363.py:32: RuntimeWarning: overflow encountered in multiply\n",
      "  dphi = Ls / (ms*rs**2) * dtau\n",
      "/var/folders/44/p2_ff2f90sl05kvyytv51rq00000gn/T/ipykernel_3949/1571925363.py:39: RuntimeWarning: overflow encountered in multiply\n",
      "  dr2 = (dphi_dtau**2*rs*a) + (c**2*r_sch*a/(2*rs**2)) - (G*M*ms*a/(2*rs**2)) * dtau\n",
      "/var/folders/44/p2_ff2f90sl05kvyytv51rq00000gn/T/ipykernel_3949/1571925363.py:39: RuntimeWarning: overflow encountered in square\n",
      "  dr2 = (dphi_dtau**2*rs*a) + (c**2*r_sch*a/(2*rs**2)) - (G*M*ms*a/(2*rs**2)) * dtau\n",
      "/var/folders/44/p2_ff2f90sl05kvyytv51rq00000gn/T/ipykernel_3949/1571925363.py:32: RuntimeWarning: overflow encountered in square\n",
      "  dphi = Ls / (ms*rs**2) * dtau\n",
      "/var/folders/44/p2_ff2f90sl05kvyytv51rq00000gn/T/ipykernel_3949/1571925363.py:32: RuntimeWarning: overflow encountered in multiply\n",
      "  dphi = Ls / (ms*rs**2) * dtau\n",
      "/var/folders/44/p2_ff2f90sl05kvyytv51rq00000gn/T/ipykernel_3949/1571925363.py:39: RuntimeWarning: overflow encountered in multiply\n",
      "  dr2 = (dphi_dtau**2*rs*a) + (c**2*r_sch*a/(2*rs**2)) - (G*M*ms*a/(2*rs**2)) * dtau\n",
      "/var/folders/44/p2_ff2f90sl05kvyytv51rq00000gn/T/ipykernel_3949/1571925363.py:39: RuntimeWarning: overflow encountered in square\n",
      "  dr2 = (dphi_dtau**2*rs*a) + (c**2*r_sch*a/(2*rs**2)) - (G*M*ms*a/(2*rs**2)) * dtau\n",
      "/var/folders/44/p2_ff2f90sl05kvyytv51rq00000gn/T/ipykernel_3949/1571925363.py:32: RuntimeWarning: overflow encountered in square\n",
      "  dphi = Ls / (ms*rs**2) * dtau\n",
      "/var/folders/44/p2_ff2f90sl05kvyytv51rq00000gn/T/ipykernel_3949/1571925363.py:32: RuntimeWarning: overflow encountered in multiply\n",
      "  dphi = Ls / (ms*rs**2) * dtau\n",
      "/var/folders/44/p2_ff2f90sl05kvyytv51rq00000gn/T/ipykernel_3949/1571925363.py:39: RuntimeWarning: overflow encountered in multiply\n",
      "  dr2 = (dphi_dtau**2*rs*a) + (c**2*r_sch*a/(2*rs**2)) - (G*M*ms*a/(2*rs**2)) * dtau\n",
      "/var/folders/44/p2_ff2f90sl05kvyytv51rq00000gn/T/ipykernel_3949/1571925363.py:39: RuntimeWarning: overflow encountered in square\n",
      "  dr2 = (dphi_dtau**2*rs*a) + (c**2*r_sch*a/(2*rs**2)) - (G*M*ms*a/(2*rs**2)) * dtau\n",
      "/var/folders/44/p2_ff2f90sl05kvyytv51rq00000gn/T/ipykernel_3949/1571925363.py:32: RuntimeWarning: overflow encountered in square\n",
      "  dphi = Ls / (ms*rs**2) * dtau\n",
      "/var/folders/44/p2_ff2f90sl05kvyytv51rq00000gn/T/ipykernel_3949/1571925363.py:32: RuntimeWarning: overflow encountered in multiply\n",
      "  dphi = Ls / (ms*rs**2) * dtau\n",
      "/var/folders/44/p2_ff2f90sl05kvyytv51rq00000gn/T/ipykernel_3949/1571925363.py:39: RuntimeWarning: overflow encountered in multiply\n",
      "  dr2 = (dphi_dtau**2*rs*a) + (c**2*r_sch*a/(2*rs**2)) - (G*M*ms*a/(2*rs**2)) * dtau\n",
      "/var/folders/44/p2_ff2f90sl05kvyytv51rq00000gn/T/ipykernel_3949/1571925363.py:39: RuntimeWarning: overflow encountered in square\n",
      "  dr2 = (dphi_dtau**2*rs*a) + (c**2*r_sch*a/(2*rs**2)) - (G*M*ms*a/(2*rs**2)) * dtau\n"
     ]
    },
    {
     "name": "stdout",
     "output_type": "stream",
     "text": [
      "7877 7877\n",
      "7877 7877\n",
      "7877 7877\n",
      "7877 7877\n"
     ]
    },
    {
     "name": "stderr",
     "output_type": "stream",
     "text": [
      "/var/folders/44/p2_ff2f90sl05kvyytv51rq00000gn/T/ipykernel_3949/1571925363.py:32: RuntimeWarning: overflow encountered in square\n",
      "  dphi = Ls / (ms*rs**2) * dtau\n",
      "/var/folders/44/p2_ff2f90sl05kvyytv51rq00000gn/T/ipykernel_3949/1571925363.py:32: RuntimeWarning: overflow encountered in multiply\n",
      "  dphi = Ls / (ms*rs**2) * dtau\n",
      "/var/folders/44/p2_ff2f90sl05kvyytv51rq00000gn/T/ipykernel_3949/1571925363.py:39: RuntimeWarning: overflow encountered in multiply\n",
      "  dr2 = (dphi_dtau**2*rs*a) + (c**2*r_sch*a/(2*rs**2)) - (G*M*ms*a/(2*rs**2)) * dtau\n",
      "/var/folders/44/p2_ff2f90sl05kvyytv51rq00000gn/T/ipykernel_3949/1571925363.py:39: RuntimeWarning: overflow encountered in square\n",
      "  dr2 = (dphi_dtau**2*rs*a) + (c**2*r_sch*a/(2*rs**2)) - (G*M*ms*a/(2*rs**2)) * dtau\n",
      "/var/folders/44/p2_ff2f90sl05kvyytv51rq00000gn/T/ipykernel_3949/1571925363.py:32: RuntimeWarning: overflow encountered in square\n",
      "  dphi = Ls / (ms*rs**2) * dtau\n",
      "/var/folders/44/p2_ff2f90sl05kvyytv51rq00000gn/T/ipykernel_3949/1571925363.py:32: RuntimeWarning: overflow encountered in multiply\n",
      "  dphi = Ls / (ms*rs**2) * dtau\n",
      "/var/folders/44/p2_ff2f90sl05kvyytv51rq00000gn/T/ipykernel_3949/1571925363.py:39: RuntimeWarning: overflow encountered in multiply\n",
      "  dr2 = (dphi_dtau**2*rs*a) + (c**2*r_sch*a/(2*rs**2)) - (G*M*ms*a/(2*rs**2)) * dtau\n",
      "/var/folders/44/p2_ff2f90sl05kvyytv51rq00000gn/T/ipykernel_3949/1571925363.py:39: RuntimeWarning: overflow encountered in square\n",
      "  dr2 = (dphi_dtau**2*rs*a) + (c**2*r_sch*a/(2*rs**2)) - (G*M*ms*a/(2*rs**2)) * dtau\n",
      "/var/folders/44/p2_ff2f90sl05kvyytv51rq00000gn/T/ipykernel_3949/1571925363.py:32: RuntimeWarning: overflow encountered in square\n",
      "  dphi = Ls / (ms*rs**2) * dtau\n",
      "/var/folders/44/p2_ff2f90sl05kvyytv51rq00000gn/T/ipykernel_3949/1571925363.py:32: RuntimeWarning: overflow encountered in multiply\n",
      "  dphi = Ls / (ms*rs**2) * dtau\n",
      "/var/folders/44/p2_ff2f90sl05kvyytv51rq00000gn/T/ipykernel_3949/1571925363.py:39: RuntimeWarning: overflow encountered in multiply\n",
      "  dr2 = (dphi_dtau**2*rs*a) + (c**2*r_sch*a/(2*rs**2)) - (G*M*ms*a/(2*rs**2)) * dtau\n",
      "/var/folders/44/p2_ff2f90sl05kvyytv51rq00000gn/T/ipykernel_3949/1571925363.py:39: RuntimeWarning: overflow encountered in square\n",
      "  dr2 = (dphi_dtau**2*rs*a) + (c**2*r_sch*a/(2*rs**2)) - (G*M*ms*a/(2*rs**2)) * dtau\n",
      "/var/folders/44/p2_ff2f90sl05kvyytv51rq00000gn/T/ipykernel_3949/1571925363.py:32: RuntimeWarning: overflow encountered in square\n",
      "  dphi = Ls / (ms*rs**2) * dtau\n",
      "/var/folders/44/p2_ff2f90sl05kvyytv51rq00000gn/T/ipykernel_3949/1571925363.py:32: RuntimeWarning: overflow encountered in multiply\n",
      "  dphi = Ls / (ms*rs**2) * dtau\n",
      "/var/folders/44/p2_ff2f90sl05kvyytv51rq00000gn/T/ipykernel_3949/1571925363.py:39: RuntimeWarning: overflow encountered in multiply\n",
      "  dr2 = (dphi_dtau**2*rs*a) + (c**2*r_sch*a/(2*rs**2)) - (G*M*ms*a/(2*rs**2)) * dtau\n",
      "/var/folders/44/p2_ff2f90sl05kvyytv51rq00000gn/T/ipykernel_3949/1571925363.py:39: RuntimeWarning: overflow encountered in square\n",
      "  dr2 = (dphi_dtau**2*rs*a) + (c**2*r_sch*a/(2*rs**2)) - (G*M*ms*a/(2*rs**2)) * dtau\n"
     ]
    },
    {
     "name": "stdout",
     "output_type": "stream",
     "text": [
      "7877 7877\n",
      "7877 7877\n",
      "7877 7877\n",
      "7877 7877\n"
     ]
    },
    {
     "name": "stderr",
     "output_type": "stream",
     "text": [
      "/var/folders/44/p2_ff2f90sl05kvyytv51rq00000gn/T/ipykernel_3949/1571925363.py:32: RuntimeWarning: overflow encountered in square\n",
      "  dphi = Ls / (ms*rs**2) * dtau\n",
      "/var/folders/44/p2_ff2f90sl05kvyytv51rq00000gn/T/ipykernel_3949/1571925363.py:32: RuntimeWarning: overflow encountered in multiply\n",
      "  dphi = Ls / (ms*rs**2) * dtau\n",
      "/var/folders/44/p2_ff2f90sl05kvyytv51rq00000gn/T/ipykernel_3949/1571925363.py:39: RuntimeWarning: overflow encountered in multiply\n",
      "  dr2 = (dphi_dtau**2*rs*a) + (c**2*r_sch*a/(2*rs**2)) - (G*M*ms*a/(2*rs**2)) * dtau\n",
      "/var/folders/44/p2_ff2f90sl05kvyytv51rq00000gn/T/ipykernel_3949/1571925363.py:39: RuntimeWarning: overflow encountered in square\n",
      "  dr2 = (dphi_dtau**2*rs*a) + (c**2*r_sch*a/(2*rs**2)) - (G*M*ms*a/(2*rs**2)) * dtau\n",
      "/var/folders/44/p2_ff2f90sl05kvyytv51rq00000gn/T/ipykernel_3949/1571925363.py:32: RuntimeWarning: overflow encountered in square\n",
      "  dphi = Ls / (ms*rs**2) * dtau\n",
      "/var/folders/44/p2_ff2f90sl05kvyytv51rq00000gn/T/ipykernel_3949/1571925363.py:32: RuntimeWarning: overflow encountered in multiply\n",
      "  dphi = Ls / (ms*rs**2) * dtau\n",
      "/var/folders/44/p2_ff2f90sl05kvyytv51rq00000gn/T/ipykernel_3949/1571925363.py:39: RuntimeWarning: overflow encountered in multiply\n",
      "  dr2 = (dphi_dtau**2*rs*a) + (c**2*r_sch*a/(2*rs**2)) - (G*M*ms*a/(2*rs**2)) * dtau\n",
      "/var/folders/44/p2_ff2f90sl05kvyytv51rq00000gn/T/ipykernel_3949/1571925363.py:39: RuntimeWarning: overflow encountered in square\n",
      "  dr2 = (dphi_dtau**2*rs*a) + (c**2*r_sch*a/(2*rs**2)) - (G*M*ms*a/(2*rs**2)) * dtau\n",
      "/var/folders/44/p2_ff2f90sl05kvyytv51rq00000gn/T/ipykernel_3949/1571925363.py:32: RuntimeWarning: overflow encountered in square\n",
      "  dphi = Ls / (ms*rs**2) * dtau\n",
      "/var/folders/44/p2_ff2f90sl05kvyytv51rq00000gn/T/ipykernel_3949/1571925363.py:32: RuntimeWarning: overflow encountered in multiply\n",
      "  dphi = Ls / (ms*rs**2) * dtau\n",
      "/var/folders/44/p2_ff2f90sl05kvyytv51rq00000gn/T/ipykernel_3949/1571925363.py:39: RuntimeWarning: overflow encountered in multiply\n",
      "  dr2 = (dphi_dtau**2*rs*a) + (c**2*r_sch*a/(2*rs**2)) - (G*M*ms*a/(2*rs**2)) * dtau\n",
      "/var/folders/44/p2_ff2f90sl05kvyytv51rq00000gn/T/ipykernel_3949/1571925363.py:39: RuntimeWarning: overflow encountered in square\n",
      "  dr2 = (dphi_dtau**2*rs*a) + (c**2*r_sch*a/(2*rs**2)) - (G*M*ms*a/(2*rs**2)) * dtau\n",
      "/var/folders/44/p2_ff2f90sl05kvyytv51rq00000gn/T/ipykernel_3949/1571925363.py:32: RuntimeWarning: overflow encountered in square\n",
      "  dphi = Ls / (ms*rs**2) * dtau\n",
      "/var/folders/44/p2_ff2f90sl05kvyytv51rq00000gn/T/ipykernel_3949/1571925363.py:32: RuntimeWarning: overflow encountered in multiply\n",
      "  dphi = Ls / (ms*rs**2) * dtau\n",
      "/var/folders/44/p2_ff2f90sl05kvyytv51rq00000gn/T/ipykernel_3949/1571925363.py:39: RuntimeWarning: overflow encountered in multiply\n",
      "  dr2 = (dphi_dtau**2*rs*a) + (c**2*r_sch*a/(2*rs**2)) - (G*M*ms*a/(2*rs**2)) * dtau\n",
      "/var/folders/44/p2_ff2f90sl05kvyytv51rq00000gn/T/ipykernel_3949/1571925363.py:39: RuntimeWarning: overflow encountered in square\n",
      "  dr2 = (dphi_dtau**2*rs*a) + (c**2*r_sch*a/(2*rs**2)) - (G*M*ms*a/(2*rs**2)) * dtau\n"
     ]
    },
    {
     "name": "stdout",
     "output_type": "stream",
     "text": [
      "7877 7877\n",
      "7877 7877\n",
      "7877 7877\n",
      "7877 7877\n"
     ]
    },
    {
     "name": "stderr",
     "output_type": "stream",
     "text": [
      "/var/folders/44/p2_ff2f90sl05kvyytv51rq00000gn/T/ipykernel_3949/1571925363.py:32: RuntimeWarning: overflow encountered in square\n",
      "  dphi = Ls / (ms*rs**2) * dtau\n",
      "/var/folders/44/p2_ff2f90sl05kvyytv51rq00000gn/T/ipykernel_3949/1571925363.py:32: RuntimeWarning: overflow encountered in multiply\n",
      "  dphi = Ls / (ms*rs**2) * dtau\n",
      "/var/folders/44/p2_ff2f90sl05kvyytv51rq00000gn/T/ipykernel_3949/1571925363.py:39: RuntimeWarning: overflow encountered in multiply\n",
      "  dr2 = (dphi_dtau**2*rs*a) + (c**2*r_sch*a/(2*rs**2)) - (G*M*ms*a/(2*rs**2)) * dtau\n",
      "/var/folders/44/p2_ff2f90sl05kvyytv51rq00000gn/T/ipykernel_3949/1571925363.py:39: RuntimeWarning: overflow encountered in square\n",
      "  dr2 = (dphi_dtau**2*rs*a) + (c**2*r_sch*a/(2*rs**2)) - (G*M*ms*a/(2*rs**2)) * dtau\n",
      "/var/folders/44/p2_ff2f90sl05kvyytv51rq00000gn/T/ipykernel_3949/1571925363.py:32: RuntimeWarning: overflow encountered in square\n",
      "  dphi = Ls / (ms*rs**2) * dtau\n",
      "/var/folders/44/p2_ff2f90sl05kvyytv51rq00000gn/T/ipykernel_3949/1571925363.py:32: RuntimeWarning: overflow encountered in multiply\n",
      "  dphi = Ls / (ms*rs**2) * dtau\n",
      "/var/folders/44/p2_ff2f90sl05kvyytv51rq00000gn/T/ipykernel_3949/1571925363.py:39: RuntimeWarning: overflow encountered in multiply\n",
      "  dr2 = (dphi_dtau**2*rs*a) + (c**2*r_sch*a/(2*rs**2)) - (G*M*ms*a/(2*rs**2)) * dtau\n",
      "/var/folders/44/p2_ff2f90sl05kvyytv51rq00000gn/T/ipykernel_3949/1571925363.py:39: RuntimeWarning: overflow encountered in square\n",
      "  dr2 = (dphi_dtau**2*rs*a) + (c**2*r_sch*a/(2*rs**2)) - (G*M*ms*a/(2*rs**2)) * dtau\n",
      "/var/folders/44/p2_ff2f90sl05kvyytv51rq00000gn/T/ipykernel_3949/1571925363.py:32: RuntimeWarning: overflow encountered in square\n",
      "  dphi = Ls / (ms*rs**2) * dtau\n",
      "/var/folders/44/p2_ff2f90sl05kvyytv51rq00000gn/T/ipykernel_3949/1571925363.py:32: RuntimeWarning: overflow encountered in multiply\n",
      "  dphi = Ls / (ms*rs**2) * dtau\n",
      "/var/folders/44/p2_ff2f90sl05kvyytv51rq00000gn/T/ipykernel_3949/1571925363.py:39: RuntimeWarning: overflow encountered in multiply\n",
      "  dr2 = (dphi_dtau**2*rs*a) + (c**2*r_sch*a/(2*rs**2)) - (G*M*ms*a/(2*rs**2)) * dtau\n",
      "/var/folders/44/p2_ff2f90sl05kvyytv51rq00000gn/T/ipykernel_3949/1571925363.py:39: RuntimeWarning: overflow encountered in square\n",
      "  dr2 = (dphi_dtau**2*rs*a) + (c**2*r_sch*a/(2*rs**2)) - (G*M*ms*a/(2*rs**2)) * dtau\n",
      "/var/folders/44/p2_ff2f90sl05kvyytv51rq00000gn/T/ipykernel_3949/1571925363.py:32: RuntimeWarning: overflow encountered in square\n",
      "  dphi = Ls / (ms*rs**2) * dtau\n",
      "/var/folders/44/p2_ff2f90sl05kvyytv51rq00000gn/T/ipykernel_3949/1571925363.py:32: RuntimeWarning: overflow encountered in multiply\n",
      "  dphi = Ls / (ms*rs**2) * dtau\n",
      "/var/folders/44/p2_ff2f90sl05kvyytv51rq00000gn/T/ipykernel_3949/1571925363.py:39: RuntimeWarning: overflow encountered in multiply\n",
      "  dr2 = (dphi_dtau**2*rs*a) + (c**2*r_sch*a/(2*rs**2)) - (G*M*ms*a/(2*rs**2)) * dtau\n",
      "/var/folders/44/p2_ff2f90sl05kvyytv51rq00000gn/T/ipykernel_3949/1571925363.py:39: RuntimeWarning: overflow encountered in square\n",
      "  dr2 = (dphi_dtau**2*rs*a) + (c**2*r_sch*a/(2*rs**2)) - (G*M*ms*a/(2*rs**2)) * dtau\n"
     ]
    },
    {
     "name": "stdout",
     "output_type": "stream",
     "text": [
      "7877 7877\n",
      "7877 7877\n",
      "7877 7877\n",
      "7877 7877\n"
     ]
    },
    {
     "name": "stderr",
     "output_type": "stream",
     "text": [
      "/var/folders/44/p2_ff2f90sl05kvyytv51rq00000gn/T/ipykernel_3949/1571925363.py:32: RuntimeWarning: overflow encountered in square\n",
      "  dphi = Ls / (ms*rs**2) * dtau\n",
      "/var/folders/44/p2_ff2f90sl05kvyytv51rq00000gn/T/ipykernel_3949/1571925363.py:32: RuntimeWarning: overflow encountered in multiply\n",
      "  dphi = Ls / (ms*rs**2) * dtau\n",
      "/var/folders/44/p2_ff2f90sl05kvyytv51rq00000gn/T/ipykernel_3949/1571925363.py:39: RuntimeWarning: overflow encountered in multiply\n",
      "  dr2 = (dphi_dtau**2*rs*a) + (c**2*r_sch*a/(2*rs**2)) - (G*M*ms*a/(2*rs**2)) * dtau\n",
      "/var/folders/44/p2_ff2f90sl05kvyytv51rq00000gn/T/ipykernel_3949/1571925363.py:39: RuntimeWarning: overflow encountered in square\n",
      "  dr2 = (dphi_dtau**2*rs*a) + (c**2*r_sch*a/(2*rs**2)) - (G*M*ms*a/(2*rs**2)) * dtau\n",
      "/var/folders/44/p2_ff2f90sl05kvyytv51rq00000gn/T/ipykernel_3949/1571925363.py:32: RuntimeWarning: overflow encountered in square\n",
      "  dphi = Ls / (ms*rs**2) * dtau\n",
      "/var/folders/44/p2_ff2f90sl05kvyytv51rq00000gn/T/ipykernel_3949/1571925363.py:32: RuntimeWarning: overflow encountered in multiply\n",
      "  dphi = Ls / (ms*rs**2) * dtau\n",
      "/var/folders/44/p2_ff2f90sl05kvyytv51rq00000gn/T/ipykernel_3949/1571925363.py:39: RuntimeWarning: overflow encountered in multiply\n",
      "  dr2 = (dphi_dtau**2*rs*a) + (c**2*r_sch*a/(2*rs**2)) - (G*M*ms*a/(2*rs**2)) * dtau\n",
      "/var/folders/44/p2_ff2f90sl05kvyytv51rq00000gn/T/ipykernel_3949/1571925363.py:39: RuntimeWarning: overflow encountered in square\n",
      "  dr2 = (dphi_dtau**2*rs*a) + (c**2*r_sch*a/(2*rs**2)) - (G*M*ms*a/(2*rs**2)) * dtau\n",
      "/var/folders/44/p2_ff2f90sl05kvyytv51rq00000gn/T/ipykernel_3949/1571925363.py:32: RuntimeWarning: overflow encountered in square\n",
      "  dphi = Ls / (ms*rs**2) * dtau\n",
      "/var/folders/44/p2_ff2f90sl05kvyytv51rq00000gn/T/ipykernel_3949/1571925363.py:32: RuntimeWarning: overflow encountered in multiply\n",
      "  dphi = Ls / (ms*rs**2) * dtau\n",
      "/var/folders/44/p2_ff2f90sl05kvyytv51rq00000gn/T/ipykernel_3949/1571925363.py:39: RuntimeWarning: overflow encountered in multiply\n",
      "  dr2 = (dphi_dtau**2*rs*a) + (c**2*r_sch*a/(2*rs**2)) - (G*M*ms*a/(2*rs**2)) * dtau\n",
      "/var/folders/44/p2_ff2f90sl05kvyytv51rq00000gn/T/ipykernel_3949/1571925363.py:39: RuntimeWarning: overflow encountered in square\n",
      "  dr2 = (dphi_dtau**2*rs*a) + (c**2*r_sch*a/(2*rs**2)) - (G*M*ms*a/(2*rs**2)) * dtau\n",
      "/var/folders/44/p2_ff2f90sl05kvyytv51rq00000gn/T/ipykernel_3949/1571925363.py:32: RuntimeWarning: overflow encountered in square\n",
      "  dphi = Ls / (ms*rs**2) * dtau\n",
      "/var/folders/44/p2_ff2f90sl05kvyytv51rq00000gn/T/ipykernel_3949/1571925363.py:32: RuntimeWarning: overflow encountered in multiply\n",
      "  dphi = Ls / (ms*rs**2) * dtau\n",
      "/var/folders/44/p2_ff2f90sl05kvyytv51rq00000gn/T/ipykernel_3949/1571925363.py:39: RuntimeWarning: overflow encountered in multiply\n",
      "  dr2 = (dphi_dtau**2*rs*a) + (c**2*r_sch*a/(2*rs**2)) - (G*M*ms*a/(2*rs**2)) * dtau\n",
      "/var/folders/44/p2_ff2f90sl05kvyytv51rq00000gn/T/ipykernel_3949/1571925363.py:39: RuntimeWarning: overflow encountered in square\n",
      "  dr2 = (dphi_dtau**2*rs*a) + (c**2*r_sch*a/(2*rs**2)) - (G*M*ms*a/(2*rs**2)) * dtau\n"
     ]
    },
    {
     "name": "stdout",
     "output_type": "stream",
     "text": [
      "7877 7877\n",
      "7877 7877\n",
      "7877 7877\n",
      "7877 7877\n"
     ]
    },
    {
     "name": "stderr",
     "output_type": "stream",
     "text": [
      "/var/folders/44/p2_ff2f90sl05kvyytv51rq00000gn/T/ipykernel_3949/1571925363.py:32: RuntimeWarning: overflow encountered in square\n",
      "  dphi = Ls / (ms*rs**2) * dtau\n",
      "/var/folders/44/p2_ff2f90sl05kvyytv51rq00000gn/T/ipykernel_3949/1571925363.py:32: RuntimeWarning: overflow encountered in multiply\n",
      "  dphi = Ls / (ms*rs**2) * dtau\n",
      "/var/folders/44/p2_ff2f90sl05kvyytv51rq00000gn/T/ipykernel_3949/1571925363.py:39: RuntimeWarning: overflow encountered in multiply\n",
      "  dr2 = (dphi_dtau**2*rs*a) + (c**2*r_sch*a/(2*rs**2)) - (G*M*ms*a/(2*rs**2)) * dtau\n",
      "/var/folders/44/p2_ff2f90sl05kvyytv51rq00000gn/T/ipykernel_3949/1571925363.py:39: RuntimeWarning: overflow encountered in square\n",
      "  dr2 = (dphi_dtau**2*rs*a) + (c**2*r_sch*a/(2*rs**2)) - (G*M*ms*a/(2*rs**2)) * dtau\n",
      "/var/folders/44/p2_ff2f90sl05kvyytv51rq00000gn/T/ipykernel_3949/1571925363.py:32: RuntimeWarning: overflow encountered in square\n",
      "  dphi = Ls / (ms*rs**2) * dtau\n",
      "/var/folders/44/p2_ff2f90sl05kvyytv51rq00000gn/T/ipykernel_3949/1571925363.py:32: RuntimeWarning: overflow encountered in multiply\n",
      "  dphi = Ls / (ms*rs**2) * dtau\n",
      "/var/folders/44/p2_ff2f90sl05kvyytv51rq00000gn/T/ipykernel_3949/1571925363.py:39: RuntimeWarning: overflow encountered in multiply\n",
      "  dr2 = (dphi_dtau**2*rs*a) + (c**2*r_sch*a/(2*rs**2)) - (G*M*ms*a/(2*rs**2)) * dtau\n",
      "/var/folders/44/p2_ff2f90sl05kvyytv51rq00000gn/T/ipykernel_3949/1571925363.py:39: RuntimeWarning: overflow encountered in square\n",
      "  dr2 = (dphi_dtau**2*rs*a) + (c**2*r_sch*a/(2*rs**2)) - (G*M*ms*a/(2*rs**2)) * dtau\n",
      "/var/folders/44/p2_ff2f90sl05kvyytv51rq00000gn/T/ipykernel_3949/1571925363.py:32: RuntimeWarning: overflow encountered in square\n",
      "  dphi = Ls / (ms*rs**2) * dtau\n",
      "/var/folders/44/p2_ff2f90sl05kvyytv51rq00000gn/T/ipykernel_3949/1571925363.py:32: RuntimeWarning: overflow encountered in multiply\n",
      "  dphi = Ls / (ms*rs**2) * dtau\n",
      "/var/folders/44/p2_ff2f90sl05kvyytv51rq00000gn/T/ipykernel_3949/1571925363.py:39: RuntimeWarning: overflow encountered in multiply\n",
      "  dr2 = (dphi_dtau**2*rs*a) + (c**2*r_sch*a/(2*rs**2)) - (G*M*ms*a/(2*rs**2)) * dtau\n",
      "/var/folders/44/p2_ff2f90sl05kvyytv51rq00000gn/T/ipykernel_3949/1571925363.py:39: RuntimeWarning: overflow encountered in square\n",
      "  dr2 = (dphi_dtau**2*rs*a) + (c**2*r_sch*a/(2*rs**2)) - (G*M*ms*a/(2*rs**2)) * dtau\n",
      "/var/folders/44/p2_ff2f90sl05kvyytv51rq00000gn/T/ipykernel_3949/1571925363.py:32: RuntimeWarning: overflow encountered in square\n",
      "  dphi = Ls / (ms*rs**2) * dtau\n",
      "/var/folders/44/p2_ff2f90sl05kvyytv51rq00000gn/T/ipykernel_3949/1571925363.py:32: RuntimeWarning: overflow encountered in multiply\n",
      "  dphi = Ls / (ms*rs**2) * dtau\n",
      "/var/folders/44/p2_ff2f90sl05kvyytv51rq00000gn/T/ipykernel_3949/1571925363.py:39: RuntimeWarning: overflow encountered in multiply\n",
      "  dr2 = (dphi_dtau**2*rs*a) + (c**2*r_sch*a/(2*rs**2)) - (G*M*ms*a/(2*rs**2)) * dtau\n",
      "/var/folders/44/p2_ff2f90sl05kvyytv51rq00000gn/T/ipykernel_3949/1571925363.py:39: RuntimeWarning: overflow encountered in square\n",
      "  dr2 = (dphi_dtau**2*rs*a) + (c**2*r_sch*a/(2*rs**2)) - (G*M*ms*a/(2*rs**2)) * dtau\n"
     ]
    },
    {
     "name": "stdout",
     "output_type": "stream",
     "text": [
      "7877 7877\n",
      "7877 7877\n",
      "7877 7877\n",
      "7877 7877\n"
     ]
    },
    {
     "name": "stderr",
     "output_type": "stream",
     "text": [
      "/var/folders/44/p2_ff2f90sl05kvyytv51rq00000gn/T/ipykernel_3949/1571925363.py:32: RuntimeWarning: overflow encountered in square\n",
      "  dphi = Ls / (ms*rs**2) * dtau\n",
      "/var/folders/44/p2_ff2f90sl05kvyytv51rq00000gn/T/ipykernel_3949/1571925363.py:32: RuntimeWarning: overflow encountered in multiply\n",
      "  dphi = Ls / (ms*rs**2) * dtau\n",
      "/var/folders/44/p2_ff2f90sl05kvyytv51rq00000gn/T/ipykernel_3949/1571925363.py:39: RuntimeWarning: overflow encountered in multiply\n",
      "  dr2 = (dphi_dtau**2*rs*a) + (c**2*r_sch*a/(2*rs**2)) - (G*M*ms*a/(2*rs**2)) * dtau\n",
      "/var/folders/44/p2_ff2f90sl05kvyytv51rq00000gn/T/ipykernel_3949/1571925363.py:39: RuntimeWarning: overflow encountered in square\n",
      "  dr2 = (dphi_dtau**2*rs*a) + (c**2*r_sch*a/(2*rs**2)) - (G*M*ms*a/(2*rs**2)) * dtau\n",
      "/var/folders/44/p2_ff2f90sl05kvyytv51rq00000gn/T/ipykernel_3949/1571925363.py:32: RuntimeWarning: overflow encountered in square\n",
      "  dphi = Ls / (ms*rs**2) * dtau\n",
      "/var/folders/44/p2_ff2f90sl05kvyytv51rq00000gn/T/ipykernel_3949/1571925363.py:32: RuntimeWarning: overflow encountered in multiply\n",
      "  dphi = Ls / (ms*rs**2) * dtau\n",
      "/var/folders/44/p2_ff2f90sl05kvyytv51rq00000gn/T/ipykernel_3949/1571925363.py:39: RuntimeWarning: overflow encountered in multiply\n",
      "  dr2 = (dphi_dtau**2*rs*a) + (c**2*r_sch*a/(2*rs**2)) - (G*M*ms*a/(2*rs**2)) * dtau\n",
      "/var/folders/44/p2_ff2f90sl05kvyytv51rq00000gn/T/ipykernel_3949/1571925363.py:39: RuntimeWarning: overflow encountered in square\n",
      "  dr2 = (dphi_dtau**2*rs*a) + (c**2*r_sch*a/(2*rs**2)) - (G*M*ms*a/(2*rs**2)) * dtau\n",
      "/var/folders/44/p2_ff2f90sl05kvyytv51rq00000gn/T/ipykernel_3949/1571925363.py:32: RuntimeWarning: overflow encountered in square\n",
      "  dphi = Ls / (ms*rs**2) * dtau\n",
      "/var/folders/44/p2_ff2f90sl05kvyytv51rq00000gn/T/ipykernel_3949/1571925363.py:32: RuntimeWarning: overflow encountered in multiply\n",
      "  dphi = Ls / (ms*rs**2) * dtau\n",
      "/var/folders/44/p2_ff2f90sl05kvyytv51rq00000gn/T/ipykernel_3949/1571925363.py:39: RuntimeWarning: overflow encountered in multiply\n",
      "  dr2 = (dphi_dtau**2*rs*a) + (c**2*r_sch*a/(2*rs**2)) - (G*M*ms*a/(2*rs**2)) * dtau\n",
      "/var/folders/44/p2_ff2f90sl05kvyytv51rq00000gn/T/ipykernel_3949/1571925363.py:39: RuntimeWarning: overflow encountered in square\n",
      "  dr2 = (dphi_dtau**2*rs*a) + (c**2*r_sch*a/(2*rs**2)) - (G*M*ms*a/(2*rs**2)) * dtau\n",
      "/var/folders/44/p2_ff2f90sl05kvyytv51rq00000gn/T/ipykernel_3949/1571925363.py:32: RuntimeWarning: overflow encountered in square\n",
      "  dphi = Ls / (ms*rs**2) * dtau\n",
      "/var/folders/44/p2_ff2f90sl05kvyytv51rq00000gn/T/ipykernel_3949/1571925363.py:32: RuntimeWarning: overflow encountered in multiply\n",
      "  dphi = Ls / (ms*rs**2) * dtau\n",
      "/var/folders/44/p2_ff2f90sl05kvyytv51rq00000gn/T/ipykernel_3949/1571925363.py:39: RuntimeWarning: overflow encountered in multiply\n",
      "  dr2 = (dphi_dtau**2*rs*a) + (c**2*r_sch*a/(2*rs**2)) - (G*M*ms*a/(2*rs**2)) * dtau\n",
      "/var/folders/44/p2_ff2f90sl05kvyytv51rq00000gn/T/ipykernel_3949/1571925363.py:39: RuntimeWarning: overflow encountered in square\n",
      "  dr2 = (dphi_dtau**2*rs*a) + (c**2*r_sch*a/(2*rs**2)) - (G*M*ms*a/(2*rs**2)) * dtau\n"
     ]
    },
    {
     "name": "stdout",
     "output_type": "stream",
     "text": [
      "7877 7877\n",
      "7877 7877\n",
      "7877 7877\n",
      "7877 7877\n"
     ]
    },
    {
     "name": "stderr",
     "output_type": "stream",
     "text": [
      "/var/folders/44/p2_ff2f90sl05kvyytv51rq00000gn/T/ipykernel_3949/1571925363.py:32: RuntimeWarning: overflow encountered in square\n",
      "  dphi = Ls / (ms*rs**2) * dtau\n",
      "/var/folders/44/p2_ff2f90sl05kvyytv51rq00000gn/T/ipykernel_3949/1571925363.py:32: RuntimeWarning: overflow encountered in multiply\n",
      "  dphi = Ls / (ms*rs**2) * dtau\n",
      "/var/folders/44/p2_ff2f90sl05kvyytv51rq00000gn/T/ipykernel_3949/1571925363.py:39: RuntimeWarning: overflow encountered in multiply\n",
      "  dr2 = (dphi_dtau**2*rs*a) + (c**2*r_sch*a/(2*rs**2)) - (G*M*ms*a/(2*rs**2)) * dtau\n",
      "/var/folders/44/p2_ff2f90sl05kvyytv51rq00000gn/T/ipykernel_3949/1571925363.py:39: RuntimeWarning: overflow encountered in square\n",
      "  dr2 = (dphi_dtau**2*rs*a) + (c**2*r_sch*a/(2*rs**2)) - (G*M*ms*a/(2*rs**2)) * dtau\n",
      "/var/folders/44/p2_ff2f90sl05kvyytv51rq00000gn/T/ipykernel_3949/1571925363.py:32: RuntimeWarning: overflow encountered in square\n",
      "  dphi = Ls / (ms*rs**2) * dtau\n",
      "/var/folders/44/p2_ff2f90sl05kvyytv51rq00000gn/T/ipykernel_3949/1571925363.py:32: RuntimeWarning: overflow encountered in multiply\n",
      "  dphi = Ls / (ms*rs**2) * dtau\n",
      "/var/folders/44/p2_ff2f90sl05kvyytv51rq00000gn/T/ipykernel_3949/1571925363.py:39: RuntimeWarning: overflow encountered in multiply\n",
      "  dr2 = (dphi_dtau**2*rs*a) + (c**2*r_sch*a/(2*rs**2)) - (G*M*ms*a/(2*rs**2)) * dtau\n",
      "/var/folders/44/p2_ff2f90sl05kvyytv51rq00000gn/T/ipykernel_3949/1571925363.py:39: RuntimeWarning: overflow encountered in square\n",
      "  dr2 = (dphi_dtau**2*rs*a) + (c**2*r_sch*a/(2*rs**2)) - (G*M*ms*a/(2*rs**2)) * dtau\n",
      "/var/folders/44/p2_ff2f90sl05kvyytv51rq00000gn/T/ipykernel_3949/1571925363.py:32: RuntimeWarning: overflow encountered in square\n",
      "  dphi = Ls / (ms*rs**2) * dtau\n",
      "/var/folders/44/p2_ff2f90sl05kvyytv51rq00000gn/T/ipykernel_3949/1571925363.py:32: RuntimeWarning: overflow encountered in multiply\n",
      "  dphi = Ls / (ms*rs**2) * dtau\n",
      "/var/folders/44/p2_ff2f90sl05kvyytv51rq00000gn/T/ipykernel_3949/1571925363.py:39: RuntimeWarning: overflow encountered in multiply\n",
      "  dr2 = (dphi_dtau**2*rs*a) + (c**2*r_sch*a/(2*rs**2)) - (G*M*ms*a/(2*rs**2)) * dtau\n",
      "/var/folders/44/p2_ff2f90sl05kvyytv51rq00000gn/T/ipykernel_3949/1571925363.py:39: RuntimeWarning: overflow encountered in square\n",
      "  dr2 = (dphi_dtau**2*rs*a) + (c**2*r_sch*a/(2*rs**2)) - (G*M*ms*a/(2*rs**2)) * dtau\n",
      "/var/folders/44/p2_ff2f90sl05kvyytv51rq00000gn/T/ipykernel_3949/1571925363.py:32: RuntimeWarning: overflow encountered in square\n",
      "  dphi = Ls / (ms*rs**2) * dtau\n",
      "/var/folders/44/p2_ff2f90sl05kvyytv51rq00000gn/T/ipykernel_3949/1571925363.py:32: RuntimeWarning: overflow encountered in multiply\n",
      "  dphi = Ls / (ms*rs**2) * dtau\n",
      "/var/folders/44/p2_ff2f90sl05kvyytv51rq00000gn/T/ipykernel_3949/1571925363.py:39: RuntimeWarning: overflow encountered in multiply\n",
      "  dr2 = (dphi_dtau**2*rs*a) + (c**2*r_sch*a/(2*rs**2)) - (G*M*ms*a/(2*rs**2)) * dtau\n",
      "/var/folders/44/p2_ff2f90sl05kvyytv51rq00000gn/T/ipykernel_3949/1571925363.py:39: RuntimeWarning: overflow encountered in square\n",
      "  dr2 = (dphi_dtau**2*rs*a) + (c**2*r_sch*a/(2*rs**2)) - (G*M*ms*a/(2*rs**2)) * dtau\n"
     ]
    },
    {
     "name": "stdout",
     "output_type": "stream",
     "text": [
      "7877 7877\n",
      "7877 7877\n",
      "7877 7877\n",
      "7877 7877\n"
     ]
    },
    {
     "name": "stderr",
     "output_type": "stream",
     "text": [
      "/var/folders/44/p2_ff2f90sl05kvyytv51rq00000gn/T/ipykernel_3949/1571925363.py:32: RuntimeWarning: overflow encountered in square\n",
      "  dphi = Ls / (ms*rs**2) * dtau\n",
      "/var/folders/44/p2_ff2f90sl05kvyytv51rq00000gn/T/ipykernel_3949/1571925363.py:32: RuntimeWarning: overflow encountered in multiply\n",
      "  dphi = Ls / (ms*rs**2) * dtau\n",
      "/var/folders/44/p2_ff2f90sl05kvyytv51rq00000gn/T/ipykernel_3949/1571925363.py:39: RuntimeWarning: overflow encountered in multiply\n",
      "  dr2 = (dphi_dtau**2*rs*a) + (c**2*r_sch*a/(2*rs**2)) - (G*M*ms*a/(2*rs**2)) * dtau\n",
      "/var/folders/44/p2_ff2f90sl05kvyytv51rq00000gn/T/ipykernel_3949/1571925363.py:39: RuntimeWarning: overflow encountered in square\n",
      "  dr2 = (dphi_dtau**2*rs*a) + (c**2*r_sch*a/(2*rs**2)) - (G*M*ms*a/(2*rs**2)) * dtau\n",
      "/var/folders/44/p2_ff2f90sl05kvyytv51rq00000gn/T/ipykernel_3949/1571925363.py:32: RuntimeWarning: overflow encountered in square\n",
      "  dphi = Ls / (ms*rs**2) * dtau\n",
      "/var/folders/44/p2_ff2f90sl05kvyytv51rq00000gn/T/ipykernel_3949/1571925363.py:32: RuntimeWarning: overflow encountered in multiply\n",
      "  dphi = Ls / (ms*rs**2) * dtau\n",
      "/var/folders/44/p2_ff2f90sl05kvyytv51rq00000gn/T/ipykernel_3949/1571925363.py:39: RuntimeWarning: overflow encountered in multiply\n",
      "  dr2 = (dphi_dtau**2*rs*a) + (c**2*r_sch*a/(2*rs**2)) - (G*M*ms*a/(2*rs**2)) * dtau\n",
      "/var/folders/44/p2_ff2f90sl05kvyytv51rq00000gn/T/ipykernel_3949/1571925363.py:39: RuntimeWarning: overflow encountered in square\n",
      "  dr2 = (dphi_dtau**2*rs*a) + (c**2*r_sch*a/(2*rs**2)) - (G*M*ms*a/(2*rs**2)) * dtau\n",
      "/var/folders/44/p2_ff2f90sl05kvyytv51rq00000gn/T/ipykernel_3949/1571925363.py:32: RuntimeWarning: overflow encountered in square\n",
      "  dphi = Ls / (ms*rs**2) * dtau\n",
      "/var/folders/44/p2_ff2f90sl05kvyytv51rq00000gn/T/ipykernel_3949/1571925363.py:32: RuntimeWarning: overflow encountered in multiply\n",
      "  dphi = Ls / (ms*rs**2) * dtau\n",
      "/var/folders/44/p2_ff2f90sl05kvyytv51rq00000gn/T/ipykernel_3949/1571925363.py:39: RuntimeWarning: overflow encountered in multiply\n",
      "  dr2 = (dphi_dtau**2*rs*a) + (c**2*r_sch*a/(2*rs**2)) - (G*M*ms*a/(2*rs**2)) * dtau\n",
      "/var/folders/44/p2_ff2f90sl05kvyytv51rq00000gn/T/ipykernel_3949/1571925363.py:39: RuntimeWarning: overflow encountered in square\n",
      "  dr2 = (dphi_dtau**2*rs*a) + (c**2*r_sch*a/(2*rs**2)) - (G*M*ms*a/(2*rs**2)) * dtau\n",
      "/var/folders/44/p2_ff2f90sl05kvyytv51rq00000gn/T/ipykernel_3949/1571925363.py:32: RuntimeWarning: overflow encountered in square\n",
      "  dphi = Ls / (ms*rs**2) * dtau\n",
      "/var/folders/44/p2_ff2f90sl05kvyytv51rq00000gn/T/ipykernel_3949/1571925363.py:32: RuntimeWarning: overflow encountered in multiply\n",
      "  dphi = Ls / (ms*rs**2) * dtau\n",
      "/var/folders/44/p2_ff2f90sl05kvyytv51rq00000gn/T/ipykernel_3949/1571925363.py:39: RuntimeWarning: overflow encountered in multiply\n",
      "  dr2 = (dphi_dtau**2*rs*a) + (c**2*r_sch*a/(2*rs**2)) - (G*M*ms*a/(2*rs**2)) * dtau\n",
      "/var/folders/44/p2_ff2f90sl05kvyytv51rq00000gn/T/ipykernel_3949/1571925363.py:39: RuntimeWarning: overflow encountered in square\n",
      "  dr2 = (dphi_dtau**2*rs*a) + (c**2*r_sch*a/(2*rs**2)) - (G*M*ms*a/(2*rs**2)) * dtau\n"
     ]
    },
    {
     "name": "stdout",
     "output_type": "stream",
     "text": [
      "7877 7877\n",
      "7877 7877\n",
      "7877 7877\n",
      "7877 7877\n"
     ]
    },
    {
     "name": "stderr",
     "output_type": "stream",
     "text": [
      "/var/folders/44/p2_ff2f90sl05kvyytv51rq00000gn/T/ipykernel_3949/1571925363.py:32: RuntimeWarning: overflow encountered in square\n",
      "  dphi = Ls / (ms*rs**2) * dtau\n",
      "/var/folders/44/p2_ff2f90sl05kvyytv51rq00000gn/T/ipykernel_3949/1571925363.py:32: RuntimeWarning: overflow encountered in multiply\n",
      "  dphi = Ls / (ms*rs**2) * dtau\n",
      "/var/folders/44/p2_ff2f90sl05kvyytv51rq00000gn/T/ipykernel_3949/1571925363.py:39: RuntimeWarning: overflow encountered in multiply\n",
      "  dr2 = (dphi_dtau**2*rs*a) + (c**2*r_sch*a/(2*rs**2)) - (G*M*ms*a/(2*rs**2)) * dtau\n",
      "/var/folders/44/p2_ff2f90sl05kvyytv51rq00000gn/T/ipykernel_3949/1571925363.py:39: RuntimeWarning: overflow encountered in square\n",
      "  dr2 = (dphi_dtau**2*rs*a) + (c**2*r_sch*a/(2*rs**2)) - (G*M*ms*a/(2*rs**2)) * dtau\n",
      "/var/folders/44/p2_ff2f90sl05kvyytv51rq00000gn/T/ipykernel_3949/1571925363.py:32: RuntimeWarning: overflow encountered in square\n",
      "  dphi = Ls / (ms*rs**2) * dtau\n",
      "/var/folders/44/p2_ff2f90sl05kvyytv51rq00000gn/T/ipykernel_3949/1571925363.py:32: RuntimeWarning: overflow encountered in multiply\n",
      "  dphi = Ls / (ms*rs**2) * dtau\n",
      "/var/folders/44/p2_ff2f90sl05kvyytv51rq00000gn/T/ipykernel_3949/1571925363.py:39: RuntimeWarning: overflow encountered in multiply\n",
      "  dr2 = (dphi_dtau**2*rs*a) + (c**2*r_sch*a/(2*rs**2)) - (G*M*ms*a/(2*rs**2)) * dtau\n",
      "/var/folders/44/p2_ff2f90sl05kvyytv51rq00000gn/T/ipykernel_3949/1571925363.py:39: RuntimeWarning: overflow encountered in square\n",
      "  dr2 = (dphi_dtau**2*rs*a) + (c**2*r_sch*a/(2*rs**2)) - (G*M*ms*a/(2*rs**2)) * dtau\n",
      "/var/folders/44/p2_ff2f90sl05kvyytv51rq00000gn/T/ipykernel_3949/1571925363.py:32: RuntimeWarning: overflow encountered in square\n",
      "  dphi = Ls / (ms*rs**2) * dtau\n",
      "/var/folders/44/p2_ff2f90sl05kvyytv51rq00000gn/T/ipykernel_3949/1571925363.py:32: RuntimeWarning: overflow encountered in multiply\n",
      "  dphi = Ls / (ms*rs**2) * dtau\n",
      "/var/folders/44/p2_ff2f90sl05kvyytv51rq00000gn/T/ipykernel_3949/1571925363.py:39: RuntimeWarning: overflow encountered in multiply\n",
      "  dr2 = (dphi_dtau**2*rs*a) + (c**2*r_sch*a/(2*rs**2)) - (G*M*ms*a/(2*rs**2)) * dtau\n",
      "/var/folders/44/p2_ff2f90sl05kvyytv51rq00000gn/T/ipykernel_3949/1571925363.py:39: RuntimeWarning: overflow encountered in square\n",
      "  dr2 = (dphi_dtau**2*rs*a) + (c**2*r_sch*a/(2*rs**2)) - (G*M*ms*a/(2*rs**2)) * dtau\n",
      "/var/folders/44/p2_ff2f90sl05kvyytv51rq00000gn/T/ipykernel_3949/1571925363.py:32: RuntimeWarning: overflow encountered in square\n",
      "  dphi = Ls / (ms*rs**2) * dtau\n",
      "/var/folders/44/p2_ff2f90sl05kvyytv51rq00000gn/T/ipykernel_3949/1571925363.py:32: RuntimeWarning: overflow encountered in multiply\n",
      "  dphi = Ls / (ms*rs**2) * dtau\n",
      "/var/folders/44/p2_ff2f90sl05kvyytv51rq00000gn/T/ipykernel_3949/1571925363.py:39: RuntimeWarning: overflow encountered in multiply\n",
      "  dr2 = (dphi_dtau**2*rs*a) + (c**2*r_sch*a/(2*rs**2)) - (G*M*ms*a/(2*rs**2)) * dtau\n",
      "/var/folders/44/p2_ff2f90sl05kvyytv51rq00000gn/T/ipykernel_3949/1571925363.py:39: RuntimeWarning: overflow encountered in square\n",
      "  dr2 = (dphi_dtau**2*rs*a) + (c**2*r_sch*a/(2*rs**2)) - (G*M*ms*a/(2*rs**2)) * dtau\n"
     ]
    },
    {
     "name": "stdout",
     "output_type": "stream",
     "text": [
      "7877 7877\n",
      "7877 7877\n",
      "7877 7877\n"
     ]
    },
    {
     "name": "stderr",
     "output_type": "stream",
     "text": [
      "/var/folders/44/p2_ff2f90sl05kvyytv51rq00000gn/T/ipykernel_3949/1571925363.py:32: RuntimeWarning: overflow encountered in square\n",
      "  dphi = Ls / (ms*rs**2) * dtau\n",
      "/var/folders/44/p2_ff2f90sl05kvyytv51rq00000gn/T/ipykernel_3949/1571925363.py:32: RuntimeWarning: overflow encountered in multiply\n",
      "  dphi = Ls / (ms*rs**2) * dtau\n",
      "/var/folders/44/p2_ff2f90sl05kvyytv51rq00000gn/T/ipykernel_3949/1571925363.py:39: RuntimeWarning: overflow encountered in multiply\n",
      "  dr2 = (dphi_dtau**2*rs*a) + (c**2*r_sch*a/(2*rs**2)) - (G*M*ms*a/(2*rs**2)) * dtau\n",
      "/var/folders/44/p2_ff2f90sl05kvyytv51rq00000gn/T/ipykernel_3949/1571925363.py:39: RuntimeWarning: overflow encountered in square\n",
      "  dr2 = (dphi_dtau**2*rs*a) + (c**2*r_sch*a/(2*rs**2)) - (G*M*ms*a/(2*rs**2)) * dtau\n",
      "/var/folders/44/p2_ff2f90sl05kvyytv51rq00000gn/T/ipykernel_3949/1571925363.py:32: RuntimeWarning: overflow encountered in square\n",
      "  dphi = Ls / (ms*rs**2) * dtau\n",
      "/var/folders/44/p2_ff2f90sl05kvyytv51rq00000gn/T/ipykernel_3949/1571925363.py:32: RuntimeWarning: overflow encountered in multiply\n",
      "  dphi = Ls / (ms*rs**2) * dtau\n",
      "/var/folders/44/p2_ff2f90sl05kvyytv51rq00000gn/T/ipykernel_3949/1571925363.py:39: RuntimeWarning: overflow encountered in multiply\n",
      "  dr2 = (dphi_dtau**2*rs*a) + (c**2*r_sch*a/(2*rs**2)) - (G*M*ms*a/(2*rs**2)) * dtau\n",
      "/var/folders/44/p2_ff2f90sl05kvyytv51rq00000gn/T/ipykernel_3949/1571925363.py:39: RuntimeWarning: overflow encountered in square\n",
      "  dr2 = (dphi_dtau**2*rs*a) + (c**2*r_sch*a/(2*rs**2)) - (G*M*ms*a/(2*rs**2)) * dtau\n",
      "/var/folders/44/p2_ff2f90sl05kvyytv51rq00000gn/T/ipykernel_3949/1571925363.py:32: RuntimeWarning: overflow encountered in square\n",
      "  dphi = Ls / (ms*rs**2) * dtau\n",
      "/var/folders/44/p2_ff2f90sl05kvyytv51rq00000gn/T/ipykernel_3949/1571925363.py:32: RuntimeWarning: overflow encountered in multiply\n",
      "  dphi = Ls / (ms*rs**2) * dtau\n",
      "/var/folders/44/p2_ff2f90sl05kvyytv51rq00000gn/T/ipykernel_3949/1571925363.py:39: RuntimeWarning: overflow encountered in multiply\n",
      "  dr2 = (dphi_dtau**2*rs*a) + (c**2*r_sch*a/(2*rs**2)) - (G*M*ms*a/(2*rs**2)) * dtau\n",
      "/var/folders/44/p2_ff2f90sl05kvyytv51rq00000gn/T/ipykernel_3949/1571925363.py:39: RuntimeWarning: overflow encountered in square\n",
      "  dr2 = (dphi_dtau**2*rs*a) + (c**2*r_sch*a/(2*rs**2)) - (G*M*ms*a/(2*rs**2)) * dtau\n"
     ]
    },
    {
     "name": "stdout",
     "output_type": "stream",
     "text": [
      "7877 7877\n",
      "7877 7877\n"
     ]
    },
    {
     "name": "stderr",
     "output_type": "stream",
     "text": [
      "/var/folders/44/p2_ff2f90sl05kvyytv51rq00000gn/T/ipykernel_3949/1571925363.py:32: RuntimeWarning: overflow encountered in square\n",
      "  dphi = Ls / (ms*rs**2) * dtau\n",
      "/var/folders/44/p2_ff2f90sl05kvyytv51rq00000gn/T/ipykernel_3949/1571925363.py:32: RuntimeWarning: overflow encountered in multiply\n",
      "  dphi = Ls / (ms*rs**2) * dtau\n",
      "/var/folders/44/p2_ff2f90sl05kvyytv51rq00000gn/T/ipykernel_3949/1571925363.py:39: RuntimeWarning: overflow encountered in multiply\n",
      "  dr2 = (dphi_dtau**2*rs*a) + (c**2*r_sch*a/(2*rs**2)) - (G*M*ms*a/(2*rs**2)) * dtau\n",
      "/var/folders/44/p2_ff2f90sl05kvyytv51rq00000gn/T/ipykernel_3949/1571925363.py:39: RuntimeWarning: overflow encountered in square\n",
      "  dr2 = (dphi_dtau**2*rs*a) + (c**2*r_sch*a/(2*rs**2)) - (G*M*ms*a/(2*rs**2)) * dtau\n",
      "/var/folders/44/p2_ff2f90sl05kvyytv51rq00000gn/T/ipykernel_3949/1571925363.py:32: RuntimeWarning: overflow encountered in square\n",
      "  dphi = Ls / (ms*rs**2) * dtau\n",
      "/var/folders/44/p2_ff2f90sl05kvyytv51rq00000gn/T/ipykernel_3949/1571925363.py:32: RuntimeWarning: overflow encountered in multiply\n",
      "  dphi = Ls / (ms*rs**2) * dtau\n",
      "/var/folders/44/p2_ff2f90sl05kvyytv51rq00000gn/T/ipykernel_3949/1571925363.py:39: RuntimeWarning: overflow encountered in multiply\n",
      "  dr2 = (dphi_dtau**2*rs*a) + (c**2*r_sch*a/(2*rs**2)) - (G*M*ms*a/(2*rs**2)) * dtau\n",
      "/var/folders/44/p2_ff2f90sl05kvyytv51rq00000gn/T/ipykernel_3949/1571925363.py:39: RuntimeWarning: overflow encountered in square\n",
      "  dr2 = (dphi_dtau**2*rs*a) + (c**2*r_sch*a/(2*rs**2)) - (G*M*ms*a/(2*rs**2)) * dtau\n",
      "/var/folders/44/p2_ff2f90sl05kvyytv51rq00000gn/T/ipykernel_3949/1571925363.py:32: RuntimeWarning: overflow encountered in square\n",
      "  dphi = Ls / (ms*rs**2) * dtau\n",
      "/var/folders/44/p2_ff2f90sl05kvyytv51rq00000gn/T/ipykernel_3949/1571925363.py:32: RuntimeWarning: overflow encountered in multiply\n",
      "  dphi = Ls / (ms*rs**2) * dtau\n",
      "/var/folders/44/p2_ff2f90sl05kvyytv51rq00000gn/T/ipykernel_3949/1571925363.py:39: RuntimeWarning: overflow encountered in multiply\n",
      "  dr2 = (dphi_dtau**2*rs*a) + (c**2*r_sch*a/(2*rs**2)) - (G*M*ms*a/(2*rs**2)) * dtau\n",
      "/var/folders/44/p2_ff2f90sl05kvyytv51rq00000gn/T/ipykernel_3949/1571925363.py:39: RuntimeWarning: overflow encountered in square\n",
      "  dr2 = (dphi_dtau**2*rs*a) + (c**2*r_sch*a/(2*rs**2)) - (G*M*ms*a/(2*rs**2)) * dtau\n",
      "/var/folders/44/p2_ff2f90sl05kvyytv51rq00000gn/T/ipykernel_3949/1571925363.py:32: RuntimeWarning: overflow encountered in square\n",
      "  dphi = Ls / (ms*rs**2) * dtau\n",
      "/var/folders/44/p2_ff2f90sl05kvyytv51rq00000gn/T/ipykernel_3949/1571925363.py:32: RuntimeWarning: overflow encountered in multiply\n",
      "  dphi = Ls / (ms*rs**2) * dtau\n",
      "/var/folders/44/p2_ff2f90sl05kvyytv51rq00000gn/T/ipykernel_3949/1571925363.py:39: RuntimeWarning: overflow encountered in multiply\n",
      "  dr2 = (dphi_dtau**2*rs*a) + (c**2*r_sch*a/(2*rs**2)) - (G*M*ms*a/(2*rs**2)) * dtau\n",
      "/var/folders/44/p2_ff2f90sl05kvyytv51rq00000gn/T/ipykernel_3949/1571925363.py:39: RuntimeWarning: overflow encountered in square\n",
      "  dr2 = (dphi_dtau**2*rs*a) + (c**2*r_sch*a/(2*rs**2)) - (G*M*ms*a/(2*rs**2)) * dtau\n"
     ]
    },
    {
     "name": "stdout",
     "output_type": "stream",
     "text": [
      "7877 7877\n",
      "7877 7877\n",
      "7877 7877\n",
      "7877 7877\n"
     ]
    },
    {
     "name": "stderr",
     "output_type": "stream",
     "text": [
      "/var/folders/44/p2_ff2f90sl05kvyytv51rq00000gn/T/ipykernel_3949/1571925363.py:32: RuntimeWarning: overflow encountered in square\n",
      "  dphi = Ls / (ms*rs**2) * dtau\n",
      "/var/folders/44/p2_ff2f90sl05kvyytv51rq00000gn/T/ipykernel_3949/1571925363.py:32: RuntimeWarning: overflow encountered in multiply\n",
      "  dphi = Ls / (ms*rs**2) * dtau\n",
      "/var/folders/44/p2_ff2f90sl05kvyytv51rq00000gn/T/ipykernel_3949/1571925363.py:39: RuntimeWarning: overflow encountered in multiply\n",
      "  dr2 = (dphi_dtau**2*rs*a) + (c**2*r_sch*a/(2*rs**2)) - (G*M*ms*a/(2*rs**2)) * dtau\n",
      "/var/folders/44/p2_ff2f90sl05kvyytv51rq00000gn/T/ipykernel_3949/1571925363.py:39: RuntimeWarning: overflow encountered in square\n",
      "  dr2 = (dphi_dtau**2*rs*a) + (c**2*r_sch*a/(2*rs**2)) - (G*M*ms*a/(2*rs**2)) * dtau\n",
      "/var/folders/44/p2_ff2f90sl05kvyytv51rq00000gn/T/ipykernel_3949/1571925363.py:32: RuntimeWarning: overflow encountered in square\n",
      "  dphi = Ls / (ms*rs**2) * dtau\n",
      "/var/folders/44/p2_ff2f90sl05kvyytv51rq00000gn/T/ipykernel_3949/1571925363.py:32: RuntimeWarning: overflow encountered in multiply\n",
      "  dphi = Ls / (ms*rs**2) * dtau\n",
      "/var/folders/44/p2_ff2f90sl05kvyytv51rq00000gn/T/ipykernel_3949/1571925363.py:39: RuntimeWarning: overflow encountered in multiply\n",
      "  dr2 = (dphi_dtau**2*rs*a) + (c**2*r_sch*a/(2*rs**2)) - (G*M*ms*a/(2*rs**2)) * dtau\n",
      "/var/folders/44/p2_ff2f90sl05kvyytv51rq00000gn/T/ipykernel_3949/1571925363.py:39: RuntimeWarning: overflow encountered in square\n",
      "  dr2 = (dphi_dtau**2*rs*a) + (c**2*r_sch*a/(2*rs**2)) - (G*M*ms*a/(2*rs**2)) * dtau\n",
      "/var/folders/44/p2_ff2f90sl05kvyytv51rq00000gn/T/ipykernel_3949/1571925363.py:32: RuntimeWarning: overflow encountered in square\n",
      "  dphi = Ls / (ms*rs**2) * dtau\n",
      "/var/folders/44/p2_ff2f90sl05kvyytv51rq00000gn/T/ipykernel_3949/1571925363.py:32: RuntimeWarning: overflow encountered in multiply\n",
      "  dphi = Ls / (ms*rs**2) * dtau\n",
      "/var/folders/44/p2_ff2f90sl05kvyytv51rq00000gn/T/ipykernel_3949/1571925363.py:39: RuntimeWarning: overflow encountered in multiply\n",
      "  dr2 = (dphi_dtau**2*rs*a) + (c**2*r_sch*a/(2*rs**2)) - (G*M*ms*a/(2*rs**2)) * dtau\n",
      "/var/folders/44/p2_ff2f90sl05kvyytv51rq00000gn/T/ipykernel_3949/1571925363.py:39: RuntimeWarning: overflow encountered in square\n",
      "  dr2 = (dphi_dtau**2*rs*a) + (c**2*r_sch*a/(2*rs**2)) - (G*M*ms*a/(2*rs**2)) * dtau\n",
      "/var/folders/44/p2_ff2f90sl05kvyytv51rq00000gn/T/ipykernel_3949/1571925363.py:32: RuntimeWarning: overflow encountered in square\n",
      "  dphi = Ls / (ms*rs**2) * dtau\n",
      "/var/folders/44/p2_ff2f90sl05kvyytv51rq00000gn/T/ipykernel_3949/1571925363.py:32: RuntimeWarning: overflow encountered in multiply\n",
      "  dphi = Ls / (ms*rs**2) * dtau\n",
      "/var/folders/44/p2_ff2f90sl05kvyytv51rq00000gn/T/ipykernel_3949/1571925363.py:39: RuntimeWarning: overflow encountered in multiply\n",
      "  dr2 = (dphi_dtau**2*rs*a) + (c**2*r_sch*a/(2*rs**2)) - (G*M*ms*a/(2*rs**2)) * dtau\n",
      "/var/folders/44/p2_ff2f90sl05kvyytv51rq00000gn/T/ipykernel_3949/1571925363.py:39: RuntimeWarning: overflow encountered in square\n",
      "  dr2 = (dphi_dtau**2*rs*a) + (c**2*r_sch*a/(2*rs**2)) - (G*M*ms*a/(2*rs**2)) * dtau\n"
     ]
    },
    {
     "name": "stdout",
     "output_type": "stream",
     "text": [
      "7877 7877\n",
      "7877 7877\n",
      "7877 7877\n"
     ]
    },
    {
     "name": "stderr",
     "output_type": "stream",
     "text": [
      "/var/folders/44/p2_ff2f90sl05kvyytv51rq00000gn/T/ipykernel_3949/1571925363.py:32: RuntimeWarning: overflow encountered in square\n",
      "  dphi = Ls / (ms*rs**2) * dtau\n",
      "/var/folders/44/p2_ff2f90sl05kvyytv51rq00000gn/T/ipykernel_3949/1571925363.py:32: RuntimeWarning: overflow encountered in multiply\n",
      "  dphi = Ls / (ms*rs**2) * dtau\n",
      "/var/folders/44/p2_ff2f90sl05kvyytv51rq00000gn/T/ipykernel_3949/1571925363.py:39: RuntimeWarning: overflow encountered in multiply\n",
      "  dr2 = (dphi_dtau**2*rs*a) + (c**2*r_sch*a/(2*rs**2)) - (G*M*ms*a/(2*rs**2)) * dtau\n",
      "/var/folders/44/p2_ff2f90sl05kvyytv51rq00000gn/T/ipykernel_3949/1571925363.py:39: RuntimeWarning: overflow encountered in square\n",
      "  dr2 = (dphi_dtau**2*rs*a) + (c**2*r_sch*a/(2*rs**2)) - (G*M*ms*a/(2*rs**2)) * dtau\n",
      "/var/folders/44/p2_ff2f90sl05kvyytv51rq00000gn/T/ipykernel_3949/1571925363.py:41: RuntimeWarning: overflow encountered in add\n",
      "  dr += dr2\n",
      "/var/folders/44/p2_ff2f90sl05kvyytv51rq00000gn/T/ipykernel_3949/1571925363.py:32: RuntimeWarning: overflow encountered in square\n",
      "  dphi = Ls / (ms*rs**2) * dtau\n",
      "/var/folders/44/p2_ff2f90sl05kvyytv51rq00000gn/T/ipykernel_3949/1571925363.py:32: RuntimeWarning: overflow encountered in multiply\n",
      "  dphi = Ls / (ms*rs**2) * dtau\n",
      "/var/folders/44/p2_ff2f90sl05kvyytv51rq00000gn/T/ipykernel_3949/1571925363.py:39: RuntimeWarning: overflow encountered in multiply\n",
      "  dr2 = (dphi_dtau**2*rs*a) + (c**2*r_sch*a/(2*rs**2)) - (G*M*ms*a/(2*rs**2)) * dtau\n",
      "/var/folders/44/p2_ff2f90sl05kvyytv51rq00000gn/T/ipykernel_3949/1571925363.py:39: RuntimeWarning: overflow encountered in square\n",
      "  dr2 = (dphi_dtau**2*rs*a) + (c**2*r_sch*a/(2*rs**2)) - (G*M*ms*a/(2*rs**2)) * dtau\n",
      "/var/folders/44/p2_ff2f90sl05kvyytv51rq00000gn/T/ipykernel_3949/1571925363.py:32: RuntimeWarning: overflow encountered in square\n",
      "  dphi = Ls / (ms*rs**2) * dtau\n",
      "/var/folders/44/p2_ff2f90sl05kvyytv51rq00000gn/T/ipykernel_3949/1571925363.py:32: RuntimeWarning: overflow encountered in multiply\n",
      "  dphi = Ls / (ms*rs**2) * dtau\n",
      "/var/folders/44/p2_ff2f90sl05kvyytv51rq00000gn/T/ipykernel_3949/1571925363.py:39: RuntimeWarning: overflow encountered in multiply\n",
      "  dr2 = (dphi_dtau**2*rs*a) + (c**2*r_sch*a/(2*rs**2)) - (G*M*ms*a/(2*rs**2)) * dtau\n",
      "/var/folders/44/p2_ff2f90sl05kvyytv51rq00000gn/T/ipykernel_3949/1571925363.py:39: RuntimeWarning: overflow encountered in square\n",
      "  dr2 = (dphi_dtau**2*rs*a) + (c**2*r_sch*a/(2*rs**2)) - (G*M*ms*a/(2*rs**2)) * dtau\n",
      "/var/folders/44/p2_ff2f90sl05kvyytv51rq00000gn/T/ipykernel_3949/1571925363.py:32: RuntimeWarning: overflow encountered in square\n",
      "  dphi = Ls / (ms*rs**2) * dtau\n",
      "/var/folders/44/p2_ff2f90sl05kvyytv51rq00000gn/T/ipykernel_3949/1571925363.py:32: RuntimeWarning: overflow encountered in multiply\n",
      "  dphi = Ls / (ms*rs**2) * dtau\n",
      "/var/folders/44/p2_ff2f90sl05kvyytv51rq00000gn/T/ipykernel_3949/1571925363.py:39: RuntimeWarning: overflow encountered in multiply\n",
      "  dr2 = (dphi_dtau**2*rs*a) + (c**2*r_sch*a/(2*rs**2)) - (G*M*ms*a/(2*rs**2)) * dtau\n",
      "/var/folders/44/p2_ff2f90sl05kvyytv51rq00000gn/T/ipykernel_3949/1571925363.py:39: RuntimeWarning: overflow encountered in square\n",
      "  dr2 = (dphi_dtau**2*rs*a) + (c**2*r_sch*a/(2*rs**2)) - (G*M*ms*a/(2*rs**2)) * dtau\n"
     ]
    },
    {
     "name": "stdout",
     "output_type": "stream",
     "text": [
      "7877 7877\n",
      "7877 7877\n",
      "7877 7877\n",
      "7877 7877\n"
     ]
    },
    {
     "name": "stderr",
     "output_type": "stream",
     "text": [
      "/var/folders/44/p2_ff2f90sl05kvyytv51rq00000gn/T/ipykernel_3949/1571925363.py:32: RuntimeWarning: overflow encountered in square\n",
      "  dphi = Ls / (ms*rs**2) * dtau\n",
      "/var/folders/44/p2_ff2f90sl05kvyytv51rq00000gn/T/ipykernel_3949/1571925363.py:32: RuntimeWarning: overflow encountered in multiply\n",
      "  dphi = Ls / (ms*rs**2) * dtau\n",
      "/var/folders/44/p2_ff2f90sl05kvyytv51rq00000gn/T/ipykernel_3949/1571925363.py:39: RuntimeWarning: overflow encountered in multiply\n",
      "  dr2 = (dphi_dtau**2*rs*a) + (c**2*r_sch*a/(2*rs**2)) - (G*M*ms*a/(2*rs**2)) * dtau\n",
      "/var/folders/44/p2_ff2f90sl05kvyytv51rq00000gn/T/ipykernel_3949/1571925363.py:39: RuntimeWarning: overflow encountered in square\n",
      "  dr2 = (dphi_dtau**2*rs*a) + (c**2*r_sch*a/(2*rs**2)) - (G*M*ms*a/(2*rs**2)) * dtau\n",
      "/var/folders/44/p2_ff2f90sl05kvyytv51rq00000gn/T/ipykernel_3949/1571925363.py:32: RuntimeWarning: overflow encountered in square\n",
      "  dphi = Ls / (ms*rs**2) * dtau\n",
      "/var/folders/44/p2_ff2f90sl05kvyytv51rq00000gn/T/ipykernel_3949/1571925363.py:32: RuntimeWarning: overflow encountered in multiply\n",
      "  dphi = Ls / (ms*rs**2) * dtau\n",
      "/var/folders/44/p2_ff2f90sl05kvyytv51rq00000gn/T/ipykernel_3949/1571925363.py:39: RuntimeWarning: overflow encountered in multiply\n",
      "  dr2 = (dphi_dtau**2*rs*a) + (c**2*r_sch*a/(2*rs**2)) - (G*M*ms*a/(2*rs**2)) * dtau\n",
      "/var/folders/44/p2_ff2f90sl05kvyytv51rq00000gn/T/ipykernel_3949/1571925363.py:39: RuntimeWarning: overflow encountered in square\n",
      "  dr2 = (dphi_dtau**2*rs*a) + (c**2*r_sch*a/(2*rs**2)) - (G*M*ms*a/(2*rs**2)) * dtau\n",
      "/var/folders/44/p2_ff2f90sl05kvyytv51rq00000gn/T/ipykernel_3949/1571925363.py:32: RuntimeWarning: overflow encountered in square\n",
      "  dphi = Ls / (ms*rs**2) * dtau\n",
      "/var/folders/44/p2_ff2f90sl05kvyytv51rq00000gn/T/ipykernel_3949/1571925363.py:32: RuntimeWarning: overflow encountered in multiply\n",
      "  dphi = Ls / (ms*rs**2) * dtau\n",
      "/var/folders/44/p2_ff2f90sl05kvyytv51rq00000gn/T/ipykernel_3949/1571925363.py:39: RuntimeWarning: overflow encountered in multiply\n",
      "  dr2 = (dphi_dtau**2*rs*a) + (c**2*r_sch*a/(2*rs**2)) - (G*M*ms*a/(2*rs**2)) * dtau\n",
      "/var/folders/44/p2_ff2f90sl05kvyytv51rq00000gn/T/ipykernel_3949/1571925363.py:39: RuntimeWarning: overflow encountered in square\n",
      "  dr2 = (dphi_dtau**2*rs*a) + (c**2*r_sch*a/(2*rs**2)) - (G*M*ms*a/(2*rs**2)) * dtau\n",
      "/var/folders/44/p2_ff2f90sl05kvyytv51rq00000gn/T/ipykernel_3949/1571925363.py:32: RuntimeWarning: overflow encountered in square\n",
      "  dphi = Ls / (ms*rs**2) * dtau\n",
      "/var/folders/44/p2_ff2f90sl05kvyytv51rq00000gn/T/ipykernel_3949/1571925363.py:32: RuntimeWarning: overflow encountered in multiply\n",
      "  dphi = Ls / (ms*rs**2) * dtau\n",
      "/var/folders/44/p2_ff2f90sl05kvyytv51rq00000gn/T/ipykernel_3949/1571925363.py:39: RuntimeWarning: overflow encountered in square\n",
      "  dr2 = (dphi_dtau**2*rs*a) + (c**2*r_sch*a/(2*rs**2)) - (G*M*ms*a/(2*rs**2)) * dtau\n"
     ]
    },
    {
     "name": "stdout",
     "output_type": "stream",
     "text": [
      "7877 7877\n",
      "7877 7877\n",
      "7877 7877\n",
      "7877 7877\n"
     ]
    },
    {
     "name": "stderr",
     "output_type": "stream",
     "text": [
      "/var/folders/44/p2_ff2f90sl05kvyytv51rq00000gn/T/ipykernel_3949/1571925363.py:32: RuntimeWarning: overflow encountered in square\n",
      "  dphi = Ls / (ms*rs**2) * dtau\n",
      "/var/folders/44/p2_ff2f90sl05kvyytv51rq00000gn/T/ipykernel_3949/1571925363.py:32: RuntimeWarning: overflow encountered in multiply\n",
      "  dphi = Ls / (ms*rs**2) * dtau\n",
      "/var/folders/44/p2_ff2f90sl05kvyytv51rq00000gn/T/ipykernel_3949/1571925363.py:39: RuntimeWarning: overflow encountered in multiply\n",
      "  dr2 = (dphi_dtau**2*rs*a) + (c**2*r_sch*a/(2*rs**2)) - (G*M*ms*a/(2*rs**2)) * dtau\n",
      "/var/folders/44/p2_ff2f90sl05kvyytv51rq00000gn/T/ipykernel_3949/1571925363.py:39: RuntimeWarning: overflow encountered in square\n",
      "  dr2 = (dphi_dtau**2*rs*a) + (c**2*r_sch*a/(2*rs**2)) - (G*M*ms*a/(2*rs**2)) * dtau\n",
      "/var/folders/44/p2_ff2f90sl05kvyytv51rq00000gn/T/ipykernel_3949/1571925363.py:32: RuntimeWarning: overflow encountered in square\n",
      "  dphi = Ls / (ms*rs**2) * dtau\n",
      "/var/folders/44/p2_ff2f90sl05kvyytv51rq00000gn/T/ipykernel_3949/1571925363.py:32: RuntimeWarning: overflow encountered in multiply\n",
      "  dphi = Ls / (ms*rs**2) * dtau\n",
      "/var/folders/44/p2_ff2f90sl05kvyytv51rq00000gn/T/ipykernel_3949/1571925363.py:39: RuntimeWarning: overflow encountered in multiply\n",
      "  dr2 = (dphi_dtau**2*rs*a) + (c**2*r_sch*a/(2*rs**2)) - (G*M*ms*a/(2*rs**2)) * dtau\n",
      "/var/folders/44/p2_ff2f90sl05kvyytv51rq00000gn/T/ipykernel_3949/1571925363.py:39: RuntimeWarning: overflow encountered in square\n",
      "  dr2 = (dphi_dtau**2*rs*a) + (c**2*r_sch*a/(2*rs**2)) - (G*M*ms*a/(2*rs**2)) * dtau\n",
      "/var/folders/44/p2_ff2f90sl05kvyytv51rq00000gn/T/ipykernel_3949/1571925363.py:32: RuntimeWarning: overflow encountered in square\n",
      "  dphi = Ls / (ms*rs**2) * dtau\n",
      "/var/folders/44/p2_ff2f90sl05kvyytv51rq00000gn/T/ipykernel_3949/1571925363.py:32: RuntimeWarning: overflow encountered in multiply\n",
      "  dphi = Ls / (ms*rs**2) * dtau\n",
      "/var/folders/44/p2_ff2f90sl05kvyytv51rq00000gn/T/ipykernel_3949/1571925363.py:39: RuntimeWarning: overflow encountered in multiply\n",
      "  dr2 = (dphi_dtau**2*rs*a) + (c**2*r_sch*a/(2*rs**2)) - (G*M*ms*a/(2*rs**2)) * dtau\n",
      "/var/folders/44/p2_ff2f90sl05kvyytv51rq00000gn/T/ipykernel_3949/1571925363.py:39: RuntimeWarning: overflow encountered in square\n",
      "  dr2 = (dphi_dtau**2*rs*a) + (c**2*r_sch*a/(2*rs**2)) - (G*M*ms*a/(2*rs**2)) * dtau\n",
      "/var/folders/44/p2_ff2f90sl05kvyytv51rq00000gn/T/ipykernel_3949/1571925363.py:32: RuntimeWarning: overflow encountered in square\n",
      "  dphi = Ls / (ms*rs**2) * dtau\n",
      "/var/folders/44/p2_ff2f90sl05kvyytv51rq00000gn/T/ipykernel_3949/1571925363.py:32: RuntimeWarning: overflow encountered in multiply\n",
      "  dphi = Ls / (ms*rs**2) * dtau\n",
      "/var/folders/44/p2_ff2f90sl05kvyytv51rq00000gn/T/ipykernel_3949/1571925363.py:39: RuntimeWarning: overflow encountered in multiply\n",
      "  dr2 = (dphi_dtau**2*rs*a) + (c**2*r_sch*a/(2*rs**2)) - (G*M*ms*a/(2*rs**2)) * dtau\n",
      "/var/folders/44/p2_ff2f90sl05kvyytv51rq00000gn/T/ipykernel_3949/1571925363.py:39: RuntimeWarning: overflow encountered in square\n",
      "  dr2 = (dphi_dtau**2*rs*a) + (c**2*r_sch*a/(2*rs**2)) - (G*M*ms*a/(2*rs**2)) * dtau\n"
     ]
    },
    {
     "name": "stdout",
     "output_type": "stream",
     "text": [
      "7877 7877\n",
      "7877 7877\n",
      "7877 7877\n",
      "7877 7877\n"
     ]
    },
    {
     "name": "stderr",
     "output_type": "stream",
     "text": [
      "/var/folders/44/p2_ff2f90sl05kvyytv51rq00000gn/T/ipykernel_3949/1571925363.py:32: RuntimeWarning: overflow encountered in square\n",
      "  dphi = Ls / (ms*rs**2) * dtau\n",
      "/var/folders/44/p2_ff2f90sl05kvyytv51rq00000gn/T/ipykernel_3949/1571925363.py:32: RuntimeWarning: overflow encountered in multiply\n",
      "  dphi = Ls / (ms*rs**2) * dtau\n",
      "/var/folders/44/p2_ff2f90sl05kvyytv51rq00000gn/T/ipykernel_3949/1571925363.py:39: RuntimeWarning: overflow encountered in multiply\n",
      "  dr2 = (dphi_dtau**2*rs*a) + (c**2*r_sch*a/(2*rs**2)) - (G*M*ms*a/(2*rs**2)) * dtau\n",
      "/var/folders/44/p2_ff2f90sl05kvyytv51rq00000gn/T/ipykernel_3949/1571925363.py:39: RuntimeWarning: overflow encountered in square\n",
      "  dr2 = (dphi_dtau**2*rs*a) + (c**2*r_sch*a/(2*rs**2)) - (G*M*ms*a/(2*rs**2)) * dtau\n",
      "/var/folders/44/p2_ff2f90sl05kvyytv51rq00000gn/T/ipykernel_3949/1571925363.py:32: RuntimeWarning: overflow encountered in square\n",
      "  dphi = Ls / (ms*rs**2) * dtau\n",
      "/var/folders/44/p2_ff2f90sl05kvyytv51rq00000gn/T/ipykernel_3949/1571925363.py:32: RuntimeWarning: overflow encountered in multiply\n",
      "  dphi = Ls / (ms*rs**2) * dtau\n",
      "/var/folders/44/p2_ff2f90sl05kvyytv51rq00000gn/T/ipykernel_3949/1571925363.py:39: RuntimeWarning: overflow encountered in multiply\n",
      "  dr2 = (dphi_dtau**2*rs*a) + (c**2*r_sch*a/(2*rs**2)) - (G*M*ms*a/(2*rs**2)) * dtau\n",
      "/var/folders/44/p2_ff2f90sl05kvyytv51rq00000gn/T/ipykernel_3949/1571925363.py:39: RuntimeWarning: overflow encountered in square\n",
      "  dr2 = (dphi_dtau**2*rs*a) + (c**2*r_sch*a/(2*rs**2)) - (G*M*ms*a/(2*rs**2)) * dtau\n",
      "/var/folders/44/p2_ff2f90sl05kvyytv51rq00000gn/T/ipykernel_3949/1571925363.py:32: RuntimeWarning: overflow encountered in square\n",
      "  dphi = Ls / (ms*rs**2) * dtau\n",
      "/var/folders/44/p2_ff2f90sl05kvyytv51rq00000gn/T/ipykernel_3949/1571925363.py:32: RuntimeWarning: overflow encountered in multiply\n",
      "  dphi = Ls / (ms*rs**2) * dtau\n",
      "/var/folders/44/p2_ff2f90sl05kvyytv51rq00000gn/T/ipykernel_3949/1571925363.py:39: RuntimeWarning: overflow encountered in multiply\n",
      "  dr2 = (dphi_dtau**2*rs*a) + (c**2*r_sch*a/(2*rs**2)) - (G*M*ms*a/(2*rs**2)) * dtau\n",
      "/var/folders/44/p2_ff2f90sl05kvyytv51rq00000gn/T/ipykernel_3949/1571925363.py:39: RuntimeWarning: overflow encountered in square\n",
      "  dr2 = (dphi_dtau**2*rs*a) + (c**2*r_sch*a/(2*rs**2)) - (G*M*ms*a/(2*rs**2)) * dtau\n",
      "/var/folders/44/p2_ff2f90sl05kvyytv51rq00000gn/T/ipykernel_3949/1571925363.py:32: RuntimeWarning: overflow encountered in square\n",
      "  dphi = Ls / (ms*rs**2) * dtau\n",
      "/var/folders/44/p2_ff2f90sl05kvyytv51rq00000gn/T/ipykernel_3949/1571925363.py:32: RuntimeWarning: overflow encountered in multiply\n",
      "  dphi = Ls / (ms*rs**2) * dtau\n",
      "/var/folders/44/p2_ff2f90sl05kvyytv51rq00000gn/T/ipykernel_3949/1571925363.py:39: RuntimeWarning: overflow encountered in multiply\n",
      "  dr2 = (dphi_dtau**2*rs*a) + (c**2*r_sch*a/(2*rs**2)) - (G*M*ms*a/(2*rs**2)) * dtau\n",
      "/var/folders/44/p2_ff2f90sl05kvyytv51rq00000gn/T/ipykernel_3949/1571925363.py:39: RuntimeWarning: overflow encountered in square\n",
      "  dr2 = (dphi_dtau**2*rs*a) + (c**2*r_sch*a/(2*rs**2)) - (G*M*ms*a/(2*rs**2)) * dtau\n"
     ]
    },
    {
     "name": "stdout",
     "output_type": "stream",
     "text": [
      "7877 7877\n",
      "7877 7877\n",
      "7877 7877\n",
      "7877 7877\n"
     ]
    },
    {
     "name": "stderr",
     "output_type": "stream",
     "text": [
      "/var/folders/44/p2_ff2f90sl05kvyytv51rq00000gn/T/ipykernel_3949/1571925363.py:32: RuntimeWarning: overflow encountered in square\n",
      "  dphi = Ls / (ms*rs**2) * dtau\n",
      "/var/folders/44/p2_ff2f90sl05kvyytv51rq00000gn/T/ipykernel_3949/1571925363.py:32: RuntimeWarning: overflow encountered in multiply\n",
      "  dphi = Ls / (ms*rs**2) * dtau\n",
      "/var/folders/44/p2_ff2f90sl05kvyytv51rq00000gn/T/ipykernel_3949/1571925363.py:39: RuntimeWarning: overflow encountered in multiply\n",
      "  dr2 = (dphi_dtau**2*rs*a) + (c**2*r_sch*a/(2*rs**2)) - (G*M*ms*a/(2*rs**2)) * dtau\n",
      "/var/folders/44/p2_ff2f90sl05kvyytv51rq00000gn/T/ipykernel_3949/1571925363.py:39: RuntimeWarning: overflow encountered in square\n",
      "  dr2 = (dphi_dtau**2*rs*a) + (c**2*r_sch*a/(2*rs**2)) - (G*M*ms*a/(2*rs**2)) * dtau\n",
      "/var/folders/44/p2_ff2f90sl05kvyytv51rq00000gn/T/ipykernel_3949/1571925363.py:32: RuntimeWarning: overflow encountered in square\n",
      "  dphi = Ls / (ms*rs**2) * dtau\n",
      "/var/folders/44/p2_ff2f90sl05kvyytv51rq00000gn/T/ipykernel_3949/1571925363.py:32: RuntimeWarning: overflow encountered in multiply\n",
      "  dphi = Ls / (ms*rs**2) * dtau\n",
      "/var/folders/44/p2_ff2f90sl05kvyytv51rq00000gn/T/ipykernel_3949/1571925363.py:39: RuntimeWarning: overflow encountered in multiply\n",
      "  dr2 = (dphi_dtau**2*rs*a) + (c**2*r_sch*a/(2*rs**2)) - (G*M*ms*a/(2*rs**2)) * dtau\n",
      "/var/folders/44/p2_ff2f90sl05kvyytv51rq00000gn/T/ipykernel_3949/1571925363.py:39: RuntimeWarning: overflow encountered in square\n",
      "  dr2 = (dphi_dtau**2*rs*a) + (c**2*r_sch*a/(2*rs**2)) - (G*M*ms*a/(2*rs**2)) * dtau\n",
      "/var/folders/44/p2_ff2f90sl05kvyytv51rq00000gn/T/ipykernel_3949/1571925363.py:32: RuntimeWarning: overflow encountered in square\n",
      "  dphi = Ls / (ms*rs**2) * dtau\n",
      "/var/folders/44/p2_ff2f90sl05kvyytv51rq00000gn/T/ipykernel_3949/1571925363.py:32: RuntimeWarning: overflow encountered in multiply\n",
      "  dphi = Ls / (ms*rs**2) * dtau\n",
      "/var/folders/44/p2_ff2f90sl05kvyytv51rq00000gn/T/ipykernel_3949/1571925363.py:39: RuntimeWarning: overflow encountered in multiply\n",
      "  dr2 = (dphi_dtau**2*rs*a) + (c**2*r_sch*a/(2*rs**2)) - (G*M*ms*a/(2*rs**2)) * dtau\n",
      "/var/folders/44/p2_ff2f90sl05kvyytv51rq00000gn/T/ipykernel_3949/1571925363.py:39: RuntimeWarning: overflow encountered in square\n",
      "  dr2 = (dphi_dtau**2*rs*a) + (c**2*r_sch*a/(2*rs**2)) - (G*M*ms*a/(2*rs**2)) * dtau\n",
      "/var/folders/44/p2_ff2f90sl05kvyytv51rq00000gn/T/ipykernel_3949/1571925363.py:32: RuntimeWarning: overflow encountered in square\n",
      "  dphi = Ls / (ms*rs**2) * dtau\n",
      "/var/folders/44/p2_ff2f90sl05kvyytv51rq00000gn/T/ipykernel_3949/1571925363.py:32: RuntimeWarning: overflow encountered in multiply\n",
      "  dphi = Ls / (ms*rs**2) * dtau\n",
      "/var/folders/44/p2_ff2f90sl05kvyytv51rq00000gn/T/ipykernel_3949/1571925363.py:39: RuntimeWarning: overflow encountered in multiply\n",
      "  dr2 = (dphi_dtau**2*rs*a) + (c**2*r_sch*a/(2*rs**2)) - (G*M*ms*a/(2*rs**2)) * dtau\n",
      "/var/folders/44/p2_ff2f90sl05kvyytv51rq00000gn/T/ipykernel_3949/1571925363.py:39: RuntimeWarning: overflow encountered in square\n",
      "  dr2 = (dphi_dtau**2*rs*a) + (c**2*r_sch*a/(2*rs**2)) - (G*M*ms*a/(2*rs**2)) * dtau\n"
     ]
    },
    {
     "name": "stdout",
     "output_type": "stream",
     "text": [
      "7877 7877\n",
      "7877 7877\n",
      "7877 7877\n",
      "7877 7877\n"
     ]
    },
    {
     "name": "stderr",
     "output_type": "stream",
     "text": [
      "/var/folders/44/p2_ff2f90sl05kvyytv51rq00000gn/T/ipykernel_3949/1571925363.py:32: RuntimeWarning: overflow encountered in square\n",
      "  dphi = Ls / (ms*rs**2) * dtau\n",
      "/var/folders/44/p2_ff2f90sl05kvyytv51rq00000gn/T/ipykernel_3949/1571925363.py:32: RuntimeWarning: overflow encountered in multiply\n",
      "  dphi = Ls / (ms*rs**2) * dtau\n",
      "/var/folders/44/p2_ff2f90sl05kvyytv51rq00000gn/T/ipykernel_3949/1571925363.py:39: RuntimeWarning: overflow encountered in multiply\n",
      "  dr2 = (dphi_dtau**2*rs*a) + (c**2*r_sch*a/(2*rs**2)) - (G*M*ms*a/(2*rs**2)) * dtau\n",
      "/var/folders/44/p2_ff2f90sl05kvyytv51rq00000gn/T/ipykernel_3949/1571925363.py:39: RuntimeWarning: overflow encountered in square\n",
      "  dr2 = (dphi_dtau**2*rs*a) + (c**2*r_sch*a/(2*rs**2)) - (G*M*ms*a/(2*rs**2)) * dtau\n",
      "/var/folders/44/p2_ff2f90sl05kvyytv51rq00000gn/T/ipykernel_3949/1571925363.py:32: RuntimeWarning: overflow encountered in square\n",
      "  dphi = Ls / (ms*rs**2) * dtau\n",
      "/var/folders/44/p2_ff2f90sl05kvyytv51rq00000gn/T/ipykernel_3949/1571925363.py:32: RuntimeWarning: overflow encountered in multiply\n",
      "  dphi = Ls / (ms*rs**2) * dtau\n",
      "/var/folders/44/p2_ff2f90sl05kvyytv51rq00000gn/T/ipykernel_3949/1571925363.py:39: RuntimeWarning: overflow encountered in multiply\n",
      "  dr2 = (dphi_dtau**2*rs*a) + (c**2*r_sch*a/(2*rs**2)) - (G*M*ms*a/(2*rs**2)) * dtau\n",
      "/var/folders/44/p2_ff2f90sl05kvyytv51rq00000gn/T/ipykernel_3949/1571925363.py:39: RuntimeWarning: overflow encountered in square\n",
      "  dr2 = (dphi_dtau**2*rs*a) + (c**2*r_sch*a/(2*rs**2)) - (G*M*ms*a/(2*rs**2)) * dtau\n",
      "/var/folders/44/p2_ff2f90sl05kvyytv51rq00000gn/T/ipykernel_3949/1571925363.py:32: RuntimeWarning: overflow encountered in square\n",
      "  dphi = Ls / (ms*rs**2) * dtau\n",
      "/var/folders/44/p2_ff2f90sl05kvyytv51rq00000gn/T/ipykernel_3949/1571925363.py:32: RuntimeWarning: overflow encountered in multiply\n",
      "  dphi = Ls / (ms*rs**2) * dtau\n",
      "/var/folders/44/p2_ff2f90sl05kvyytv51rq00000gn/T/ipykernel_3949/1571925363.py:39: RuntimeWarning: overflow encountered in multiply\n",
      "  dr2 = (dphi_dtau**2*rs*a) + (c**2*r_sch*a/(2*rs**2)) - (G*M*ms*a/(2*rs**2)) * dtau\n",
      "/var/folders/44/p2_ff2f90sl05kvyytv51rq00000gn/T/ipykernel_3949/1571925363.py:39: RuntimeWarning: overflow encountered in square\n",
      "  dr2 = (dphi_dtau**2*rs*a) + (c**2*r_sch*a/(2*rs**2)) - (G*M*ms*a/(2*rs**2)) * dtau\n",
      "/var/folders/44/p2_ff2f90sl05kvyytv51rq00000gn/T/ipykernel_3949/1571925363.py:32: RuntimeWarning: overflow encountered in square\n",
      "  dphi = Ls / (ms*rs**2) * dtau\n",
      "/var/folders/44/p2_ff2f90sl05kvyytv51rq00000gn/T/ipykernel_3949/1571925363.py:32: RuntimeWarning: overflow encountered in multiply\n",
      "  dphi = Ls / (ms*rs**2) * dtau\n",
      "/var/folders/44/p2_ff2f90sl05kvyytv51rq00000gn/T/ipykernel_3949/1571925363.py:39: RuntimeWarning: overflow encountered in multiply\n",
      "  dr2 = (dphi_dtau**2*rs*a) + (c**2*r_sch*a/(2*rs**2)) - (G*M*ms*a/(2*rs**2)) * dtau\n",
      "/var/folders/44/p2_ff2f90sl05kvyytv51rq00000gn/T/ipykernel_3949/1571925363.py:39: RuntimeWarning: overflow encountered in square\n",
      "  dr2 = (dphi_dtau**2*rs*a) + (c**2*r_sch*a/(2*rs**2)) - (G*M*ms*a/(2*rs**2)) * dtau\n"
     ]
    },
    {
     "name": "stdout",
     "output_type": "stream",
     "text": [
      "7877 7877\n",
      "7877 7877\n",
      "7877 7877\n",
      "7877 7877\n"
     ]
    },
    {
     "name": "stderr",
     "output_type": "stream",
     "text": [
      "/var/folders/44/p2_ff2f90sl05kvyytv51rq00000gn/T/ipykernel_3949/1571925363.py:32: RuntimeWarning: overflow encountered in square\n",
      "  dphi = Ls / (ms*rs**2) * dtau\n",
      "/var/folders/44/p2_ff2f90sl05kvyytv51rq00000gn/T/ipykernel_3949/1571925363.py:32: RuntimeWarning: overflow encountered in multiply\n",
      "  dphi = Ls / (ms*rs**2) * dtau\n",
      "/var/folders/44/p2_ff2f90sl05kvyytv51rq00000gn/T/ipykernel_3949/1571925363.py:39: RuntimeWarning: overflow encountered in multiply\n",
      "  dr2 = (dphi_dtau**2*rs*a) + (c**2*r_sch*a/(2*rs**2)) - (G*M*ms*a/(2*rs**2)) * dtau\n",
      "/var/folders/44/p2_ff2f90sl05kvyytv51rq00000gn/T/ipykernel_3949/1571925363.py:39: RuntimeWarning: overflow encountered in square\n",
      "  dr2 = (dphi_dtau**2*rs*a) + (c**2*r_sch*a/(2*rs**2)) - (G*M*ms*a/(2*rs**2)) * dtau\n",
      "/var/folders/44/p2_ff2f90sl05kvyytv51rq00000gn/T/ipykernel_3949/1571925363.py:32: RuntimeWarning: overflow encountered in square\n",
      "  dphi = Ls / (ms*rs**2) * dtau\n",
      "/var/folders/44/p2_ff2f90sl05kvyytv51rq00000gn/T/ipykernel_3949/1571925363.py:32: RuntimeWarning: overflow encountered in multiply\n",
      "  dphi = Ls / (ms*rs**2) * dtau\n",
      "/var/folders/44/p2_ff2f90sl05kvyytv51rq00000gn/T/ipykernel_3949/1571925363.py:39: RuntimeWarning: overflow encountered in multiply\n",
      "  dr2 = (dphi_dtau**2*rs*a) + (c**2*r_sch*a/(2*rs**2)) - (G*M*ms*a/(2*rs**2)) * dtau\n",
      "/var/folders/44/p2_ff2f90sl05kvyytv51rq00000gn/T/ipykernel_3949/1571925363.py:39: RuntimeWarning: overflow encountered in square\n",
      "  dr2 = (dphi_dtau**2*rs*a) + (c**2*r_sch*a/(2*rs**2)) - (G*M*ms*a/(2*rs**2)) * dtau\n",
      "/var/folders/44/p2_ff2f90sl05kvyytv51rq00000gn/T/ipykernel_3949/1571925363.py:32: RuntimeWarning: overflow encountered in square\n",
      "  dphi = Ls / (ms*rs**2) * dtau\n",
      "/var/folders/44/p2_ff2f90sl05kvyytv51rq00000gn/T/ipykernel_3949/1571925363.py:32: RuntimeWarning: overflow encountered in multiply\n",
      "  dphi = Ls / (ms*rs**2) * dtau\n",
      "/var/folders/44/p2_ff2f90sl05kvyytv51rq00000gn/T/ipykernel_3949/1571925363.py:39: RuntimeWarning: overflow encountered in multiply\n",
      "  dr2 = (dphi_dtau**2*rs*a) + (c**2*r_sch*a/(2*rs**2)) - (G*M*ms*a/(2*rs**2)) * dtau\n",
      "/var/folders/44/p2_ff2f90sl05kvyytv51rq00000gn/T/ipykernel_3949/1571925363.py:39: RuntimeWarning: overflow encountered in square\n",
      "  dr2 = (dphi_dtau**2*rs*a) + (c**2*r_sch*a/(2*rs**2)) - (G*M*ms*a/(2*rs**2)) * dtau\n",
      "/var/folders/44/p2_ff2f90sl05kvyytv51rq00000gn/T/ipykernel_3949/1571925363.py:32: RuntimeWarning: overflow encountered in square\n",
      "  dphi = Ls / (ms*rs**2) * dtau\n",
      "/var/folders/44/p2_ff2f90sl05kvyytv51rq00000gn/T/ipykernel_3949/1571925363.py:32: RuntimeWarning: overflow encountered in multiply\n",
      "  dphi = Ls / (ms*rs**2) * dtau\n",
      "/var/folders/44/p2_ff2f90sl05kvyytv51rq00000gn/T/ipykernel_3949/1571925363.py:39: RuntimeWarning: overflow encountered in multiply\n",
      "  dr2 = (dphi_dtau**2*rs*a) + (c**2*r_sch*a/(2*rs**2)) - (G*M*ms*a/(2*rs**2)) * dtau\n",
      "/var/folders/44/p2_ff2f90sl05kvyytv51rq00000gn/T/ipykernel_3949/1571925363.py:39: RuntimeWarning: overflow encountered in square\n",
      "  dr2 = (dphi_dtau**2*rs*a) + (c**2*r_sch*a/(2*rs**2)) - (G*M*ms*a/(2*rs**2)) * dtau\n"
     ]
    },
    {
     "name": "stdout",
     "output_type": "stream",
     "text": [
      "7877 7877\n",
      "7877 7877\n",
      "7877 7877\n",
      "7877 7877\n"
     ]
    },
    {
     "name": "stderr",
     "output_type": "stream",
     "text": [
      "/var/folders/44/p2_ff2f90sl05kvyytv51rq00000gn/T/ipykernel_3949/1571925363.py:32: RuntimeWarning: overflow encountered in square\n",
      "  dphi = Ls / (ms*rs**2) * dtau\n",
      "/var/folders/44/p2_ff2f90sl05kvyytv51rq00000gn/T/ipykernel_3949/1571925363.py:32: RuntimeWarning: overflow encountered in multiply\n",
      "  dphi = Ls / (ms*rs**2) * dtau\n",
      "/var/folders/44/p2_ff2f90sl05kvyytv51rq00000gn/T/ipykernel_3949/1571925363.py:39: RuntimeWarning: overflow encountered in square\n",
      "  dr2 = (dphi_dtau**2*rs*a) + (c**2*r_sch*a/(2*rs**2)) - (G*M*ms*a/(2*rs**2)) * dtau\n",
      "/var/folders/44/p2_ff2f90sl05kvyytv51rq00000gn/T/ipykernel_3949/1571925363.py:32: RuntimeWarning: overflow encountered in square\n",
      "  dphi = Ls / (ms*rs**2) * dtau\n",
      "/var/folders/44/p2_ff2f90sl05kvyytv51rq00000gn/T/ipykernel_3949/1571925363.py:32: RuntimeWarning: overflow encountered in multiply\n",
      "  dphi = Ls / (ms*rs**2) * dtau\n",
      "/var/folders/44/p2_ff2f90sl05kvyytv51rq00000gn/T/ipykernel_3949/1571925363.py:39: RuntimeWarning: overflow encountered in multiply\n",
      "  dr2 = (dphi_dtau**2*rs*a) + (c**2*r_sch*a/(2*rs**2)) - (G*M*ms*a/(2*rs**2)) * dtau\n",
      "/var/folders/44/p2_ff2f90sl05kvyytv51rq00000gn/T/ipykernel_3949/1571925363.py:39: RuntimeWarning: overflow encountered in square\n",
      "  dr2 = (dphi_dtau**2*rs*a) + (c**2*r_sch*a/(2*rs**2)) - (G*M*ms*a/(2*rs**2)) * dtau\n",
      "/var/folders/44/p2_ff2f90sl05kvyytv51rq00000gn/T/ipykernel_3949/1571925363.py:32: RuntimeWarning: overflow encountered in square\n",
      "  dphi = Ls / (ms*rs**2) * dtau\n",
      "/var/folders/44/p2_ff2f90sl05kvyytv51rq00000gn/T/ipykernel_3949/1571925363.py:32: RuntimeWarning: overflow encountered in multiply\n",
      "  dphi = Ls / (ms*rs**2) * dtau\n",
      "/var/folders/44/p2_ff2f90sl05kvyytv51rq00000gn/T/ipykernel_3949/1571925363.py:39: RuntimeWarning: overflow encountered in multiply\n",
      "  dr2 = (dphi_dtau**2*rs*a) + (c**2*r_sch*a/(2*rs**2)) - (G*M*ms*a/(2*rs**2)) * dtau\n",
      "/var/folders/44/p2_ff2f90sl05kvyytv51rq00000gn/T/ipykernel_3949/1571925363.py:39: RuntimeWarning: overflow encountered in square\n",
      "  dr2 = (dphi_dtau**2*rs*a) + (c**2*r_sch*a/(2*rs**2)) - (G*M*ms*a/(2*rs**2)) * dtau\n",
      "/var/folders/44/p2_ff2f90sl05kvyytv51rq00000gn/T/ipykernel_3949/1571925363.py:32: RuntimeWarning: overflow encountered in square\n",
      "  dphi = Ls / (ms*rs**2) * dtau\n",
      "/var/folders/44/p2_ff2f90sl05kvyytv51rq00000gn/T/ipykernel_3949/1571925363.py:32: RuntimeWarning: overflow encountered in multiply\n",
      "  dphi = Ls / (ms*rs**2) * dtau\n",
      "/var/folders/44/p2_ff2f90sl05kvyytv51rq00000gn/T/ipykernel_3949/1571925363.py:39: RuntimeWarning: overflow encountered in multiply\n",
      "  dr2 = (dphi_dtau**2*rs*a) + (c**2*r_sch*a/(2*rs**2)) - (G*M*ms*a/(2*rs**2)) * dtau\n",
      "/var/folders/44/p2_ff2f90sl05kvyytv51rq00000gn/T/ipykernel_3949/1571925363.py:39: RuntimeWarning: overflow encountered in square\n",
      "  dr2 = (dphi_dtau**2*rs*a) + (c**2*r_sch*a/(2*rs**2)) - (G*M*ms*a/(2*rs**2)) * dtau\n"
     ]
    },
    {
     "name": "stdout",
     "output_type": "stream",
     "text": [
      "7877 7877\n",
      "7877 7877\n",
      "7877 7877\n",
      "7877 7877\n"
     ]
    },
    {
     "name": "stderr",
     "output_type": "stream",
     "text": [
      "/var/folders/44/p2_ff2f90sl05kvyytv51rq00000gn/T/ipykernel_3949/1571925363.py:32: RuntimeWarning: overflow encountered in square\n",
      "  dphi = Ls / (ms*rs**2) * dtau\n",
      "/var/folders/44/p2_ff2f90sl05kvyytv51rq00000gn/T/ipykernel_3949/1571925363.py:32: RuntimeWarning: overflow encountered in multiply\n",
      "  dphi = Ls / (ms*rs**2) * dtau\n",
      "/var/folders/44/p2_ff2f90sl05kvyytv51rq00000gn/T/ipykernel_3949/1571925363.py:39: RuntimeWarning: overflow encountered in square\n",
      "  dr2 = (dphi_dtau**2*rs*a) + (c**2*r_sch*a/(2*rs**2)) - (G*M*ms*a/(2*rs**2)) * dtau\n",
      "/var/folders/44/p2_ff2f90sl05kvyytv51rq00000gn/T/ipykernel_3949/1571925363.py:32: RuntimeWarning: overflow encountered in square\n",
      "  dphi = Ls / (ms*rs**2) * dtau\n",
      "/var/folders/44/p2_ff2f90sl05kvyytv51rq00000gn/T/ipykernel_3949/1571925363.py:32: RuntimeWarning: overflow encountered in multiply\n",
      "  dphi = Ls / (ms*rs**2) * dtau\n",
      "/var/folders/44/p2_ff2f90sl05kvyytv51rq00000gn/T/ipykernel_3949/1571925363.py:39: RuntimeWarning: overflow encountered in multiply\n",
      "  dr2 = (dphi_dtau**2*rs*a) + (c**2*r_sch*a/(2*rs**2)) - (G*M*ms*a/(2*rs**2)) * dtau\n",
      "/var/folders/44/p2_ff2f90sl05kvyytv51rq00000gn/T/ipykernel_3949/1571925363.py:39: RuntimeWarning: overflow encountered in square\n",
      "  dr2 = (dphi_dtau**2*rs*a) + (c**2*r_sch*a/(2*rs**2)) - (G*M*ms*a/(2*rs**2)) * dtau\n",
      "/var/folders/44/p2_ff2f90sl05kvyytv51rq00000gn/T/ipykernel_3949/1571925363.py:32: RuntimeWarning: overflow encountered in square\n",
      "  dphi = Ls / (ms*rs**2) * dtau\n",
      "/var/folders/44/p2_ff2f90sl05kvyytv51rq00000gn/T/ipykernel_3949/1571925363.py:32: RuntimeWarning: overflow encountered in multiply\n",
      "  dphi = Ls / (ms*rs**2) * dtau\n",
      "/var/folders/44/p2_ff2f90sl05kvyytv51rq00000gn/T/ipykernel_3949/1571925363.py:39: RuntimeWarning: overflow encountered in multiply\n",
      "  dr2 = (dphi_dtau**2*rs*a) + (c**2*r_sch*a/(2*rs**2)) - (G*M*ms*a/(2*rs**2)) * dtau\n",
      "/var/folders/44/p2_ff2f90sl05kvyytv51rq00000gn/T/ipykernel_3949/1571925363.py:39: RuntimeWarning: overflow encountered in square\n",
      "  dr2 = (dphi_dtau**2*rs*a) + (c**2*r_sch*a/(2*rs**2)) - (G*M*ms*a/(2*rs**2)) * dtau\n",
      "/var/folders/44/p2_ff2f90sl05kvyytv51rq00000gn/T/ipykernel_3949/1571925363.py:32: RuntimeWarning: overflow encountered in square\n",
      "  dphi = Ls / (ms*rs**2) * dtau\n",
      "/var/folders/44/p2_ff2f90sl05kvyytv51rq00000gn/T/ipykernel_3949/1571925363.py:32: RuntimeWarning: overflow encountered in multiply\n",
      "  dphi = Ls / (ms*rs**2) * dtau\n",
      "/var/folders/44/p2_ff2f90sl05kvyytv51rq00000gn/T/ipykernel_3949/1571925363.py:39: RuntimeWarning: overflow encountered in multiply\n",
      "  dr2 = (dphi_dtau**2*rs*a) + (c**2*r_sch*a/(2*rs**2)) - (G*M*ms*a/(2*rs**2)) * dtau\n",
      "/var/folders/44/p2_ff2f90sl05kvyytv51rq00000gn/T/ipykernel_3949/1571925363.py:39: RuntimeWarning: overflow encountered in square\n",
      "  dr2 = (dphi_dtau**2*rs*a) + (c**2*r_sch*a/(2*rs**2)) - (G*M*ms*a/(2*rs**2)) * dtau\n"
     ]
    },
    {
     "name": "stdout",
     "output_type": "stream",
     "text": [
      "7877 7877\n",
      "7877 7877\n",
      "7877 7877\n",
      "7877 7877\n"
     ]
    },
    {
     "name": "stderr",
     "output_type": "stream",
     "text": [
      "/var/folders/44/p2_ff2f90sl05kvyytv51rq00000gn/T/ipykernel_3949/1571925363.py:32: RuntimeWarning: overflow encountered in square\n",
      "  dphi = Ls / (ms*rs**2) * dtau\n",
      "/var/folders/44/p2_ff2f90sl05kvyytv51rq00000gn/T/ipykernel_3949/1571925363.py:32: RuntimeWarning: overflow encountered in multiply\n",
      "  dphi = Ls / (ms*rs**2) * dtau\n",
      "/var/folders/44/p2_ff2f90sl05kvyytv51rq00000gn/T/ipykernel_3949/1571925363.py:39: RuntimeWarning: overflow encountered in multiply\n",
      "  dr2 = (dphi_dtau**2*rs*a) + (c**2*r_sch*a/(2*rs**2)) - (G*M*ms*a/(2*rs**2)) * dtau\n",
      "/var/folders/44/p2_ff2f90sl05kvyytv51rq00000gn/T/ipykernel_3949/1571925363.py:39: RuntimeWarning: overflow encountered in square\n",
      "  dr2 = (dphi_dtau**2*rs*a) + (c**2*r_sch*a/(2*rs**2)) - (G*M*ms*a/(2*rs**2)) * dtau\n",
      "/var/folders/44/p2_ff2f90sl05kvyytv51rq00000gn/T/ipykernel_3949/1571925363.py:32: RuntimeWarning: overflow encountered in square\n",
      "  dphi = Ls / (ms*rs**2) * dtau\n",
      "/var/folders/44/p2_ff2f90sl05kvyytv51rq00000gn/T/ipykernel_3949/1571925363.py:32: RuntimeWarning: overflow encountered in multiply\n",
      "  dphi = Ls / (ms*rs**2) * dtau\n",
      "/var/folders/44/p2_ff2f90sl05kvyytv51rq00000gn/T/ipykernel_3949/1571925363.py:39: RuntimeWarning: overflow encountered in multiply\n",
      "  dr2 = (dphi_dtau**2*rs*a) + (c**2*r_sch*a/(2*rs**2)) - (G*M*ms*a/(2*rs**2)) * dtau\n",
      "/var/folders/44/p2_ff2f90sl05kvyytv51rq00000gn/T/ipykernel_3949/1571925363.py:39: RuntimeWarning: overflow encountered in square\n",
      "  dr2 = (dphi_dtau**2*rs*a) + (c**2*r_sch*a/(2*rs**2)) - (G*M*ms*a/(2*rs**2)) * dtau\n",
      "/var/folders/44/p2_ff2f90sl05kvyytv51rq00000gn/T/ipykernel_3949/1571925363.py:32: RuntimeWarning: overflow encountered in square\n",
      "  dphi = Ls / (ms*rs**2) * dtau\n",
      "/var/folders/44/p2_ff2f90sl05kvyytv51rq00000gn/T/ipykernel_3949/1571925363.py:32: RuntimeWarning: overflow encountered in multiply\n",
      "  dphi = Ls / (ms*rs**2) * dtau\n",
      "/var/folders/44/p2_ff2f90sl05kvyytv51rq00000gn/T/ipykernel_3949/1571925363.py:39: RuntimeWarning: overflow encountered in multiply\n",
      "  dr2 = (dphi_dtau**2*rs*a) + (c**2*r_sch*a/(2*rs**2)) - (G*M*ms*a/(2*rs**2)) * dtau\n",
      "/var/folders/44/p2_ff2f90sl05kvyytv51rq00000gn/T/ipykernel_3949/1571925363.py:39: RuntimeWarning: overflow encountered in square\n",
      "  dr2 = (dphi_dtau**2*rs*a) + (c**2*r_sch*a/(2*rs**2)) - (G*M*ms*a/(2*rs**2)) * dtau\n",
      "/var/folders/44/p2_ff2f90sl05kvyytv51rq00000gn/T/ipykernel_3949/1571925363.py:32: RuntimeWarning: overflow encountered in square\n",
      "  dphi = Ls / (ms*rs**2) * dtau\n",
      "/var/folders/44/p2_ff2f90sl05kvyytv51rq00000gn/T/ipykernel_3949/1571925363.py:32: RuntimeWarning: overflow encountered in multiply\n",
      "  dphi = Ls / (ms*rs**2) * dtau\n",
      "/var/folders/44/p2_ff2f90sl05kvyytv51rq00000gn/T/ipykernel_3949/1571925363.py:39: RuntimeWarning: overflow encountered in multiply\n",
      "  dr2 = (dphi_dtau**2*rs*a) + (c**2*r_sch*a/(2*rs**2)) - (G*M*ms*a/(2*rs**2)) * dtau\n",
      "/var/folders/44/p2_ff2f90sl05kvyytv51rq00000gn/T/ipykernel_3949/1571925363.py:39: RuntimeWarning: overflow encountered in square\n",
      "  dr2 = (dphi_dtau**2*rs*a) + (c**2*r_sch*a/(2*rs**2)) - (G*M*ms*a/(2*rs**2)) * dtau\n"
     ]
    },
    {
     "name": "stdout",
     "output_type": "stream",
     "text": [
      "7877 7877\n",
      "7877 7877\n",
      "7877 7877\n",
      "7877 7877\n"
     ]
    },
    {
     "name": "stderr",
     "output_type": "stream",
     "text": [
      "/var/folders/44/p2_ff2f90sl05kvyytv51rq00000gn/T/ipykernel_3949/1571925363.py:32: RuntimeWarning: overflow encountered in square\n",
      "  dphi = Ls / (ms*rs**2) * dtau\n",
      "/var/folders/44/p2_ff2f90sl05kvyytv51rq00000gn/T/ipykernel_3949/1571925363.py:32: RuntimeWarning: overflow encountered in multiply\n",
      "  dphi = Ls / (ms*rs**2) * dtau\n",
      "/var/folders/44/p2_ff2f90sl05kvyytv51rq00000gn/T/ipykernel_3949/1571925363.py:39: RuntimeWarning: overflow encountered in square\n",
      "  dr2 = (dphi_dtau**2*rs*a) + (c**2*r_sch*a/(2*rs**2)) - (G*M*ms*a/(2*rs**2)) * dtau\n",
      "/var/folders/44/p2_ff2f90sl05kvyytv51rq00000gn/T/ipykernel_3949/1571925363.py:39: RuntimeWarning: overflow encountered in multiply\n",
      "  dr2 = (dphi_dtau**2*rs*a) + (c**2*r_sch*a/(2*rs**2)) - (G*M*ms*a/(2*rs**2)) * dtau\n",
      "/var/folders/44/p2_ff2f90sl05kvyytv51rq00000gn/T/ipykernel_3949/1571925363.py:32: RuntimeWarning: overflow encountered in square\n",
      "  dphi = Ls / (ms*rs**2) * dtau\n",
      "/var/folders/44/p2_ff2f90sl05kvyytv51rq00000gn/T/ipykernel_3949/1571925363.py:32: RuntimeWarning: overflow encountered in multiply\n",
      "  dphi = Ls / (ms*rs**2) * dtau\n",
      "/var/folders/44/p2_ff2f90sl05kvyytv51rq00000gn/T/ipykernel_3949/1571925363.py:39: RuntimeWarning: overflow encountered in multiply\n",
      "  dr2 = (dphi_dtau**2*rs*a) + (c**2*r_sch*a/(2*rs**2)) - (G*M*ms*a/(2*rs**2)) * dtau\n",
      "/var/folders/44/p2_ff2f90sl05kvyytv51rq00000gn/T/ipykernel_3949/1571925363.py:39: RuntimeWarning: overflow encountered in square\n",
      "  dr2 = (dphi_dtau**2*rs*a) + (c**2*r_sch*a/(2*rs**2)) - (G*M*ms*a/(2*rs**2)) * dtau\n",
      "/var/folders/44/p2_ff2f90sl05kvyytv51rq00000gn/T/ipykernel_3949/1571925363.py:42: RuntimeWarning: overflow encountered in add\n",
      "  rs += dr\n",
      "/var/folders/44/p2_ff2f90sl05kvyytv51rq00000gn/T/ipykernel_3949/1571925363.py:32: RuntimeWarning: overflow encountered in square\n",
      "  dphi = Ls / (ms*rs**2) * dtau\n",
      "/var/folders/44/p2_ff2f90sl05kvyytv51rq00000gn/T/ipykernel_3949/1571925363.py:32: RuntimeWarning: overflow encountered in multiply\n",
      "  dphi = Ls / (ms*rs**2) * dtau\n",
      "/var/folders/44/p2_ff2f90sl05kvyytv51rq00000gn/T/ipykernel_3949/1571925363.py:39: RuntimeWarning: overflow encountered in multiply\n",
      "  dr2 = (dphi_dtau**2*rs*a) + (c**2*r_sch*a/(2*rs**2)) - (G*M*ms*a/(2*rs**2)) * dtau\n",
      "/var/folders/44/p2_ff2f90sl05kvyytv51rq00000gn/T/ipykernel_3949/1571925363.py:39: RuntimeWarning: overflow encountered in square\n",
      "  dr2 = (dphi_dtau**2*rs*a) + (c**2*r_sch*a/(2*rs**2)) - (G*M*ms*a/(2*rs**2)) * dtau\n",
      "/var/folders/44/p2_ff2f90sl05kvyytv51rq00000gn/T/ipykernel_3949/1571925363.py:32: RuntimeWarning: overflow encountered in square\n",
      "  dphi = Ls / (ms*rs**2) * dtau\n",
      "/var/folders/44/p2_ff2f90sl05kvyytv51rq00000gn/T/ipykernel_3949/1571925363.py:32: RuntimeWarning: overflow encountered in multiply\n",
      "  dphi = Ls / (ms*rs**2) * dtau\n",
      "/var/folders/44/p2_ff2f90sl05kvyytv51rq00000gn/T/ipykernel_3949/1571925363.py:39: RuntimeWarning: overflow encountered in multiply\n",
      "  dr2 = (dphi_dtau**2*rs*a) + (c**2*r_sch*a/(2*rs**2)) - (G*M*ms*a/(2*rs**2)) * dtau\n",
      "/var/folders/44/p2_ff2f90sl05kvyytv51rq00000gn/T/ipykernel_3949/1571925363.py:39: RuntimeWarning: overflow encountered in square\n",
      "  dr2 = (dphi_dtau**2*rs*a) + (c**2*r_sch*a/(2*rs**2)) - (G*M*ms*a/(2*rs**2)) * dtau\n",
      "/var/folders/44/p2_ff2f90sl05kvyytv51rq00000gn/T/ipykernel_3949/1571925363.py:41: RuntimeWarning: overflow encountered in add\n",
      "  dr += dr2\n"
     ]
    },
    {
     "name": "stdout",
     "output_type": "stream",
     "text": [
      "7877 7877\n",
      "7877 7877\n",
      "7877 7877\n",
      "7877 7877\n"
     ]
    },
    {
     "name": "stderr",
     "output_type": "stream",
     "text": [
      "/var/folders/44/p2_ff2f90sl05kvyytv51rq00000gn/T/ipykernel_3949/1571925363.py:32: RuntimeWarning: overflow encountered in square\n",
      "  dphi = Ls / (ms*rs**2) * dtau\n",
      "/var/folders/44/p2_ff2f90sl05kvyytv51rq00000gn/T/ipykernel_3949/1571925363.py:32: RuntimeWarning: overflow encountered in multiply\n",
      "  dphi = Ls / (ms*rs**2) * dtau\n",
      "/var/folders/44/p2_ff2f90sl05kvyytv51rq00000gn/T/ipykernel_3949/1571925363.py:39: RuntimeWarning: overflow encountered in multiply\n",
      "  dr2 = (dphi_dtau**2*rs*a) + (c**2*r_sch*a/(2*rs**2)) - (G*M*ms*a/(2*rs**2)) * dtau\n",
      "/var/folders/44/p2_ff2f90sl05kvyytv51rq00000gn/T/ipykernel_3949/1571925363.py:39: RuntimeWarning: overflow encountered in square\n",
      "  dr2 = (dphi_dtau**2*rs*a) + (c**2*r_sch*a/(2*rs**2)) - (G*M*ms*a/(2*rs**2)) * dtau\n",
      "/var/folders/44/p2_ff2f90sl05kvyytv51rq00000gn/T/ipykernel_3949/1571925363.py:32: RuntimeWarning: overflow encountered in square\n",
      "  dphi = Ls / (ms*rs**2) * dtau\n",
      "/var/folders/44/p2_ff2f90sl05kvyytv51rq00000gn/T/ipykernel_3949/1571925363.py:32: RuntimeWarning: overflow encountered in multiply\n",
      "  dphi = Ls / (ms*rs**2) * dtau\n",
      "/var/folders/44/p2_ff2f90sl05kvyytv51rq00000gn/T/ipykernel_3949/1571925363.py:39: RuntimeWarning: overflow encountered in multiply\n",
      "  dr2 = (dphi_dtau**2*rs*a) + (c**2*r_sch*a/(2*rs**2)) - (G*M*ms*a/(2*rs**2)) * dtau\n",
      "/var/folders/44/p2_ff2f90sl05kvyytv51rq00000gn/T/ipykernel_3949/1571925363.py:39: RuntimeWarning: overflow encountered in square\n",
      "  dr2 = (dphi_dtau**2*rs*a) + (c**2*r_sch*a/(2*rs**2)) - (G*M*ms*a/(2*rs**2)) * dtau\n",
      "/var/folders/44/p2_ff2f90sl05kvyytv51rq00000gn/T/ipykernel_3949/1571925363.py:32: RuntimeWarning: overflow encountered in square\n",
      "  dphi = Ls / (ms*rs**2) * dtau\n",
      "/var/folders/44/p2_ff2f90sl05kvyytv51rq00000gn/T/ipykernel_3949/1571925363.py:32: RuntimeWarning: overflow encountered in multiply\n",
      "  dphi = Ls / (ms*rs**2) * dtau\n",
      "/var/folders/44/p2_ff2f90sl05kvyytv51rq00000gn/T/ipykernel_3949/1571925363.py:39: RuntimeWarning: overflow encountered in multiply\n",
      "  dr2 = (dphi_dtau**2*rs*a) + (c**2*r_sch*a/(2*rs**2)) - (G*M*ms*a/(2*rs**2)) * dtau\n",
      "/var/folders/44/p2_ff2f90sl05kvyytv51rq00000gn/T/ipykernel_3949/1571925363.py:39: RuntimeWarning: overflow encountered in square\n",
      "  dr2 = (dphi_dtau**2*rs*a) + (c**2*r_sch*a/(2*rs**2)) - (G*M*ms*a/(2*rs**2)) * dtau\n",
      "/var/folders/44/p2_ff2f90sl05kvyytv51rq00000gn/T/ipykernel_3949/1571925363.py:32: RuntimeWarning: overflow encountered in square\n",
      "  dphi = Ls / (ms*rs**2) * dtau\n",
      "/var/folders/44/p2_ff2f90sl05kvyytv51rq00000gn/T/ipykernel_3949/1571925363.py:32: RuntimeWarning: overflow encountered in multiply\n",
      "  dphi = Ls / (ms*rs**2) * dtau\n",
      "/var/folders/44/p2_ff2f90sl05kvyytv51rq00000gn/T/ipykernel_3949/1571925363.py:39: RuntimeWarning: overflow encountered in multiply\n",
      "  dr2 = (dphi_dtau**2*rs*a) + (c**2*r_sch*a/(2*rs**2)) - (G*M*ms*a/(2*rs**2)) * dtau\n",
      "/var/folders/44/p2_ff2f90sl05kvyytv51rq00000gn/T/ipykernel_3949/1571925363.py:39: RuntimeWarning: overflow encountered in square\n",
      "  dr2 = (dphi_dtau**2*rs*a) + (c**2*r_sch*a/(2*rs**2)) - (G*M*ms*a/(2*rs**2)) * dtau\n"
     ]
    },
    {
     "name": "stdout",
     "output_type": "stream",
     "text": [
      "7877 7877\n",
      "7877 7877\n",
      "7877 7877\n",
      "7877 7877\n"
     ]
    },
    {
     "name": "stderr",
     "output_type": "stream",
     "text": [
      "/var/folders/44/p2_ff2f90sl05kvyytv51rq00000gn/T/ipykernel_3949/1571925363.py:32: RuntimeWarning: overflow encountered in square\n",
      "  dphi = Ls / (ms*rs**2) * dtau\n",
      "/var/folders/44/p2_ff2f90sl05kvyytv51rq00000gn/T/ipykernel_3949/1571925363.py:32: RuntimeWarning: overflow encountered in multiply\n",
      "  dphi = Ls / (ms*rs**2) * dtau\n",
      "/var/folders/44/p2_ff2f90sl05kvyytv51rq00000gn/T/ipykernel_3949/1571925363.py:39: RuntimeWarning: overflow encountered in multiply\n",
      "  dr2 = (dphi_dtau**2*rs*a) + (c**2*r_sch*a/(2*rs**2)) - (G*M*ms*a/(2*rs**2)) * dtau\n",
      "/var/folders/44/p2_ff2f90sl05kvyytv51rq00000gn/T/ipykernel_3949/1571925363.py:39: RuntimeWarning: overflow encountered in square\n",
      "  dr2 = (dphi_dtau**2*rs*a) + (c**2*r_sch*a/(2*rs**2)) - (G*M*ms*a/(2*rs**2)) * dtau\n",
      "/var/folders/44/p2_ff2f90sl05kvyytv51rq00000gn/T/ipykernel_3949/1571925363.py:32: RuntimeWarning: overflow encountered in square\n",
      "  dphi = Ls / (ms*rs**2) * dtau\n",
      "/var/folders/44/p2_ff2f90sl05kvyytv51rq00000gn/T/ipykernel_3949/1571925363.py:32: RuntimeWarning: overflow encountered in multiply\n",
      "  dphi = Ls / (ms*rs**2) * dtau\n",
      "/var/folders/44/p2_ff2f90sl05kvyytv51rq00000gn/T/ipykernel_3949/1571925363.py:39: RuntimeWarning: overflow encountered in multiply\n",
      "  dr2 = (dphi_dtau**2*rs*a) + (c**2*r_sch*a/(2*rs**2)) - (G*M*ms*a/(2*rs**2)) * dtau\n",
      "/var/folders/44/p2_ff2f90sl05kvyytv51rq00000gn/T/ipykernel_3949/1571925363.py:39: RuntimeWarning: overflow encountered in square\n",
      "  dr2 = (dphi_dtau**2*rs*a) + (c**2*r_sch*a/(2*rs**2)) - (G*M*ms*a/(2*rs**2)) * dtau\n",
      "/var/folders/44/p2_ff2f90sl05kvyytv51rq00000gn/T/ipykernel_3949/1571925363.py:32: RuntimeWarning: overflow encountered in square\n",
      "  dphi = Ls / (ms*rs**2) * dtau\n",
      "/var/folders/44/p2_ff2f90sl05kvyytv51rq00000gn/T/ipykernel_3949/1571925363.py:32: RuntimeWarning: overflow encountered in multiply\n",
      "  dphi = Ls / (ms*rs**2) * dtau\n",
      "/var/folders/44/p2_ff2f90sl05kvyytv51rq00000gn/T/ipykernel_3949/1571925363.py:39: RuntimeWarning: overflow encountered in multiply\n",
      "  dr2 = (dphi_dtau**2*rs*a) + (c**2*r_sch*a/(2*rs**2)) - (G*M*ms*a/(2*rs**2)) * dtau\n",
      "/var/folders/44/p2_ff2f90sl05kvyytv51rq00000gn/T/ipykernel_3949/1571925363.py:39: RuntimeWarning: overflow encountered in square\n",
      "  dr2 = (dphi_dtau**2*rs*a) + (c**2*r_sch*a/(2*rs**2)) - (G*M*ms*a/(2*rs**2)) * dtau\n",
      "/var/folders/44/p2_ff2f90sl05kvyytv51rq00000gn/T/ipykernel_3949/1571925363.py:32: RuntimeWarning: overflow encountered in square\n",
      "  dphi = Ls / (ms*rs**2) * dtau\n",
      "/var/folders/44/p2_ff2f90sl05kvyytv51rq00000gn/T/ipykernel_3949/1571925363.py:32: RuntimeWarning: overflow encountered in multiply\n",
      "  dphi = Ls / (ms*rs**2) * dtau\n",
      "/var/folders/44/p2_ff2f90sl05kvyytv51rq00000gn/T/ipykernel_3949/1571925363.py:39: RuntimeWarning: overflow encountered in multiply\n",
      "  dr2 = (dphi_dtau**2*rs*a) + (c**2*r_sch*a/(2*rs**2)) - (G*M*ms*a/(2*rs**2)) * dtau\n",
      "/var/folders/44/p2_ff2f90sl05kvyytv51rq00000gn/T/ipykernel_3949/1571925363.py:39: RuntimeWarning: overflow encountered in square\n",
      "  dr2 = (dphi_dtau**2*rs*a) + (c**2*r_sch*a/(2*rs**2)) - (G*M*ms*a/(2*rs**2)) * dtau\n"
     ]
    },
    {
     "name": "stdout",
     "output_type": "stream",
     "text": [
      "7877 7877\n",
      "7877 7877\n",
      "7877 7877\n",
      "7877 7877\n"
     ]
    },
    {
     "name": "stderr",
     "output_type": "stream",
     "text": [
      "/var/folders/44/p2_ff2f90sl05kvyytv51rq00000gn/T/ipykernel_3949/1571925363.py:32: RuntimeWarning: overflow encountered in square\n",
      "  dphi = Ls / (ms*rs**2) * dtau\n",
      "/var/folders/44/p2_ff2f90sl05kvyytv51rq00000gn/T/ipykernel_3949/1571925363.py:32: RuntimeWarning: overflow encountered in multiply\n",
      "  dphi = Ls / (ms*rs**2) * dtau\n",
      "/var/folders/44/p2_ff2f90sl05kvyytv51rq00000gn/T/ipykernel_3949/1571925363.py:39: RuntimeWarning: overflow encountered in multiply\n",
      "  dr2 = (dphi_dtau**2*rs*a) + (c**2*r_sch*a/(2*rs**2)) - (G*M*ms*a/(2*rs**2)) * dtau\n",
      "/var/folders/44/p2_ff2f90sl05kvyytv51rq00000gn/T/ipykernel_3949/1571925363.py:39: RuntimeWarning: overflow encountered in square\n",
      "  dr2 = (dphi_dtau**2*rs*a) + (c**2*r_sch*a/(2*rs**2)) - (G*M*ms*a/(2*rs**2)) * dtau\n",
      "/var/folders/44/p2_ff2f90sl05kvyytv51rq00000gn/T/ipykernel_3949/1571925363.py:32: RuntimeWarning: overflow encountered in square\n",
      "  dphi = Ls / (ms*rs**2) * dtau\n",
      "/var/folders/44/p2_ff2f90sl05kvyytv51rq00000gn/T/ipykernel_3949/1571925363.py:32: RuntimeWarning: overflow encountered in multiply\n",
      "  dphi = Ls / (ms*rs**2) * dtau\n",
      "/var/folders/44/p2_ff2f90sl05kvyytv51rq00000gn/T/ipykernel_3949/1571925363.py:39: RuntimeWarning: overflow encountered in multiply\n",
      "  dr2 = (dphi_dtau**2*rs*a) + (c**2*r_sch*a/(2*rs**2)) - (G*M*ms*a/(2*rs**2)) * dtau\n",
      "/var/folders/44/p2_ff2f90sl05kvyytv51rq00000gn/T/ipykernel_3949/1571925363.py:39: RuntimeWarning: overflow encountered in square\n",
      "  dr2 = (dphi_dtau**2*rs*a) + (c**2*r_sch*a/(2*rs**2)) - (G*M*ms*a/(2*rs**2)) * dtau\n",
      "/var/folders/44/p2_ff2f90sl05kvyytv51rq00000gn/T/ipykernel_3949/1571925363.py:32: RuntimeWarning: overflow encountered in square\n",
      "  dphi = Ls / (ms*rs**2) * dtau\n",
      "/var/folders/44/p2_ff2f90sl05kvyytv51rq00000gn/T/ipykernel_3949/1571925363.py:32: RuntimeWarning: overflow encountered in multiply\n",
      "  dphi = Ls / (ms*rs**2) * dtau\n",
      "/var/folders/44/p2_ff2f90sl05kvyytv51rq00000gn/T/ipykernel_3949/1571925363.py:39: RuntimeWarning: overflow encountered in multiply\n",
      "  dr2 = (dphi_dtau**2*rs*a) + (c**2*r_sch*a/(2*rs**2)) - (G*M*ms*a/(2*rs**2)) * dtau\n",
      "/var/folders/44/p2_ff2f90sl05kvyytv51rq00000gn/T/ipykernel_3949/1571925363.py:39: RuntimeWarning: overflow encountered in square\n",
      "  dr2 = (dphi_dtau**2*rs*a) + (c**2*r_sch*a/(2*rs**2)) - (G*M*ms*a/(2*rs**2)) * dtau\n",
      "/var/folders/44/p2_ff2f90sl05kvyytv51rq00000gn/T/ipykernel_3949/1571925363.py:32: RuntimeWarning: overflow encountered in square\n",
      "  dphi = Ls / (ms*rs**2) * dtau\n",
      "/var/folders/44/p2_ff2f90sl05kvyytv51rq00000gn/T/ipykernel_3949/1571925363.py:32: RuntimeWarning: overflow encountered in multiply\n",
      "  dphi = Ls / (ms*rs**2) * dtau\n",
      "/var/folders/44/p2_ff2f90sl05kvyytv51rq00000gn/T/ipykernel_3949/1571925363.py:39: RuntimeWarning: overflow encountered in multiply\n",
      "  dr2 = (dphi_dtau**2*rs*a) + (c**2*r_sch*a/(2*rs**2)) - (G*M*ms*a/(2*rs**2)) * dtau\n",
      "/var/folders/44/p2_ff2f90sl05kvyytv51rq00000gn/T/ipykernel_3949/1571925363.py:39: RuntimeWarning: overflow encountered in square\n",
      "  dr2 = (dphi_dtau**2*rs*a) + (c**2*r_sch*a/(2*rs**2)) - (G*M*ms*a/(2*rs**2)) * dtau\n"
     ]
    },
    {
     "name": "stdout",
     "output_type": "stream",
     "text": [
      "7877 7877\n",
      "7877 7877\n",
      "7877 7877\n",
      "7877 7877\n"
     ]
    },
    {
     "data": {
      "image/png": "[encoded data removed]",
      "text/plain": [
       "<Figure size 2400x1200 with 1 Axes>"
      ]
     },
     "metadata": {},
     "output_type": "display_data"
    }
   ],
   "source": [
    "fig = plt.figure(figsize=(12.,6.), dpi=200)\n",
    "iterations = 200\n",
    "view = 5\n",
    "\n",
    "# Tidal radius circle\n",
    "rt_phis = np.linspace(0, 2*np.pi, 100000)\n",
    "rt_rs = np.ones(100000)*rt\n",
    "xt, yt = to_cart(rt_rs, rt_phis)\n",
    "\n",
    "r_sch_phis = np.linspace(0, 2*np.pi, 100000)\n",
    "r_sch_rs = np.ones(100000)*3*sch_radius(bh_mass)\n",
    "xsch, ysch = to_cart(r_sch_rs, r_sch_phis)\n",
    "\n",
    "print(r_sch_rs/conversion, rt_rs/conversion)\n",
    "\n",
    "with writer.saving(fig, str(datetime.now()) + \".mp4\", dpi=200):\n",
    "    for i in range(iterations):\n",
    "        # Update graph\n",
    "        plt.clf()\n",
    "        x, y = to_cart(rs, phis)\n",
    "        plt.plot(x, y, '.', markersize=1, color='gold')\n",
    "        plt.plot(0, 0, '.', markersize=4, color='black')\n",
    "        # Tidal radius\n",
    "        plt.plot(xt, yt, '.', color='red', markersize=1)\n",
    "        plt.plot(xsch, ysch, '.', color='gray', markersize=0.5)\n",
    "        plt.xlim(-view,view)\n",
    "        plt.ylim(-view,view)\n",
    "        plt.gca().set_aspect('equal')\n",
    "        plt.gca().set_xticks([])\n",
    "        plt.gca().set_yticks([])\n",
    "        # Update derivatives\n",
    "        dphi = Ls / (ms*rs**2) * dtau\n",
    "        \n",
    "        # Update coordinates\n",
    "        phis += dphi\n",
    "        \n",
    "        # --------------------\n",
    "#         E = energy(v, rs, m, M)\n",
    "        dr2 = (dphi_dtau**2*rs*a) + (c**2*r_sch*a/(2*rs**2)) - (G*M*ms*a/(2*rs**2)) * dtau\n",
    "        print(len(dr2), len(dr))\n",
    "        dr += dr2\n",
    "        rs += dr\n",
    "        \n",
    "        \n",
    "        \n",
    "#         en = EN(ms*c**2 - 0.5*ms*v**2)\n",
    "#         dr_dtau = calc_dr_dtau_2(en, ms, M, rs)\n",
    "#         dr = dr_dtau * dtau\n",
    "        # --------------------\n",
    "        \n",
    "#         L = ang_momentum(m,v,rs)\n",
    "#         dphi_dtau = L / (m*rs**2)\n",
    "#         dphi = dphi_dtau * dtau\n",
    "#         dphi += acc_phi\n",
    "        \n",
    "#         dr = rs**0.95\n",
    "#         rs -= dr # * (-rs/np.abs(rs))\n",
    "        # Update animation\n",
    "        writer.grab_frame()"
   ]
  },
  {
   "cell_type": "code",
   "execution_count": 2339,
   "id": "a3c82287",
   "metadata": {},
   "outputs": [
    {
     "data": {
      "text/plain": [
       "(1189630266.102978, 0.00010158671584038188)"
      ]
     },
     "execution_count": 2339,
     "metadata": {},
     "output_type": "execute_result"
    }
   ],
   "source": [
    "rt, 3*sch_radius(bh_mass)/conversion"
   ]
  },
  {
   "cell_type": "code",
   "execution_count": 2340,
   "id": "7ab8c0ac",
   "metadata": {},
   "outputs": [
    {
     "data": {
      "text/plain": [
       "3.3862238613460623e-05"
      ]
     },
     "execution_count": 2340,
     "metadata": {},
     "output_type": "execute_result"
    }
   ],
   "source": [
    "r_sch/conversion"
   ]
  },
  {
   "cell_type": "code",
   "execution_count": 2341,
   "id": "f1be56b3",
   "metadata": {},
   "outputs": [
    {
     "data": {
      "text/plain": [
       "'2023-05-05 20:36:02.334819'"
      ]
     },
     "execution_count": 2341,
     "metadata": {},
     "output_type": "execute_result"
    }
   ],
   "source": [
    "str(datetime.now())"
   ]
  },
  {
   "cell_type": "code",
   "execution_count": 2342,
   "id": "1265a3d2",
   "metadata": {},
   "outputs": [
    {
     "data": {
      "text/plain": [
       "array([0.00010159, 0.00010159, 0.00010159, ..., 0.00010159, 0.00010159,\n",
       "       0.00010159])"
      ]
     },
     "execution_count": 2342,
     "metadata": {},
     "output_type": "execute_result"
    }
   ],
   "source": [
    "xsch"
   ]
  },
  {
   "cell_type": "code",
   "execution_count": null,
   "id": "8b65f276",
   "metadata": {},
   "outputs": [],
   "source": []
  },
  {
   "cell_type": "code",
   "execution_count": null,
   "id": "1f99ada2",
   "metadata": {},
   "outputs": [],
   "source": []
  },
  {
   "cell_type": "code",
   "execution_count": null,
   "id": "26eff59d",
   "metadata": {},
   "outputs": [],
   "source": []
  },
  {
   "cell_type": "code",
   "execution_count": null,
   "id": "ed53ecea",
   "metadata": {},
   "outputs": [],
   "source": []
  },
  {
   "cell_type": "code",
   "execution_count": null,
   "id": "f671a198",
   "metadata": {},
   "outputs": [],
   "source": []
  },
  {
   "cell_type": "markdown",
   "id": "16257264",
   "metadata": {},
   "source": [
    "```python\n",
    "r = np.arange(0, 2, 0.01)\n",
    "theta = 2 * np.pi * r\n",
    "fig = plt.figure(figsize=(12.,6.), dpi=200)\n",
    "\n",
    "with writer.saving(fig, \"test2.mp4\", dpi=200):\n",
    "    for i in range(len(r)):\n",
    "        plt.clf()\n",
    "        x, y = cart(r[i], theta[i])\n",
    "        plt.plot(x, y, '.')\n",
    "        plt.xlim(-3,3)\n",
    "        plt.ylim(-3,3)\n",
    "        plt.grid(True)\n",
    "        writer.grab_frame()\n",
    "```"
   ]
  }
 ],
 "metadata": {
  "kernelspec": {
   "display_name": "Python 3 (ipykernel)",
   "language": "python",
   "name": "python3"
  },
  "language_info": {
   "codemirror_mode": {
    "name": "ipython",
    "version": 3
   },
   "file_extension": ".py",
   "mimetype": "text/x-python",
   "name": "python",
   "nbconvert_exporter": "python",
   "pygments_lexer": "ipython3",
   "version": "3.9.12"
  }
 },
 "nbformat": 4,
 "nbformat_minor": 5
}
