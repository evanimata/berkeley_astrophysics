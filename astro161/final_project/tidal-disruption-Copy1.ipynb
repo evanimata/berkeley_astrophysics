{
 "cells": [
  {
   "cell_type": "markdown",
   "id": "3e217ca8",
   "metadata": {},
   "source": [
    "# ASTRON C161 Final Project\n",
    "---"
   ]
  },
  {
   "cell_type": "code",
   "execution_count": 341,
   "id": "b99c9e9a",
   "metadata": {},
   "outputs": [],
   "source": [
    "import numpy as np\n",
    "from scipy import constants as consts\n",
    "import matplotlib.pyplot as plt\n",
    "from matplotlib.animation import FFMpegWriter\n",
    "metadata = dict(title='Simulation', artist='Matplotlib',comment='Oh my')\n",
    "writer = FFMpegWriter(fps=15, metadata=metadata)"
   ]
  },
  {
   "cell_type": "markdown",
   "id": "21564388",
   "metadata": {},
   "source": [
    "## 1) Setting Up\n",
    "---"
   ]
  },
  {
   "cell_type": "markdown",
   "id": "2f810705",
   "metadata": {},
   "source": [
    "### 1.1: Defining constants"
   ]
  },
  {
   "cell_type": "code",
   "execution_count": 342,
   "id": "e6cdbc57",
   "metadata": {},
   "outputs": [],
   "source": [
    "# Constants\n",
    "G = consts.G\n",
    "c = consts.c\n",
    "solar_radius = 6.957e8\n",
    "solar_mass = 1.989e30\n",
    "bh_mass = 4.1e6*solar_mass # Mass of SMBH Sagittarius A\n",
    "bh_mass = 5*solar_mass"
   ]
  },
  {
   "cell_type": "markdown",
   "id": "447a0c53",
   "metadata": {},
   "source": [
    "### 1.2: Useful functions + classes"
   ]
  },
  {
   "cell_type": "code",
   "execution_count": 343,
   "id": "40436bb9",
   "metadata": {},
   "outputs": [],
   "source": [
    "def to_cart(r, theta, convert=True):\n",
    "    '''Convert set of polar coordinates to cartesian\n",
    "    The conversion parameter automatically assumes \n",
    "    that you need to convert the pixel units\n",
    "    and will divide the r values by 3e8'''\n",
    "    global conversion\n",
    "    if convert:\n",
    "        r = np.copy(r)\n",
    "        r/=conversion\n",
    "    return r*np.cos(theta), r*np.sin(theta)\n",
    "\n",
    "def to_polar(x, y):\n",
    "    '''Convert polar coordinates to cartesian'''\n",
    "    return np.sqrt(x**2 + y**2), np.arctan(y/x)\n",
    "\n",
    "def sch_radius(M):\n",
    "    '''Calculate the schwarzchild radius for a given M mass black hole'''\n",
    "    global G, c\n",
    "    return 2*G*M / c**2\n",
    "\n",
    "def tidal_radius(m, M, r_star):\n",
    "    '''Calculate the tidal radius, given a star and a black hole'''\n",
    "    return (M/m)**(1/3) * r_star\n",
    "\n",
    "def calc_dr_dtau(E, L, r, m=solar_mass, M=bh_mass):\n",
    "    '''Calculate dr/dtau'''\n",
    "    rs = sch_radius(M)\n",
    "    p1 = E**2 / (m**2 * c**2)\n",
    "    p2 = (L**2 / (m**2 * r**2)) * (1-(rs/r))\n",
    "    p3 = c**2 * (1-(rs/r))\n",
    "#     print(p1, p2, p3)\n",
    "    return (p1-p2-p3)**(0.5)\n",
    "\n",
    "def energy(v, r, m, M):\n",
    "    '''Calculate the Lagrangian'''\n",
    "    global G\n",
    "    return 0.5*m*v**2 - G*M*m/r\n",
    "    \n",
    "def ang_momentum(m, v, b):\n",
    "    return m*v*b\n",
    "\n",
    "def scale_up(rs):\n",
    "    global conversion\n",
    "    return np.copy(rs) * conversion"
   ]
  },
  {
   "cell_type": "markdown",
   "id": "093c8907",
   "metadata": {},
   "source": [
    "## 2) Initialization of Variables\n",
    "---"
   ]
  },
  {
   "cell_type": "markdown",
   "id": "c58186f8",
   "metadata": {},
   "source": [
    "Get the tidal radius via $r_T = (\\frac{M_{\\text{bh}}}{M_{\\text{star}}})^{1/3} R_{\\text{star}}$"
   ]
  },
  {
   "cell_type": "code",
   "execution_count": 344,
   "id": "f32eaf96",
   "metadata": {},
   "outputs": [],
   "source": [
    "dtau = 0.1\n",
    "rt = tidal_radius(solar_mass, bh_mass, solar_radius)\n",
    "conversion = rt/3 + (0.1*rt/3) # One graphpixel corresponds to this many meters, which was calculated based on the tidal radius"
   ]
  },
  {
   "cell_type": "code",
   "execution_count": 345,
   "id": "3b3eb824",
   "metadata": {},
   "outputs": [
    {
     "name": "stdout",
     "output_type": "stream",
     "text": [
      "4.362e+08\n"
     ]
    }
   ],
   "source": [
    "print('{:.3e}'.format(conversion))"
   ]
  },
  {
   "cell_type": "markdown",
   "id": "7d0c78ee",
   "metadata": {},
   "source": [
    "Swarm initiation"
   ]
  },
  {
   "cell_type": "code",
   "execution_count": 346,
   "id": "fab123a1",
   "metadata": {},
   "outputs": [],
   "source": [
    "N_swarm = 100000 # number of swarm particles\n",
    "b = rt # + (0.1*rt) # impact parameter, a little bigger than tidal radius\n",
    "swarm = np.random.uniform(rt-solar_radius, rt+solar_radius, N_swarm-1)\n",
    "\n",
    "# Initial coordinates of the star in cartesian (b/c it's easier to work with)\n",
    "np.random.seed(2023)\n",
    "rs = np.append(b, swarm) # an array of starting radius (r) positions\n",
    "init_xs = rs/conversion\n",
    "init_ys = np.random.uniform(-solar_radius/conversion, solar_radius/conversion, N_swarm)\n",
    "# init_ys = rs/conversion\n",
    "# init_xs = np.random.uniform(-solar_radius/conversion, solar_radius/conversion, N_swarm)\n",
    "\n",
    "# Edit the star so that it's a circle, like in Burkhard's class\n",
    "circle = lambda x, y, r: np.sqrt((x-(rt/conversion))**2 + y**2) <= r\n",
    "idxs = np.where(circle(init_xs,init_ys,solar_radius/conversion))[0]\n",
    "init_xs = init_xs[idxs]\n",
    "init_ys = init_ys[idxs]\n",
    "\n",
    "rs, phis = to_polar(init_xs, init_ys)\n",
    "rs = scale_up(rs)"
   ]
  },
  {
   "cell_type": "markdown",
   "id": "79670f1b",
   "metadata": {},
   "source": [
    "### 2.1: Angular momentum and $\\frac{d\\phi}{d\\tau}$\n",
    "* $L = mvb$\n",
    "* $\\frac{d\\phi}{d\\tau} = \\frac{L}{mr^2}$"
   ]
  },
  {
   "cell_type": "code",
   "execution_count": 347,
   "id": "50db44b6",
   "metadata": {},
   "outputs": [
    {
     "data": {
      "text/plain": [
       "0.061134349721543836"
      ]
     },
     "execution_count": 347,
     "metadata": {},
     "output_type": "execute_result"
    }
   ],
   "source": [
    "m = solar_mass\n",
    "M = bh_mass\n",
    "b = rt + (0.1*rt) # impact parameter, a little bigger than tidal radius\n",
    "v = 8e8\n",
    "\n",
    "L = ang_momentum(m,v,b)\n",
    "\n",
    "dphi_dtau = L / (m*b**2)\n",
    "dphi = dphi_dtau * dtau\n",
    "dphi"
   ]
  },
  {
   "cell_type": "markdown",
   "id": "39244594",
   "metadata": {},
   "source": [
    "### 2.2: Energy and $\\frac{dr}{d\\tau}$"
   ]
  },
  {
   "cell_type": "code",
   "execution_count": 348,
   "id": "bb45e7e8",
   "metadata": {},
   "outputs": [
    {
     "data": {
      "text/plain": [
       "1.2024034775247383"
      ]
     },
     "execution_count": 348,
     "metadata": {},
     "output_type": "execute_result"
    }
   ],
   "source": [
    "r = b\n",
    "E = energy(v, r, m, M)\n",
    "dr_dtau = calc_dr_dtau(E, L, rt)\n",
    "0.5*m*v**2 - G*M*m/r\n",
    "dr_dtau/conversion"
   ]
  },
  {
   "cell_type": "code",
   "execution_count": 349,
   "id": "eec42316",
   "metadata": {},
   "outputs": [
    {
     "name": "stderr",
     "output_type": "stream",
     "text": [
      "/var/folders/44/p2_ff2f90sl05kvyytv51rq00000gn/T/ipykernel_2231/3296607164.py:32: RuntimeWarning: invalid value encountered in sqrt\n",
      "  return (p1-p2-p3)**(0.5)\n"
     ]
    },
    {
     "data": {
      "text/plain": [
       "array([0.12707755, 0.16169204, 0.19641972, ..., 0.16267786,        nan,\n",
       "       0.13629604])"
      ]
     },
     "execution_count": 349,
     "metadata": {},
     "output_type": "execute_result"
    }
   ],
   "source": [
    "E = energy(v, rs, m, M)\n",
    "dr_dtau = calc_dr_dtau(E, L, rs)\n",
    "dr = dr_dtau * dtau / conversion\n",
    "dr"
   ]
  },
  {
   "cell_type": "markdown",
   "id": "065488b2",
   "metadata": {},
   "source": [
    "### Test simulation with only $\\frac{d\\phi}{d\\tau}$"
   ]
  },
  {
   "cell_type": "code",
   "execution_count": 350,
   "id": "2db9031f",
   "metadata": {},
   "outputs": [
    {
     "data": {
      "image/png": "[encoded data removed]",
      "text/plain": [
       "<Figure size 2400x1200 with 1 Axes>"
      ]
     },
     "metadata": {
      "needs_background": "light"
     },
     "output_type": "display_data"
    }
   ],
   "source": [
    "fig = plt.figure(figsize=(12.,6.), dpi=200)\n",
    "iterations = 100\n",
    "view = 5\n",
    "\n",
    "# Tidal radius circle\n",
    "rt_phis = np.linspace(0, 2*np.pi, 100000)\n",
    "rt_rs = np.ones(100000)*rt\n",
    "xx, yy = to_cart(rt_rs, rt_phis)\n",
    "\n",
    "with writer.saving(fig, \"energy_test.mp4\", dpi=200):\n",
    "    for i in range(iterations):\n",
    "        # Update graph\n",
    "        plt.clf()\n",
    "        x, y = to_cart(rs, phis)\n",
    "        plt.plot(x, y, '.', markersize=1, color='gold')\n",
    "        plt.plot(0, 0, '.', markersize=15, color='black')\n",
    "        plt.plot(xx, yy, '.', color='red', markersize=1)\n",
    "        plt.xlim(-view,view)\n",
    "        plt.ylim(-view,view)\n",
    "        plt.gca().set_aspect('equal')\n",
    "        # Update coordinates\n",
    "        phis += dphi\n",
    "        E = energy(v, rs, m, M)\n",
    "        L = ang_momentum(m,v,rs)\n",
    "        dphi_dtau = L / (m*b**2)\n",
    "        dphi = dphi_dtau * dtau\n",
    "#         dr_dtau = calc_dr_dtau(E, L, rs)\n",
    "#         dr = dr_dtau * dtau\n",
    "#         dr = rs**0.95\n",
    "#         rs -= dr # * (-rs/np.abs(rs))\n",
    "        # Update animation\n",
    "        writer.grab_frame()"
   ]
  },
  {
   "cell_type": "code",
   "execution_count": 351,
   "id": "ea6fbce4",
   "metadata": {},
   "outputs": [
    {
     "data": {
      "text/plain": [
       "(1189630266.102978, 14770.632775277025)"
      ]
     },
     "execution_count": 351,
     "metadata": {},
     "output_type": "execute_result"
    }
   ],
   "source": [
    "rt, sch_radius(bh_mass)"
   ]
  },
  {
   "cell_type": "code",
   "execution_count": 352,
   "id": "7ab8c0ac",
   "metadata": {},
   "outputs": [
    {
     "data": {
      "text/plain": [
       "array([1.21514125e+09, 1.40899796e+09, 1.86404864e+09, ...,\n",
       "       1.41682740e+09,            nan, 1.25481854e+09])"
      ]
     },
     "execution_count": 352,
     "metadata": {},
     "output_type": "execute_result"
    }
   ],
   "source": [
    "rs - dr"
   ]
  },
  {
   "cell_type": "code",
   "execution_count": null,
   "id": "f1be56b3",
   "metadata": {},
   "outputs": [],
   "source": []
  },
  {
   "cell_type": "code",
   "execution_count": null,
   "id": "1265a3d2",
   "metadata": {},
   "outputs": [],
   "source": []
  },
  {
   "cell_type": "code",
   "execution_count": null,
   "id": "8b65f276",
   "metadata": {},
   "outputs": [],
   "source": []
  },
  {
   "cell_type": "code",
   "execution_count": null,
   "id": "1f99ada2",
   "metadata": {},
   "outputs": [],
   "source": []
  },
  {
   "cell_type": "code",
   "execution_count": null,
   "id": "26eff59d",
   "metadata": {},
   "outputs": [],
   "source": []
  },
  {
   "cell_type": "code",
   "execution_count": null,
   "id": "ed53ecea",
   "metadata": {},
   "outputs": [],
   "source": []
  },
  {
   "cell_type": "code",
   "execution_count": null,
   "id": "f671a198",
   "metadata": {},
   "outputs": [],
   "source": []
  },
  {
   "cell_type": "markdown",
   "id": "16257264",
   "metadata": {},
   "source": [
    "```python\n",
    "r = np.arange(0, 2, 0.01)\n",
    "theta = 2 * np.pi * r\n",
    "fig = plt.figure(figsize=(12.,6.), dpi=200)\n",
    "\n",
    "with writer.saving(fig, \"test2.mp4\", dpi=200):\n",
    "    for i in range(len(r)):\n",
    "        plt.clf()\n",
    "        x, y = cart(r[i], theta[i])\n",
    "        plt.plot(x, y, '.')\n",
    "        plt.xlim(-3,3)\n",
    "        plt.ylim(-3,3)\n",
    "        plt.grid(True)\n",
    "        writer.grab_frame()\n",
    "```"
   ]
  }
 ],
 "metadata": {
  "kernelspec": {
   "display_name": "Python 3 (ipykernel)",
   "language": "python",
   "name": "python3"
  },
  "language_info": {
   "codemirror_mode": {
    "name": "ipython",
    "version": 3
   },
   "file_extension": ".py",
   "mimetype": "text/x-python",
   "name": "python",
   "nbconvert_exporter": "python",
   "pygments_lexer": "ipython3",
   "version": "3.9.12"
  }
 },
 "nbformat": 4,
 "nbformat_minor": 5
}
