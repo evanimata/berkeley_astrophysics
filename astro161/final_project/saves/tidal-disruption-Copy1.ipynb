{
 "cells": [
  {
   "cell_type": "markdown",
   "id": "3e217ca8",
   "metadata": {},
   "source": [
    "# ASTRON C161 Final Project\n",
    "---\n",
    "* Notes\n",
    "    * Coordinate conversion: 1 coordinate corresponds to a distance of 3e8 meters"
   ]
  },
  {
   "cell_type": "code",
   "execution_count": 232,
   "id": "9a3ba3d4",
   "metadata": {},
   "outputs": [],
   "source": [
    "conversion = 3e8 # One pixel corresponds to 3e8 meters, which was calculated based on the tidal radius"
   ]
  },
  {
   "cell_type": "code",
   "execution_count": 233,
   "id": "b99c9e9a",
   "metadata": {},
   "outputs": [],
   "source": [
    "import numpy as np\n",
    "from scipy import constants as consts\n",
    "import matplotlib.pyplot as plt\n",
    "from matplotlib.animation import FFMpegWriter\n",
    "metadata = dict(title='Simulation', artist='Matplotlib',comment='Oh my')\n",
    "writer = FFMpegWriter(fps=15, metadata=metadata)"
   ]
  },
  {
   "cell_type": "markdown",
   "id": "21564388",
   "metadata": {},
   "source": [
    "## 1) Setting Up\n",
    "---"
   ]
  },
  {
   "cell_type": "markdown",
   "id": "2f810705",
   "metadata": {},
   "source": [
    "### 1.1: Defining constants"
   ]
  },
  {
   "cell_type": "code",
   "execution_count": 234,
   "id": "e6cdbc57",
   "metadata": {},
   "outputs": [],
   "source": [
    "# Constants\n",
    "G = consts.G\n",
    "c = consts.c\n",
    "solar_radius = 6.957e8\n",
    "solar_mass = 1.989e30\n",
    "bh_mass = 5*solar_mass # can change this later"
   ]
  },
  {
   "cell_type": "markdown",
   "id": "447a0c53",
   "metadata": {},
   "source": [
    "### 1.2: Useful functions + classes"
   ]
  },
  {
   "cell_type": "code",
   "execution_count": 235,
   "id": "40436bb9",
   "metadata": {},
   "outputs": [],
   "source": [
    "def to_cart(r, theta, convert=True):\n",
    "    '''Convert set of polar coordinates to cartesian\n",
    "    The conversion parameter automatically assumes \n",
    "    that you need to convert the pixel units\n",
    "    and will divide the r values by 3e8'''\n",
    "    global conversion\n",
    "    if convert:\n",
    "        r = np.copy(r)\n",
    "        r/=conversion\n",
    "    return r*np.cos(theta), r*np.sin(theta)\n",
    "\n",
    "def to_polar(x, y):\n",
    "    '''Convert polar coordinates to cartesian'''\n",
    "    return np.sqrt(x**2 + y**2), np.arctan(y/x)\n",
    "\n",
    "def sch_radius(M):\n",
    "    '''Calculate the schwarzchild radius for a given M mass black hole'''\n",
    "    global G, c\n",
    "    return 2*G*M / c**2\n",
    "\n",
    "def tidal_radius(m, M, r_star):\n",
    "    '''Calculate the tidal radius, given a star and a black hole'''\n",
    "    return (M/m)**(1/3) * r_star\n",
    "\n",
    "def calc_dr_dtau(E, L, r, m=solar_mass, M=bh_mass):\n",
    "    '''Calculate dr/dtau'''\n",
    "    rs = sch_radius(M)\n",
    "    p1 = E**2 / (m**2 * c**2)\n",
    "    p2 = (L**2 / (m**2 * r**2)) * (1-(rs/r))\n",
    "    p3 = c**2 * (1-(rs/r))\n",
    "#     print(p1, p2, p3)\n",
    "    return (p1-p2-p3)**(0.5)\n",
    "\n",
    "def energy(v, r, m, M):\n",
    "    global G\n",
    "    return 0.5*m*v**2 - G*M*m/r\n",
    "    \n",
    "def ang_momentum(m, v, b):\n",
    "    return m*v*b\n",
    "\n",
    "def scale_up(rs):\n",
    "    global conversion\n",
    "    return np.copy(rs) * conversion"
   ]
  },
  {
   "cell_type": "markdown",
   "id": "093c8907",
   "metadata": {},
   "source": [
    "## 2) Initialization of Variables\n",
    "---"
   ]
  },
  {
   "cell_type": "markdown",
   "id": "c58186f8",
   "metadata": {},
   "source": [
    "Get the tidal radius via $r_T = (\\frac{M_{\\text{bh}}}{M_{\\text{star}}})^{1/3} R_{\\text{star}}$"
   ]
  },
  {
   "cell_type": "code",
   "execution_count": 236,
   "id": "f32eaf96",
   "metadata": {},
   "outputs": [],
   "source": [
    "dtau = 0.1\n",
    "rt = tidal_radius(solar_mass, bh_mass, solar_radius)"
   ]
  },
  {
   "cell_type": "markdown",
   "id": "7d0c78ee",
   "metadata": {},
   "source": [
    "Swarm initiation"
   ]
  },
  {
   "cell_type": "code",
   "execution_count": 237,
   "id": "fab123a1",
   "metadata": {},
   "outputs": [],
   "source": [
    "N_swarm = 100000 # number of swarm particles\n",
    "b = rt + (0.1*rt) # impact parameter, a little bigger than tidal radius\n",
    "swarm = np.random.uniform(rt-solar_radius, rt+solar_radius, N_swarm-1)\n",
    "\n",
    "# Initial coordinates of the star in cartesian (b/c it's easier to work with)\n",
    "np.random.seed(2023)\n",
    "rs = np.append(b, swarm) # an array of starting radius (r) positions\n",
    "init_xs = rs/conversion\n",
    "init_ys = np.random.uniform(-solar_radius/conversion, solar_radius/conversion, N_swarm)\n",
    "\n",
    "# Edit the star so that it's a circle, like in Burkhard's class\n",
    "circle = lambda x, y, r: np.sqrt((x-(rt/conversion))**2 + y**2) <= r\n",
    "idxs = np.where(circle(init_xs,init_ys,solar_radius/conversion))[0]\n",
    "init_xs = init_xs[idxs]\n",
    "init_ys = init_ys[idxs]\n",
    "\n",
    "rs, phis = to_polar(init_xs, init_ys)\n",
    "rs = scale_up(rs)"
   ]
  },
  {
   "cell_type": "markdown",
   "id": "79670f1b",
   "metadata": {},
   "source": [
    "### 2.1: Angular momentum and $\\frac{d\\phi}{d\\tau}$\n",
    "* $L = mvb$\n",
    "* $\\frac{d\\phi}{d\\tau} = \\frac{L}{mr^2}$"
   ]
  },
  {
   "cell_type": "code",
   "execution_count": 238,
   "id": "50db44b6",
   "metadata": {},
   "outputs": [
    {
     "data": {
      "text/plain": [
       "1.2188660975732803"
      ]
     },
     "execution_count": 238,
     "metadata": {},
     "output_type": "execute_result"
    }
   ],
   "source": [
    "m = solar_mass\n",
    "M = bh_mass\n",
    "b = rt + (0.1*rt) # impact parameter, a little bigger than tidal radius\n",
    "v = 1.595e9\n",
    "\n",
    "L = ang_momentum(m,v,b)\n",
    "\n",
    "dphi_dtau = L / (m*b**2)\n",
    "dphi = dphi_dtau * dtau\n",
    "dphi"
   ]
  },
  {
   "cell_type": "markdown",
   "id": "39244594",
   "metadata": {},
   "source": [
    "### 2.2: Energy and $\\frac{dr}{d\\tau}$"
   ]
  },
  {
   "cell_type": "code",
   "execution_count": 239,
   "id": "bb45e7e8",
   "metadata": {},
   "outputs": [
    {
     "data": {
      "text/plain": [
       "12.838627876659338"
      ]
     },
     "execution_count": 239,
     "metadata": {},
     "output_type": "execute_result"
    }
   ],
   "source": [
    "r = b\n",
    "E = energy(v, r, m, M)\n",
    "dr_dtau = calc_dr_dtau(E, L, rt)\n",
    "0.5*m*v**2 - G*M*m/r\n",
    "dr_dtau/conversion"
   ]
  },
  {
   "cell_type": "code",
   "execution_count": 240,
   "id": "7b23140d",
   "metadata": {},
   "outputs": [
    {
     "data": {
      "text/plain": [
       "array([13.10511178, 13.21557076, 13.60523321, ..., 13.22573374,\n",
       "        4.61861418, 12.97272923])"
      ]
     },
     "execution_count": 240,
     "metadata": {},
     "output_type": "execute_result"
    }
   ],
   "source": [
    "E = energy(v, rs, m, M)\n",
    "dr_dtau = calc_dr_dtau(E, L, rs)\n",
    "dr = dr_dtau * dtau / conversion\n",
    "dr"
   ]
  },
  {
   "cell_type": "markdown",
   "id": "065488b2",
   "metadata": {},
   "source": [
    "### Test simulation with only $\\frac{d\\phi}{d\\tau}$"
   ]
  },
  {
   "cell_type": "code",
   "execution_count": 241,
   "id": "2a62c480",
   "metadata": {},
   "outputs": [
    {
     "data": {
      "image/png": "[encoded data removed]",
      "text/plain": [
       "<Figure size 2400x1200 with 1 Axes>"
      ]
     },
     "metadata": {
      "needs_background": "light"
     },
     "output_type": "display_data"
    }
   ],
   "source": [
    "fig = plt.figure(figsize=(12.,6.), dpi=200)\n",
    "view = 7.5\n",
    "\n",
    "with writer.saving(fig, \"test5.mp4\", dpi=200):\n",
    "    for i in range(50):\n",
    "        # Update graph\n",
    "        plt.clf()\n",
    "        x, y = to_cart(rs, phis)\n",
    "        plt.plot(x, y, '.', markersize=1, color='gold')\n",
    "        plt.plot(0, 0, '.', markersize=15, color='black')\n",
    "        plt.xlim(-view,view)\n",
    "        plt.ylim(-view,view)\n",
    "        plt.gca().set_aspect('equal')\n",
    "        # Update coordinates\n",
    "        phis += dphi\n",
    "        E = energy(v, rs, m, M)\n",
    "        dr_dtau = calc_dr_dtau(E, L, rs)\n",
    "        dr = dr_dtau * dtau / conversion\n",
    "        rs += dr\n",
    "        # Update animation\n",
    "        writer.grab_frame()"
   ]
  },
  {
   "cell_type": "code",
   "execution_count": null,
   "id": "7ab8c0ac",
   "metadata": {},
   "outputs": [],
   "source": []
  },
  {
   "cell_type": "code",
   "execution_count": null,
   "id": "f1be56b3",
   "metadata": {},
   "outputs": [],
   "source": []
  },
  {
   "cell_type": "code",
   "execution_count": null,
   "id": "1265a3d2",
   "metadata": {},
   "outputs": [],
   "source": []
  },
  {
   "cell_type": "code",
   "execution_count": null,
   "id": "8b65f276",
   "metadata": {},
   "outputs": [],
   "source": []
  },
  {
   "cell_type": "code",
   "execution_count": null,
   "id": "1f99ada2",
   "metadata": {},
   "outputs": [],
   "source": []
  },
  {
   "cell_type": "code",
   "execution_count": null,
   "id": "26eff59d",
   "metadata": {},
   "outputs": [],
   "source": []
  },
  {
   "cell_type": "code",
   "execution_count": null,
   "id": "ed53ecea",
   "metadata": {},
   "outputs": [],
   "source": []
  },
  {
   "cell_type": "code",
   "execution_count": null,
   "id": "f671a198",
   "metadata": {},
   "outputs": [],
   "source": []
  },
  {
   "cell_type": "markdown",
   "id": "16257264",
   "metadata": {},
   "source": [
    "```python\n",
    "r = np.arange(0, 2, 0.01)\n",
    "theta = 2 * np.pi * r\n",
    "fig = plt.figure(figsize=(12.,6.), dpi=200)\n",
    "\n",
    "with writer.saving(fig, \"test2.mp4\", dpi=200):\n",
    "    for i in range(len(r)):\n",
    "        plt.clf()\n",
    "        x, y = cart(r[i], theta[i])\n",
    "        plt.plot(x, y, '.')\n",
    "        plt.xlim(-3,3)\n",
    "        plt.ylim(-3,3)\n",
    "        plt.grid(True)\n",
    "        writer.grab_frame()\n",
    "```"
   ]
  }
 ],
 "metadata": {
  "kernelspec": {
   "display_name": "Python 3 (ipykernel)",
   "language": "python",
   "name": "python3"
  },
  "language_info": {
   "codemirror_mode": {
    "name": "ipython",
    "version": 3
   },
   "file_extension": ".py",
   "mimetype": "text/x-python",
   "name": "python",
   "nbconvert_exporter": "python",
   "pygments_lexer": "ipython3",
   "version": "3.9.12"
  }
 },
 "nbformat": 4,
 "nbformat_minor": 5
}
